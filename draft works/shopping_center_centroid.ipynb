{
 "cells": [
  {
   "cell_type": "code",
   "execution_count": 9,
   "metadata": {},
   "outputs": [],
   "source": [
    "import pandas as pd\n",
    "import re\n",
    "import numpy as np"
   ]
  },
  {
   "cell_type": "code",
   "execution_count": 10,
   "metadata": {},
   "outputs": [
    {
     "data": {
      "text/html": [
       "<div>\n",
       "<style scoped>\n",
       "    .dataframe tbody tr th:only-of-type {\n",
       "        vertical-align: middle;\n",
       "    }\n",
       "\n",
       "    .dataframe tbody tr th {\n",
       "        vertical-align: top;\n",
       "    }\n",
       "\n",
       "    .dataframe thead th {\n",
       "        text-align: right;\n",
       "    }\n",
       "</style>\n",
       "<table border=\"1\" class=\"dataframe\">\n",
       "  <thead>\n",
       "    <tr style=\"text-align: right;\">\n",
       "      <th></th>\n",
       "      <th>Shopping Name</th>\n",
       "      <th>Longitude</th>\n",
       "      <th>Latitude</th>\n",
       "    </tr>\n",
       "  </thead>\n",
       "  <tbody>\n",
       "    <tr>\n",
       "      <th>0</th>\n",
       "      <td>206 BOURKE STREET</td>\n",
       "      <td>144.967</td>\n",
       "      <td>-37.8127</td>\n",
       "    </tr>\n",
       "    <tr>\n",
       "      <th>1</th>\n",
       "      <td>ACLAND COURT SHOPPING CENTRE</td>\n",
       "      <td>144.967</td>\n",
       "      <td>-37.8127</td>\n",
       "    </tr>\n",
       "    <tr>\n",
       "      <th>2</th>\n",
       "      <td>ALTONA GATE SHOPPING CENTRE</td>\n",
       "      <td>144.967</td>\n",
       "      <td>-37.8127</td>\n",
       "    </tr>\n",
       "    <tr>\n",
       "      <th>3</th>\n",
       "      <td>BALNARRING VILLAGE SHOPPING CENTRE</td>\n",
       "      <td>144.967</td>\n",
       "      <td>-37.8127</td>\n",
       "    </tr>\n",
       "    <tr>\n",
       "      <th>4</th>\n",
       "      <td>BARKLY SQUARE</td>\n",
       "      <td>144.967</td>\n",
       "      <td>-37.8127</td>\n",
       "    </tr>\n",
       "  </tbody>\n",
       "</table>\n",
       "</div>"
      ],
      "text/plain": [
       "                        Shopping Name Longitude Latitude\n",
       "0                   206 BOURKE STREET   144.967 -37.8127\n",
       "1        ACLAND COURT SHOPPING CENTRE   144.967 -37.8127\n",
       "2         ALTONA GATE SHOPPING CENTRE   144.967 -37.8127\n",
       "3  BALNARRING VILLAGE SHOPPING CENTRE   144.967 -37.8127\n",
       "4                       BARKLY SQUARE   144.967 -37.8127"
      ]
     },
     "execution_count": 10,
     "metadata": {},
     "output_type": "execute_result"
    }
   ],
   "source": [
    "df_shopping = pd.read_csv('../data/raw/shopping_center.csv',header = None)\n",
    "df_shopping.head()\n",
    "df_shopping = df_shopping.loc[:,[0,1]]\n",
    "df_shopping.head()\n",
    "df_shopping = df_shopping.values\n",
    "Y = []\n",
    "X = []\n",
    "for info in df_shopping[:,1]:\n",
    "  Y.append(re.findall(r\"\\d+\\.?\\d*\",df_shopping[0,1])[0])\n",
    "  X.append(re.findall(r\"\\d+\\.?\\d*\",df_shopping[0,1])[1])\n",
    "Y = np.asarray(Y,dtype = float).reshape(-1,1)*-1.0\n",
    "X = np.asarray(X,dtype = float).reshape(-1,1)\n",
    "df_shopping = np.concatenate((df_shopping[:,0].reshape(-1,1),X,Y),axis = 1)\n",
    "df_shopping = pd.DataFrame(df_shopping)\n",
    "df_shopping.columns = ['Shopping Name','Longitude','Latitude']\n",
    "df_shopping.head()"
   ]
  },
  {
   "cell_type": "code",
   "execution_count": 14,
   "metadata": {},
   "outputs": [
    {
     "data": {
      "text/html": [
       "<div>\n",
       "<style scoped>\n",
       "    .dataframe tbody tr th:only-of-type {\n",
       "        vertical-align: middle;\n",
       "    }\n",
       "\n",
       "    .dataframe tbody tr th {\n",
       "        vertical-align: top;\n",
       "    }\n",
       "\n",
       "    .dataframe thead th {\n",
       "        text-align: right;\n",
       "    }\n",
       "</style>\n",
       "<table border=\"1\" class=\"dataframe\">\n",
       "  <thead>\n",
       "    <tr style=\"text-align: right;\">\n",
       "      <th></th>\n",
       "      <th>Postcode</th>\n",
       "      <th>Centroid</th>\n",
       "    </tr>\n",
       "  </thead>\n",
       "  <tbody>\n",
       "    <tr>\n",
       "      <th>0</th>\n",
       "      <td>3000</td>\n",
       "      <td>-37.817403 144.956776</td>\n",
       "    </tr>\n",
       "    <tr>\n",
       "      <th>1</th>\n",
       "      <td>3001</td>\n",
       "      <td>-37.817403 144.956776</td>\n",
       "    </tr>\n",
       "    <tr>\n",
       "      <th>2</th>\n",
       "      <td>3002</td>\n",
       "      <td>-37.818517 144.982207</td>\n",
       "    </tr>\n",
       "    <tr>\n",
       "      <th>3</th>\n",
       "      <td>3003</td>\n",
       "      <td>-37.810871 144.949592</td>\n",
       "    </tr>\n",
       "    <tr>\n",
       "      <th>4</th>\n",
       "      <td>3004</td>\n",
       "      <td>-37.844246 144.970161</td>\n",
       "    </tr>\n",
       "  </tbody>\n",
       "</table>\n",
       "</div>"
      ],
      "text/plain": [
       "   Postcode               Centroid\n",
       "0      3000  -37.817403 144.956776\n",
       "1      3001  -37.817403 144.956776\n",
       "2      3002  -37.818517 144.982207\n",
       "3      3003  -37.810871 144.949592\n",
       "4      3004  -37.844246 144.970161"
      ]
     },
     "execution_count": 14,
     "metadata": {},
     "output_type": "execute_result"
    }
   ],
   "source": [
    "centroid = pd.read_csv('../data/curated/centroid.csv')\n",
    "centroid = centroid.drop(columns='Unnamed: 0')\n",
    "centroid = centroid.dropna()\n",
    "centroid.head()"
   ]
  },
  {
   "cell_type": "code",
   "execution_count": null,
   "metadata": {},
   "outputs": [],
   "source": []
  }
 ],
 "metadata": {
  "kernelspec": {
   "display_name": "Python 3",
   "language": "python",
   "name": "python3"
  },
  "language_info": {
   "codemirror_mode": {
    "name": "ipython",
    "version": 3
   },
   "file_extension": ".py",
   "mimetype": "text/x-python",
   "name": "python",
   "nbconvert_exporter": "python",
   "pygments_lexer": "ipython3",
   "version": "3.8.5"
  }
 },
 "nbformat": 4,
 "nbformat_minor": 4
}
