{
 "cells": [
  {
   "cell_type": "code",
   "execution_count": 7,
   "metadata": {},
   "outputs": [],
   "source": [
    "import pandas as pd\n",
    "from sklearn import preprocessing\n",
    "from sklearn.model_selection import train_test_split\n",
    "import xgboost as xgb"
   ]
  },
  {
   "cell_type": "code",
   "execution_count": 8,
   "metadata": {},
   "outputs": [
    {
     "name": "stderr",
     "output_type": "stream",
     "text": [
      "C:\\Users\\yangl\\AppData\\Local\\Temp\\ipykernel_39772\\2746350923.py:1: DtypeWarning: Columns (11,14) have mixed types. Specify dtype option on import or set low_memory=False.\n",
      "  complete_data = pd.read_csv(\"../data/curated/complete_data.csv\")\n",
      "C:\\Users\\yangl\\AppData\\Local\\Temp\\ipykernel_39772\\2746350923.py:3: SettingWithCopyWarning: \n",
      "A value is trying to be set on a copy of a slice from a DataFrame.\n",
      "Try using .loc[row_indexer,col_indexer] = value instead\n",
      "\n",
      "See the caveats in the documentation: https://pandas.pydata.org/pandas-docs/stable/user_guide/indexing.html#returning-a-view-versus-a-copy\n",
      "  data['Count_School'] = data['Count_School'].fillna(value = 0)\n",
      "C:\\Users\\yangl\\AppData\\Local\\Temp\\ipykernel_39772\\2746350923.py:4: SettingWithCopyWarning: \n",
      "A value is trying to be set on a copy of a slice from a DataFrame.\n",
      "Try using .loc[row_indexer,col_indexer] = value instead\n",
      "\n",
      "See the caveats in the documentation: https://pandas.pydata.org/pandas-docs/stable/user_guide/indexing.html#returning-a-view-versus-a-copy\n",
      "  data['Count_Station'] = data['Count_Station'].fillna(value = 0)\n"
     ]
    }
   ],
   "source": [
    "complete_data = pd.read_csv(\"../data/curated/complete_data.csv\")\n",
    "data = complete_data[['Postcode','Baths','Population', 'Count_School', 'Count_Station','Bedrooms','Weekly Rental Price']]\n",
    "data['Count_School'] = data['Count_School'].fillna(value = 0)\n",
    "data['Count_Station'] = data['Count_Station'].fillna(value = 0)\n",
    "data = data.dropna(axis=0)"
   ]
  },
  {
   "cell_type": "code",
   "execution_count": 9,
   "metadata": {},
   "outputs": [],
   "source": [
    "data = data[(data['Baths'] > 0) & (data['Bedrooms'] > 0)]"
   ]
  },
  {
   "cell_type": "code",
   "execution_count": 10,
   "metadata": {},
   "outputs": [],
   "source": [
    "y = data['Weekly Rental Price']\n",
    "x = data[['Postcode','Baths', 'Population', 'Count_School', 'Count_Station', 'Bedrooms']]\n",
    "min_max_scaler = preprocessing.MinMaxScaler()\n",
    "X_scale = min_max_scaler.fit_transform(x)"
   ]
  },
  {
   "cell_type": "code",
   "execution_count": 11,
   "metadata": {},
   "outputs": [],
   "source": [
    "X_train, X_test, Y_train, Y_test = train_test_split(X_scale, y, test_size=0.3)"
   ]
  },
  {
   "cell_type": "code",
   "execution_count": 13,
   "metadata": {},
   "outputs": [
    {
     "name": "stdout",
     "output_type": "stream",
     "text": [
      "[19:59:18] WARNING: C:/Users/administrator/workspace/xgboost-win64_release_1.6.0/src/learner.cc:627: \n",
      "Parameters: { \"silent\" } might not be used.\n",
      "\n",
      "  This could be a false alarm, with some parameters getting used by language bindings but\n",
      "  then being mistakenly passed down to XGBoost core, or some parameter actually being used\n",
      "  but getting flagged wrongly here. Please open an issue if you find any such cases.\n",
      "\n",
      "\n"
     ]
    },
    {
     "data": {
      "text/plain": [
       "XGBRegressor(base_score=0.5, booster='gbtree', callbacks=None,\n",
       "             colsample_bylevel=1, colsample_bynode=1, colsample_bytree=1,\n",
       "             early_stopping_rounds=None, enable_categorical=False,\n",
       "             eval_metric=None, gamma=0, gpu_id=-1, grow_policy='depthwise',\n",
       "             importance_type=None, interaction_constraints='',\n",
       "             learning_rate=0.1, max_bin=256, max_cat_to_onehot=4,\n",
       "             max_delta_step=0, max_depth=5, max_leaves=0, min_child_weight=1,\n",
       "             missing=nan, monotone_constraints='()', n_estimators=160, n_jobs=0,\n",
       "             num_parallel_tree=1, objective='reg:gamma', predictor='auto',\n",
       "             random_state=0, reg_alpha=0, ...)"
      ]
     },
     "execution_count": 13,
     "metadata": {},
     "output_type": "execute_result"
    }
   ],
   "source": [
    "model = xgb.XGBRegressor(max_depth=5, learning_rate=0.1, n_estimators=160, silent=False, objective='reg:gamma')\n",
    "model.fit(X_train, Y_train)"
   ]
  },
  {
   "cell_type": "code",
   "execution_count": 14,
   "metadata": {},
   "outputs": [],
   "source": [
    "pop = pd.read_csv(\"../data/curated/predicted_population.csv\")"
   ]
  },
  {
   "cell_type": "code",
   "execution_count": 15,
   "metadata": {},
   "outputs": [],
   "source": [
    "post_data = complete_data[['Postcode', 'Baths','Population', 'Count_School', 'Count_Station','Bedrooms','Weekly Rental Price']]"
   ]
  },
  {
   "cell_type": "code",
   "execution_count": 16,
   "metadata": {},
   "outputs": [],
   "source": [
    "pop_2023 = pop[['Postcode','2023']]\n",
    "pop_2024 = pop[['Postcode','2024']]\n",
    "pop_2025 = pop[['Postcode','2025']]"
   ]
  },
  {
   "cell_type": "code",
   "execution_count": 17,
   "metadata": {},
   "outputs": [],
   "source": [
    "pop_2023 = pd.merge(pop_2023, post_data, how='inner', on=['Postcode'])\n",
    "pop_2023 =pop_2023.drop(labels=['Population'],axis=1) \n",
    "pop_2023 = pop_2023[['Postcode', '2023', 'Baths', 'Count_School', 'Count_Station', 'Bedrooms']]"
   ]
  },
  {
   "cell_type": "code",
   "execution_count": 18,
   "metadata": {},
   "outputs": [],
   "source": [
    "pop_2023['Count_School'] = pop_2023['Count_School'].fillna(value = 0)\n",
    "pop_2023['Count_Station'] = pop_2023['Count_Station'].fillna(value = 0)\n",
    "pop_2023 = pop_2023.dropna(axis=0)\n",
    "pop_2023 = pop_2023[(pop_2023['Baths'] > 0) & (pop_2023['Bedrooms'] > 0)]\n",
    "pred_2023 = model.predict(pop_2023)\n",
    "data.insert(6, 'Pred_2023', pred_2023)"
   ]
  },
  {
   "cell_type": "code",
   "execution_count": 19,
   "metadata": {},
   "outputs": [],
   "source": [
    "pop_2024 = pd.merge(pop_2024, post_data, how='inner', on=['Postcode'])\n",
    "pop_2024 =pop_2024.drop(labels=['Population'],axis=1) \n",
    "pop_2024 = pop_2024[['Postcode', '2024', 'Baths', 'Count_School', 'Count_Station', 'Bedrooms']]"
   ]
  },
  {
   "cell_type": "code",
   "execution_count": 20,
   "metadata": {},
   "outputs": [],
   "source": [
    "pop_2024['Count_School'] = pop_2024['Count_School'].fillna(value = 0)\n",
    "pop_2024['Count_Station'] = pop_2024['Count_Station'].fillna(value = 0)\n",
    "pop_2024 = pop_2024.dropna(axis=0)\n",
    "pop_2024 = pop_2024[(pop_2024['Baths'] > 0) & (pop_2024['Bedrooms'] > 0)]\n",
    "pred_2024 = model.predict(pop_2024)\n",
    "data.insert(7, 'Pred_2024', pred_2024)"
   ]
  },
  {
   "cell_type": "code",
   "execution_count": 21,
   "metadata": {},
   "outputs": [],
   "source": [
    "pop_2025 = pd.merge(pop_2025, post_data, how='inner', on=['Postcode'])\n",
    "pop_2025 =pop_2025.drop(labels=['Population'],axis=1) \n",
    "pop_2025 = pop_2025[['Postcode', '2025', 'Baths', 'Count_School', 'Count_Station', 'Bedrooms']]"
   ]
  },
  {
   "cell_type": "code",
   "execution_count": 22,
   "metadata": {},
   "outputs": [],
   "source": [
    "pop_2025['Count_School'] = pop_2025['Count_School'].fillna(value = 0)\n",
    "pop_2025['Count_Station'] = pop_2025['Count_Station'].fillna(value = 0)\n",
    "pop_2025 = pop_2025.dropna(axis=0)\n",
    "pop_2025 = pop_2025[(pop_2025['Baths'] > 0) & (pop_2025['Bedrooms'] > 0)]\n",
    "pred_2025 = model.predict(pop_2025)\n",
    "data.insert(8, 'Pred_2025', pred_2025)"
   ]
  },
  {
   "cell_type": "code",
   "execution_count": 23,
   "metadata": {},
   "outputs": [],
   "source": [
    "data['rate_2023'] = (data['Pred_2023'] - data['Weekly Rental Price'])/data['Weekly Rental Price']"
   ]
  },
  {
   "cell_type": "code",
   "execution_count": 24,
   "metadata": {},
   "outputs": [],
   "source": [
    "data['rate_2024'] = (data['Pred_2024'] - data['Pred_2023'])/data['Pred_2023']"
   ]
  },
  {
   "cell_type": "code",
   "execution_count": 25,
   "metadata": {},
   "outputs": [],
   "source": [
    "data['rate_2025'] = (data['Pred_2025'] - data['Pred_2024'])/data['Pred_2024']"
   ]
  },
  {
   "cell_type": "code",
   "execution_count": 26,
   "metadata": {},
   "outputs": [],
   "source": [
    "data.to_csv(\"../data/curated/Xgboost_predi.csv\")"
   ]
  },
  {
   "cell_type": "code",
   "execution_count": null,
   "metadata": {},
   "outputs": [],
   "source": []
  }
 ],
 "metadata": {
  "kernelspec": {
   "display_name": "Python 3 (ipykernel)",
   "language": "python",
   "name": "python3"
  },
  "language_info": {
   "codemirror_mode": {
    "name": "ipython",
    "version": 3
   },
   "file_extension": ".py",
   "mimetype": "text/x-python",
   "name": "python",
   "nbconvert_exporter": "python",
   "pygments_lexer": "ipython3",
   "version": "3.9.12"
  }
 },
 "nbformat": 4,
 "nbformat_minor": 4
}
