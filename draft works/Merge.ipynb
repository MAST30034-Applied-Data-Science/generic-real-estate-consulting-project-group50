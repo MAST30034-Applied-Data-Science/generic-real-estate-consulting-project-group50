{
 "cells": [
  {
   "cell_type": "code",
   "execution_count": 82,
   "id": "393e0815",
   "metadata": {},
   "outputs": [],
   "source": [
    "import pandas as pd"
   ]
  },
  {
   "cell_type": "code",
   "execution_count": 83,
   "id": "d071903b",
   "metadata": {},
   "outputs": [],
   "source": [
    "property_data = pd.read_csv(\"../data/curated/processed_domain_data.csv\")\n",
    "hospital_data = pd.read_csv(\"../data/curated/closest_hospital.csv\")\n",
    "school_data = pd.read_csv(\"../data/curated/closest_school.csv\")\n",
    "population_data = pd.read_csv(\"../data/curated/predicted_population.csv\")\n",
    "crime_data = pd.read_csv(\"../data/curated/crime.csv\")\n",
    "bus_data = pd.read_csv(\"../data/curated/closest_bus_station.csv\")\n",
    "shopping_center_data = pd.read_csv(\"../data/curated/closest_shopping_center.csv\")\n",
    "income_data = pd.read_csv(\"../data/curated/income.csv\")\n",
    "count = pd.read_csv('../data/curated/count.csv')\n",
    "property_data.columns = ['Unnamed: 0', 'address','Postcode', 'bedrooms', 'baths', 'parking', 'property_type', 'property_features', 'freq', 'processed_price']"
   ]
  },
  {
   "cell_type": "code",
   "execution_count": 84,
   "id": "28c42d31",
   "metadata": {},
   "outputs": [
    {
     "data": {
      "text/html": [
       "<div>\n",
       "<style scoped>\n",
       "    .dataframe tbody tr th:only-of-type {\n",
       "        vertical-align: middle;\n",
       "    }\n",
       "\n",
       "    .dataframe tbody tr th {\n",
       "        vertical-align: top;\n",
       "    }\n",
       "\n",
       "    .dataframe thead th {\n",
       "        text-align: right;\n",
       "    }\n",
       "</style>\n",
       "<table border=\"1\" class=\"dataframe\">\n",
       "  <thead>\n",
       "    <tr style=\"text-align: right;\">\n",
       "      <th></th>\n",
       "      <th>Income Per Person</th>\n",
       "    </tr>\n",
       "    <tr>\n",
       "      <th>Postcode</th>\n",
       "      <th></th>\n",
       "    </tr>\n",
       "  </thead>\n",
       "  <tbody>\n",
       "    <tr>\n",
       "      <th>3000</th>\n",
       "      <td>11826.000000</td>\n",
       "    </tr>\n",
       "    <tr>\n",
       "      <th>3002</th>\n",
       "      <td>3899.000000</td>\n",
       "    </tr>\n",
       "    <tr>\n",
       "      <th>3003</th>\n",
       "      <td>14582.000000</td>\n",
       "    </tr>\n",
       "    <tr>\n",
       "      <th>3004</th>\n",
       "      <td>10933.666667</td>\n",
       "    </tr>\n",
       "    <tr>\n",
       "      <th>3005</th>\n",
       "      <td>11263.000000</td>\n",
       "    </tr>\n",
       "    <tr>\n",
       "      <th>...</th>\n",
       "      <td>...</td>\n",
       "    </tr>\n",
       "    <tr>\n",
       "      <th>3990</th>\n",
       "      <td>12695.000000</td>\n",
       "    </tr>\n",
       "    <tr>\n",
       "      <th>3991</th>\n",
       "      <td>12695.000000</td>\n",
       "    </tr>\n",
       "    <tr>\n",
       "      <th>3992</th>\n",
       "      <td>12695.000000</td>\n",
       "    </tr>\n",
       "    <tr>\n",
       "      <th>3995</th>\n",
       "      <td>12695.000000</td>\n",
       "    </tr>\n",
       "    <tr>\n",
       "      <th>3996</th>\n",
       "      <td>8846.000000</td>\n",
       "    </tr>\n",
       "  </tbody>\n",
       "</table>\n",
       "<p>696 rows × 1 columns</p>\n",
       "</div>"
      ],
      "text/plain": [
       "          Income Per Person\n",
       "Postcode                   \n",
       "3000           11826.000000\n",
       "3002            3899.000000\n",
       "3003           14582.000000\n",
       "3004           10933.666667\n",
       "3005           11263.000000\n",
       "...                     ...\n",
       "3990           12695.000000\n",
       "3991           12695.000000\n",
       "3992           12695.000000\n",
       "3995           12695.000000\n",
       "3996            8846.000000\n",
       "\n",
       "[696 rows x 1 columns]"
      ]
     },
     "execution_count": 84,
     "metadata": {},
     "output_type": "execute_result"
    }
   ],
   "source": [
    "income_data = income_data[['Postcode', 'Income Per Person']]\n",
    "income_data = income_data.groupby(['Postcode']).mean()\n",
    "income_data"
   ]
  },
  {
   "cell_type": "code",
   "execution_count": 85,
   "id": "283221d6",
   "metadata": {},
   "outputs": [],
   "source": [
    "hospital_data['Duration'] = hospital_data['Duration'].map(lambda x:x.rstrip(' mins'))"
   ]
  },
  {
   "cell_type": "code",
   "execution_count": 86,
   "id": "f4fe429d",
   "metadata": {},
   "outputs": [],
   "source": [
    "bus_data['Duration'] = bus_data['Duration'].map(lambda x:x.rstrip(' mins'))\n",
    "bus_data['Distance'] = bus_data['Distance'].map(lambda x:x.rstrip(' km'))\n",
    "school_data['Duration'] = school_data['Duration'].map(lambda x:x.rstrip(' mins'))\n",
    "shopping_center_data['Duration'] = shopping_center_data['Duration'].map(lambda x:x.rstrip(' mins'))\n",
    "shopping_center_data = shopping_center_data[['Postcode','Centroid','Shopping_Center_Name','Location','Distance','Duration']]\n",
    "shopping_center_data.columns = ['Postcode','Centroid_shop','Shopping_Center_Name','Location_shop','Distance_shop','Duration_shop']"
   ]
  },
  {
   "cell_type": "code",
   "execution_count": 87,
   "id": "5fdd39f0",
   "metadata": {},
   "outputs": [],
   "source": [
    "population_data = population_data[['Postcode', '2022']]"
   ]
  },
  {
   "cell_type": "code",
   "execution_count": 88,
   "id": "eb5bfe7d",
   "metadata": {},
   "outputs": [
    {
     "name": "stderr",
     "output_type": "stream",
     "text": [
      "/var/folders/t7/dnx7ygys43vfq00ddy255g680000gn/T/ipykernel_73673/2451451656.py:5: FutureWarning: Passing 'suffixes' which cause duplicate columns {'Unnamed: 0_x'} in the result is deprecated and will raise a MergeError in a future version.\n",
      "  complete_data = complete_data.merge(bus_data, how='left', on='Postcode')\n"
     ]
    }
   ],
   "source": [
    "complete_data = property_data.merge(hospital_data, how='left', on='Postcode')\n",
    "complete_data = complete_data.merge(school_data, how='left', on='Postcode')\n",
    "complete_data = complete_data.merge(population_data, how='left', on='Postcode')\n",
    "complete_data = complete_data.merge(crime_data, how='left', on='Postcode')\n",
    "complete_data = complete_data.merge(bus_data, how='left', on='Postcode')\n",
    "complete_data = complete_data.merge(shopping_center_data, how='left', on='Postcode')\n",
    "complete_data = complete_data.merge(income_data, how='left', on='Postcode')\n",
    "complete_data = complete_data.merge(count, how='left', on='Postcode')\n"
   ]
  },
  {
   "cell_type": "code",
   "execution_count": 89,
   "id": "37e57f8b-7105-460d-8719-4803d350f9a4",
   "metadata": {},
   "outputs": [],
   "source": [
    "complete_data = complete_data[['Postcode','2022','bedrooms','baths','parking','property_type','processed_price','Distance_x','Duration_x','Distance_y','Duration_y','Distance','Duration','Distance_shop','Duration_shop','Offence Count','Income Per Person','Count_Station','Count_Hospital','Count_School','Count_Shopping_Center']]\n"
   ]
  },
  {
   "cell_type": "code",
   "execution_count": 90,
   "id": "49c62bfb-04fe-4065-af6a-38a5dab1d39d",
   "metadata": {},
   "outputs": [],
   "source": [
    "complete_data.columns = ['Postcode','Population','bedrooms','baths','parking','property_type','processed_price','Distance_medi','Duration_medi','Distance_sch','Duration_sch','Distance_bus','Duration_bus','Distance_shop','Duration_shop','Offence Count','Income Per Person','Count_Station','Count_Hospital','Count_School','Count_Shopping_Center']\n"
   ]
  },
  {
   "cell_type": "code",
   "execution_count": 91,
   "id": "c0187d8d",
   "metadata": {},
   "outputs": [],
   "source": [
    "complete_data['Count_Hospital'] = complete_data['Count_Hospital'].fillna(0)\n",
    "complete_data['Count_School'] = complete_data['Count_School'].fillna(0)\n",
    "complete_data['Count_Station'] = complete_data['Count_Station'].fillna(0)\n",
    "complete_data['Count_Shopping_Center'] = complete_data['Count_Shopping_Center'].fillna(0)\n",
    "complete_data = complete_data.drop_duplicates()\n"
   ]
  },
  {
   "cell_type": "code",
   "execution_count": 92,
   "id": "4cb028fb-a777-4a8c-9234-4dbeec3d4c5a",
   "metadata": {},
   "outputs": [
    {
     "data": {
      "text/plain": [
       "['Population',\n",
       " 'Distance_medi',\n",
       " 'Duration_medi',\n",
       " 'Distance_sch',\n",
       " 'Duration_sch',\n",
       " 'Distance_bus',\n",
       " 'Duration_bus',\n",
       " 'Distance_shop',\n",
       " 'Duration_shop',\n",
       " 'Income Per Person']"
      ]
     },
     "execution_count": 92,
     "metadata": {},
     "output_type": "execute_result"
    }
   ],
   "source": [
    "complete_data.columns[complete_data.isnull().any()].tolist()\n"
   ]
  },
  {
   "cell_type": "code",
   "execution_count": 93,
   "id": "3aceb664-89ea-4af9-b0bc-c08e2aae29e7",
   "metadata": {},
   "outputs": [],
   "source": [
    "complete_data.to_csv('../data/curated/complete_data.csv')"
   ]
  },
  {
   "cell_type": "code",
   "execution_count": null,
   "id": "fddda3dc-e7ba-463f-a783-42704d8f9180",
   "metadata": {},
   "outputs": [],
   "source": []
  }
 ],
 "metadata": {
  "kernelspec": {
   "display_name": "Python 3 (ipykernel)",
   "language": "python",
   "name": "python3"
  },
  "language_info": {
   "codemirror_mode": {
    "name": "ipython",
    "version": 3
   },
   "file_extension": ".py",
   "mimetype": "text/x-python",
   "name": "python",
   "nbconvert_exporter": "python",
   "pygments_lexer": "ipython3",
   "version": "3.9.12"
  },
  "vscode": {
   "interpreter": {
    "hash": "f1e7dfa4028ecbdedcddc863972528864aea52c12c7614bc4f4c47ec76e77350"
   }
  }
 },
 "nbformat": 4,
 "nbformat_minor": 5
}
