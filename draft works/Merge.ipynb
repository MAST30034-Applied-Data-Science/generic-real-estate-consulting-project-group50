{
 "cells": [
  {
   "cell_type": "code",
   "execution_count": 24,
   "id": "0f5472b0-fba7-4f38-9273-81c7df20f34d",
   "metadata": {},
   "outputs": [],
   "source": [
    "import pandas as pd"
   ]
  },
  {
   "cell_type": "code",
   "execution_count": 25,
   "id": "ec92d489-b7bd-472d-a7b5-316b3a7b63db",
   "metadata": {},
   "outputs": [],
   "source": [
    "property_data = pd.read_csv(\"../data/curated/processed_domain_data.csv\")\n",
    "hospital_data = pd.read_csv(\"../data/curated/closest_hospital.csv\")\n",
    "school_data = pd.read_csv(\"../data/curated/closest_school.csv\")\n",
    "property_data.columns = ['Unnamed: 0', 'address','Postcode', 'bedrooms', 'baths', 'parking', 'property_type', 'property_features', 'freq', 'processed_price']"
   ]
  },
  {
   "cell_type": "code",
   "execution_count": 26,
   "id": "efa97602-632c-4ef9-85af-baac7e25abc2",
   "metadata": {},
   "outputs": [],
   "source": [
    "complete_data = property_data.merge(hospital_data, how='left', on='Postcode')\n",
    "complete_data = complete_data.merge(school_data, how='left', on='Postcode')"
   ]
  },
  {
   "cell_type": "code",
   "execution_count": 27,
   "id": "1751dad5-643a-4dca-9a28-d757d84cbd66",
   "metadata": {},
   "outputs": [],
   "source": [
    "complete_data.to_csv('../data/curated/complete_data.csv')"
   ]
  },
  {
   "cell_type": "code",
   "execution_count": null,
   "id": "06f0e273-cde8-4271-8a4d-16e5bf9a94ea",
   "metadata": {},
   "outputs": [],
   "source": []
  }
 ],
 "metadata": {
  "kernelspec": {
   "display_name": "Python 3 (ipykernel)",
   "language": "python",
   "name": "python3"
  },
  "language_info": {
   "codemirror_mode": {
    "name": "ipython",
    "version": 3
   },
   "file_extension": ".py",
   "mimetype": "text/x-python",
   "name": "python",
   "nbconvert_exporter": "python",
   "pygments_lexer": "ipython3",
   "version": "3.9.12"
  }
 },
 "nbformat": 4,
 "nbformat_minor": 5
}
