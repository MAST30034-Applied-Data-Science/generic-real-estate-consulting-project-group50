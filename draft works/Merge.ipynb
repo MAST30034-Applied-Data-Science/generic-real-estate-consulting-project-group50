{
 "cells": [
  {
   "cell_type": "code",
   "execution_count": 220,
   "id": "393e0815",
   "metadata": {},
   "outputs": [],
   "source": [
    "import pandas as pd"
   ]
  },
  {
   "cell_type": "code",
   "execution_count": 221,
   "id": "d071903b",
   "metadata": {},
   "outputs": [],
   "source": [
    "property_data = pd.read_csv(\"../data/curated/processed_domain_data.csv\")\n",
    "hospital_data = pd.read_csv(\"../data/curated/closest_hospital.csv\")\n",
    "school_data = pd.read_csv(\"../data/curated/closest_school.csv\")\n",
    "population_data = pd.read_csv(\"../data/curated/predicted_population.csv\")\n",
    "crime_data = pd.read_csv(\"../data/curated/crime.csv\")\n",
    "bus_data = pd.read_csv(\"../data/curated/closest_bus_station.csv\")\n",
    "shopping_center_data = pd.read_csv(\"../data/curated/closest_shopping_center.csv\")\n",
    "income_data = pd.read_csv(\"../data/curated/income.csv\")\n",
    "count = pd.read_csv('../data/curated/count.csv')\n",
    "property_data.columns = ['Unnamed: 0', 'address','Postcode', 'bedrooms', 'baths', 'parking', 'property_type', 'property_features', 'freq', 'processed_price']"
   ]
  },
  {
   "cell_type": "code",
   "execution_count": 222,
   "id": "283221d6",
   "metadata": {},
   "outputs": [],
   "source": [
    "hospital_data['Duration'] = hospital_data['Duration'].map(lambda x:x.rstrip(' mins'))"
   ]
  },
  {
   "cell_type": "code",
   "execution_count": 223,
   "id": "f4fe429d",
   "metadata": {},
   "outputs": [],
   "source": [
    "bus_data['Duration'] = bus_data['Duration'].map(lambda x:x.rstrip(' mins'))\n",
    "bus_data['Distance'] = bus_data['Distance'].map(lambda x:x.rstrip(' km'))\n",
    "school_data['Duration'] = school_data['Duration'].map(lambda x:x.rstrip(' mins'))\n",
    "shopping_center_data['Duration'] = shopping_center_data['Duration'].map(lambda x:x.rstrip(' mins'))\n",
    "shopping_center_data = shopping_center_data[['Postcode','Centroid','Shopping_Center_Name','Location','Distance','Duration']]\n",
    "shopping_center_data.columns = ['Postcode','Centroid_shop','Shopping_Center_Name','Location_shop','Distance_shop','Duration_shop']\n",
    "population_data = population_data[['Postcode', '2022']]"
   ]
  },
  {
   "cell_type": "code",
   "execution_count": 224,
   "id": "eb5bfe7d",
   "metadata": {},
   "outputs": [
    {
     "name": "stderr",
     "output_type": "stream",
     "text": [
      "/var/folders/t7/dnx7ygys43vfq00ddy255g680000gn/T/ipykernel_73673/4284583837.py:5: FutureWarning: Passing 'suffixes' which cause duplicate columns {'Unnamed: 0_x'} in the result is deprecated and will raise a MergeError in a future version.\n",
      "  complete_data = complete_data.merge(bus_data, how='left', on='Postcode')\n"
     ]
    }
   ],
   "source": [
    "complete_data = property_data.merge(hospital_data, how='left', on='Postcode')\n",
    "complete_data = complete_data.merge(school_data, how='left', on='Postcode')\n",
    "complete_data = complete_data.merge(population_data, how='left', on='Postcode')\n",
    "complete_data = complete_data.merge(crime_data, how='left', on='Postcode')\n",
    "complete_data = complete_data.merge(bus_data, how='left', on='Postcode')\n",
    "complete_data = complete_data.merge(shopping_center_data, how='left', on='Postcode')\n",
    "complete_data = complete_data.merge(income_data, how='left', on='Postcode')\n",
    "complete_data = complete_data.merge(count, how='left', on='Postcode')"
   ]
  },
  {
   "cell_type": "code",
   "execution_count": 225,
   "id": "37e57f8b-7105-460d-8719-4803d350f9a4",
   "metadata": {},
   "outputs": [],
   "source": [
    "#complete_data = complete_data[['Postcode','2022','bedrooms','baths','parking','property_type','processed_price','Distance_x','Duration_x','Distance_y','Duration_y','Distance','Duration','Distance_shop','Duration_shop','Offence Count','2018','Count_Station','Count_Hospital','Count_School','Count_Shopping_Center']]\n"
   ]
  },
  {
   "cell_type": "code",
   "execution_count": 226,
   "id": "49c62bfb-04fe-4065-af6a-38a5dab1d39d",
   "metadata": {},
   "outputs": [],
   "source": [
    "#complete_data.columns = ['Postcode','Population','bedrooms','baths','parking','property_type','processed_price','Distance_medi','Duration_medi','Distance_sch','Duration_sch','Distance_bus','Duration_bus','Distance_shop','Duration_shop','Offence Count','Income Per Person','Count_Station','Count_Hospital','Count_School','Count_Shopping_Center']\n"
   ]
  },
  {
   "cell_type": "code",
   "execution_count": 227,
   "id": "c0187d8d",
   "metadata": {},
   "outputs": [],
   "source": [
    "complete_data['Count_Hospital'] = complete_data['Count_Hospital'].fillna(0)\n",
    "complete_data['Count_School'] = complete_data['Count_School'].fillna(0)\n",
    "complete_data['Count_Station'] = complete_data['Count_Station'].fillna(0)\n",
    "complete_data['Count_Shopping_Center'] = complete_data['Count_Shopping_Center'].fillna(0)\n",
    "complete_data = complete_data.drop_duplicates()\n"
   ]
  },
  {
   "cell_type": "code",
   "execution_count": 228,
   "id": "4cb028fb-a777-4a8c-9234-4dbeec3d4c5a",
   "metadata": {},
   "outputs": [],
   "source": [
    "#complete_data.columns[complete_data.isnull().any()].tolist()\n"
   ]
  },
  {
   "cell_type": "code",
   "execution_count": 229,
   "id": "07c49b37-ab7e-4c18-b098-776fe106970a",
   "metadata": {},
   "outputs": [],
   "source": [
    "complete_data.to_csv('../data/curated/complete_data.csv')"
   ]
  },
  {
   "cell_type": "code",
   "execution_count": 230,
   "id": "7cb9a447-3b18-4899-ab7e-e0c968ec36ff",
   "metadata": {},
   "outputs": [],
   "source": [
    "complete_data = complete_data[[\"Postcode\", \"address\", \"bedrooms\", \"baths\", \"parking\", \n",
    "                               \"property_type\", \"property_features\", \"processed_price\", \n",
    "                               \"Formal Name\", \"Distance_x\", \"Duration_x\", \n",
    "                               \"School_Name\", \"Distance_y\", \"Duration_y\", \n",
    "                               \"2022\", \"Offence Count\", \n",
    "                               \"Bus_Station_Name\", \"Distance\", \"Duration\",\n",
    "                               \"Shopping_Center_Name\", \"Distance_shop\", \"Duration_shop\",\n",
    "                               \"2018\", \"Count_Station\", \"Count_Hospital\", \"Count_School\", \"Count_Shopping_Center\"]]\n"
   ]
  },
  {
   "cell_type": "code",
   "execution_count": 231,
   "id": "4ce2c9fe-069f-4353-b105-be075fbb06ce",
   "metadata": {},
   "outputs": [
    {
     "data": {
      "text/plain": [
       "['Postcode',\n",
       " 'address',\n",
       " 'bedrooms',\n",
       " 'baths',\n",
       " 'parking',\n",
       " 'property_type',\n",
       " 'property_features',\n",
       " 'processed_price',\n",
       " 'Formal Name',\n",
       " 'Distance_x',\n",
       " 'Duration_x',\n",
       " 'School_Name',\n",
       " 'Distance_y',\n",
       " 'Duration_y',\n",
       " '2022',\n",
       " 'Offence Count',\n",
       " 'Bus_Station_Name',\n",
       " 'Distance',\n",
       " 'Duration',\n",
       " 'Shopping_Center_Name',\n",
       " 'Distance_shop',\n",
       " 'Duration_shop',\n",
       " '2018',\n",
       " 'Count_Station',\n",
       " 'Count_Hospital',\n",
       " 'Count_School',\n",
       " 'Count_Shopping_Center']"
      ]
     },
     "execution_count": 231,
     "metadata": {},
     "output_type": "execute_result"
    }
   ],
   "source": [
    "complete_data.columns.tolist()"
   ]
  },
  {
   "cell_type": "code",
   "execution_count": 232,
   "id": "d9ea723f-8582-42da-8427-b85e2057bd75",
   "metadata": {},
   "outputs": [],
   "source": [
    "complete_data.columns = [\"Postcode\", \"Property Address\", \"Bedrooms\", \"Baths\", \"Parking\", \n",
    "                         \"property_type\", \"Property Features\",\"Weekly Rental Price\", \n",
    "                         \"Health Instituion\", \"Health Distance\", \"Health Duration\", \n",
    "                         \"School Name\", \"School Distance\", \"School Duration\", \n",
    "                         \"Population\", \"Crime Count\", \n",
    "                         \"Bus Station\", \"Bus Distance\", \"Bus Duration\",\n",
    "                         \"Shopping_Center_Name\", \"Shop Distance\", \"Shop Duration\", \n",
    "                         \"Income Per Person\", \"Count_Station\", \"Count_Hospital\", \"Count_School\", \"Count_Shopping_Center\"]\n",
    "                "
   ]
  },
  {
   "cell_type": "code",
   "execution_count": 233,
   "id": "f01c07a4-e820-4c99-b77d-8a37e5f24bb6",
   "metadata": {},
   "outputs": [],
   "source": [
    "complete_data.to_csv('../data/curated/complete_data.csv')"
   ]
  },
  {
   "cell_type": "code",
   "execution_count": null,
   "id": "892e7c66-b1b2-4150-9c18-edb6d9162c59",
   "metadata": {},
   "outputs": [],
   "source": []
  },
  {
   "cell_type": "code",
   "execution_count": null,
   "id": "99252881-73d9-4eec-b680-18a0105939d9",
   "metadata": {},
   "outputs": [],
   "source": []
  },
  {
   "cell_type": "code",
   "execution_count": null,
   "id": "0f9a829b-fb3d-448b-8f75-034deb9ef9be",
   "metadata": {},
   "outputs": [],
   "source": []
  },
  {
   "cell_type": "code",
   "execution_count": null,
   "id": "c57c957f-7d13-4e87-9847-f3057543d304",
   "metadata": {},
   "outputs": [],
   "source": []
  },
  {
   "cell_type": "code",
   "execution_count": null,
   "id": "4e21a75b-277e-4e5d-8b00-7413cdcd337c",
   "metadata": {},
   "outputs": [],
   "source": []
  },
  {
   "cell_type": "code",
   "execution_count": 165,
   "id": "3aceb664-89ea-4af9-b0bc-c08e2aae29e7",
   "metadata": {},
   "outputs": [],
   "source": []
  },
  {
   "cell_type": "code",
   "execution_count": 166,
   "id": "fddda3dc-e7ba-463f-a783-42704d8f9180",
   "metadata": {},
   "outputs": [
    {
     "name": "stderr",
     "output_type": "stream",
     "text": [
      "/var/folders/t7/dnx7ygys43vfq00ddy255g680000gn/T/ipykernel_73673/3790970923.py:1: DtypeWarning: Columns (11,14) have mixed types. Specify dtype option on import or set low_memory=False.\n",
      "  data = pd.read_csv(\"../data/curated/ori_complete_data.csv\")\n"
     ]
    }
   ],
   "source": [
    "data = pd.read_csv(\"../data/curated/ori_complete_data.csv\")"
   ]
  },
  {
   "cell_type": "code",
   "execution_count": 167,
   "id": "bf9ad5fa-4365-494d-982c-7cc799dbd0c0",
   "metadata": {},
   "outputs": [],
   "source": [
    "data = data.drop([\"Population\"], axis = 1)"
   ]
  },
  {
   "cell_type": "code",
   "execution_count": 168,
   "id": "6a68017c-077f-4ab4-8012-8eb8b4147003",
   "metadata": {},
   "outputs": [],
   "source": [
    "data = data.merge(population_data, how='left', on='Postcode')"
   ]
  },
  {
   "cell_type": "code",
   "execution_count": 169,
   "id": "9ddbf3d9-6e1d-4306-b88e-f4b8d34d5fae",
   "metadata": {},
   "outputs": [],
   "source": [
    "data = data.merge(income_data, how='left', on='Postcode')"
   ]
  },
  {
   "cell_type": "code",
   "execution_count": 170,
   "id": "fd599d34-07aa-4ac9-a021-2e4c240c8d8b",
   "metadata": {},
   "outputs": [],
   "source": [
    "data['Count_Hospital'] = data['Count_Hospital'].fillna(0)\n",
    "data['Count_School'] = data['Count_School'].fillna(0)\n",
    "data['Count_Station'] = data['Count_Station'].fillna(0)\n",
    "data['Count_Shopping_Center'] = data['Count_Shopping_Center'].fillna(0)\n",
    "data = data.drop_duplicates()"
   ]
  },
  {
   "cell_type": "code",
   "execution_count": 172,
   "id": "fa3cabf2-dc78-40ad-af4d-7b3746d443e8",
   "metadata": {},
   "outputs": [
    {
     "data": {
      "text/plain": [
       "['Health Instituion',\n",
       " 'Health Distance',\n",
       " 'Health Duration',\n",
       " 'School Name',\n",
       " 'School Distance',\n",
       " 'School Duration',\n",
       " 'Bus Station',\n",
       " 'Bus Distance',\n",
       " 'Bus Duration',\n",
       " 'Shopping_Center_Name',\n",
       " 'Shop Distance',\n",
       " 'Shop Duration',\n",
       " '2022',\n",
       " '2018']"
      ]
     },
     "execution_count": 172,
     "metadata": {},
     "output_type": "execute_result"
    }
   ],
   "source": [
    "data.columns[data.isnull().any()].tolist()\n"
   ]
  },
  {
   "cell_type": "code",
   "execution_count": 136,
   "id": "d47c894b-e875-407b-9bc4-9871517544ec",
   "metadata": {},
   "outputs": [],
   "source": [
    "data = data[[\"Unnamed: 0\", \"Postcode\", \"Property Address\", \"Bedrooms\", \"Baths\", \"Parking\", \"property_type\", \"Property Features\", \"Weekly Rental Price\", \n",
    "                \"Health Instituion\", \"Health Distance\", \"Health Duration\", \n",
    "                \"School Name\", \"School Distance\", \"School Duration\", \"Crime Count\", \"Bus Station\", \"Bus Distance\", \"Bus Duration\",\n",
    "                \"Shopping_Center_Name\", \"Shop Distance\", \"Shop Duration\", \"Count_Station\", \"Count_Hospital\", \"Count_School\", \"Count_Shopping_Center\",\n",
    "                \"2022\", \"Income Per Person\"]]\n",
    "                "
   ]
  },
  {
   "cell_type": "code",
   "execution_count": 137,
   "id": "765db4ee-1fe4-4974-9f3f-35d5d652f5e6",
   "metadata": {},
   "outputs": [],
   "source": [
    "data.columns = [\"Unnamed: 0\", \"Postcode\", \"Property Address\", \"Bedrooms\", \"Baths\", \"Parking\", \"property_type\", \"Property Features\",\"Weekly Rental Price\", \n",
    "                \"Health Instituion\", \"Health Distance\", \"Health Duration\", \n",
    "                \"School Name\", \"School Distance\", \"School Duration\", \"Crime Count\", \"Bus Station\", \"Bus Distance\", \"Bus Duration\",\n",
    "                \"Shopping_Center_Name\", \"Shop Distance\", \"Shop Duration\", \"Count_Station\", \"Count_Hospital\", \"Count_School\", \"Count_Shopping_Center\",\n",
    "                \"Population\", \"Income Per Person\"]\n",
    "                "
   ]
  },
  {
   "cell_type": "code",
   "execution_count": 138,
   "id": "5c485f6a-7711-4792-8364-520dd0c98cf6",
   "metadata": {},
   "outputs": [],
   "source": [
    "data.to_csv('../data/curated/feature_data.csv')"
   ]
  },
  {
   "cell_type": "code",
   "execution_count": null,
   "id": "e6dfa728-dfb0-4c5a-a6cf-332b5bfc60d3",
   "metadata": {},
   "outputs": [],
   "source": []
  }
 ],
 "metadata": {
  "kernelspec": {
   "display_name": "Python 3 (ipykernel)",
   "language": "python",
   "name": "python3"
  },
  "language_info": {
   "codemirror_mode": {
    "name": "ipython",
    "version": 3
   },
   "file_extension": ".py",
   "mimetype": "text/x-python",
   "name": "python",
   "nbconvert_exporter": "python",
   "pygments_lexer": "ipython3",
   "version": "3.9.12"
  },
  "vscode": {
   "interpreter": {
    "hash": "f1e7dfa4028ecbdedcddc863972528864aea52c12c7614bc4f4c47ec76e77350"
   }
  }
 },
 "nbformat": 4,
 "nbformat_minor": 5
}
