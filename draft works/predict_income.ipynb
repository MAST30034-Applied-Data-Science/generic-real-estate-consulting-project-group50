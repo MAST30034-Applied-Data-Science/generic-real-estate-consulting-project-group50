{
 "cells": [
  {
   "cell_type": "code",
   "execution_count": 107,
   "metadata": {},
   "outputs": [],
   "source": [
    "import pandas as pd\n",
    "import numpy as np\n",
    "import matplotlib.pyplot as plt"
   ]
  },
  {
   "cell_type": "code",
   "execution_count": 108,
   "metadata": {},
   "outputs": [
    {
     "name": "stderr",
     "output_type": "stream",
     "text": [
      "/var/folders/mv/s3dk3thn01b8yf4vz18zfjlr0000gn/T/ipykernel_86162/1904112732.py:18: FutureWarning: Passing 'suffixes' which cause duplicate columns {'Median salary or wages_x'} in the result is deprecated and will raise a MergeError in a future version.\n",
      "  income = income.merge(income_2019, on='Postcode', how='left')\n"
     ]
    },
    {
     "data": {
      "text/html": [
       "<div>\n",
       "<style scoped>\n",
       "    .dataframe tbody tr th:only-of-type {\n",
       "        vertical-align: middle;\n",
       "    }\n",
       "\n",
       "    .dataframe tbody tr th {\n",
       "        vertical-align: top;\n",
       "    }\n",
       "\n",
       "    .dataframe thead th {\n",
       "        text-align: right;\n",
       "    }\n",
       "</style>\n",
       "<table border=\"1\" class=\"dataframe\">\n",
       "  <thead>\n",
       "    <tr style=\"text-align: right;\">\n",
       "      <th></th>\n",
       "      <th>Postcode</th>\n",
       "      <th>2016</th>\n",
       "      <th>2017</th>\n",
       "      <th>2018</th>\n",
       "      <th>2019</th>\n",
       "    </tr>\n",
       "  </thead>\n",
       "  <tbody>\n",
       "    <tr>\n",
       "      <th>0</th>\n",
       "      <td>3000</td>\n",
       "      <td>31480</td>\n",
       "      <td>32476</td>\n",
       "      <td>33314.0</td>\n",
       "      <td>34580.0</td>\n",
       "    </tr>\n",
       "    <tr>\n",
       "      <th>1</th>\n",
       "      <td>3002</td>\n",
       "      <td>61342</td>\n",
       "      <td>63689</td>\n",
       "      <td>67362.0</td>\n",
       "      <td>69972.0</td>\n",
       "    </tr>\n",
       "    <tr>\n",
       "      <th>2</th>\n",
       "      <td>3003</td>\n",
       "      <td>46442</td>\n",
       "      <td>49415</td>\n",
       "      <td>50578.0</td>\n",
       "      <td>51259.0</td>\n",
       "    </tr>\n",
       "    <tr>\n",
       "      <th>3</th>\n",
       "      <td>3004</td>\n",
       "      <td>59385</td>\n",
       "      <td>60776</td>\n",
       "      <td>62323.0</td>\n",
       "      <td>64457.0</td>\n",
       "    </tr>\n",
       "    <tr>\n",
       "      <th>4</th>\n",
       "      <td>3006</td>\n",
       "      <td>53857</td>\n",
       "      <td>53668</td>\n",
       "      <td>55730.0</td>\n",
       "      <td>54860.0</td>\n",
       "    </tr>\n",
       "    <tr>\n",
       "      <th>...</th>\n",
       "      <td>...</td>\n",
       "      <td>...</td>\n",
       "      <td>...</td>\n",
       "      <td>...</td>\n",
       "      <td>...</td>\n",
       "    </tr>\n",
       "    <tr>\n",
       "      <th>657</th>\n",
       "      <td>3988</td>\n",
       "      <td>42542</td>\n",
       "      <td>44433</td>\n",
       "      <td>46548.0</td>\n",
       "      <td>46832.0</td>\n",
       "    </tr>\n",
       "    <tr>\n",
       "      <th>658</th>\n",
       "      <td>3991</td>\n",
       "      <td>33915</td>\n",
       "      <td>39348</td>\n",
       "      <td>39090.0</td>\n",
       "      <td>38150.0</td>\n",
       "    </tr>\n",
       "    <tr>\n",
       "      <th>659</th>\n",
       "      <td>3992</td>\n",
       "      <td>38625</td>\n",
       "      <td>41864</td>\n",
       "      <td>41444.0</td>\n",
       "      <td>43306.0</td>\n",
       "    </tr>\n",
       "    <tr>\n",
       "      <th>660</th>\n",
       "      <td>3995</td>\n",
       "      <td>38190</td>\n",
       "      <td>39388</td>\n",
       "      <td>40803.0</td>\n",
       "      <td>41877.0</td>\n",
       "    </tr>\n",
       "    <tr>\n",
       "      <th>661</th>\n",
       "      <td>3996</td>\n",
       "      <td>42112</td>\n",
       "      <td>43928</td>\n",
       "      <td>44746.0</td>\n",
       "      <td>46522.0</td>\n",
       "    </tr>\n",
       "  </tbody>\n",
       "</table>\n",
       "<p>662 rows × 5 columns</p>\n",
       "</div>"
      ],
      "text/plain": [
       "     Postcode   2016   2017     2018     2019\n",
       "0        3000  31480  32476  33314.0  34580.0\n",
       "1        3002  61342  63689  67362.0  69972.0\n",
       "2        3003  46442  49415  50578.0  51259.0\n",
       "3        3004  59385  60776  62323.0  64457.0\n",
       "4        3006  53857  53668  55730.0  54860.0\n",
       "..        ...    ...    ...      ...      ...\n",
       "657      3988  42542  44433  46548.0  46832.0\n",
       "658      3991  33915  39348  39090.0  38150.0\n",
       "659      3992  38625  41864  41444.0  43306.0\n",
       "660      3995  38190  39388  40803.0  41877.0\n",
       "661      3996  42112  43928  44746.0  46522.0\n",
       "\n",
       "[662 rows x 5 columns]"
      ]
     },
     "execution_count": 108,
     "metadata": {},
     "output_type": "execute_result"
    }
   ],
   "source": [
    "income_2016 = pd.read_csv('../data/raw/2016.csv')\n",
    "income_2017 = pd.read_csv('../data/raw/2017.csv')\n",
    "income_2018 = pd.read_csv('../data/raw/2018.csv')\n",
    "income_2019 = pd.read_csv('../data/raw/2019.csv')\n",
    "\n",
    "income_2016 = income_2016[['Postcode','Median salary or wages']]\n",
    "income_2017 = income_2017[['Postcode','Median salary or wages']]\n",
    "income_2018 = income_2018[['Postcode','Median salary or wages']]\n",
    "income_2019 = income_2019[['Postcode','Median salary or wages']]\n",
    "\n",
    "income_2016 = income_2016.iloc[656:1318]\n",
    "income_2017 = income_2017.iloc[655:1317]\n",
    "income_2018 = income_2018.iloc[655:1317]\n",
    "income_2019 = income_2019.iloc[653:1316]\n",
    "\n",
    "income = pd.merge(income_2016, income_2017, on='Postcode', how='left')\n",
    "income = income.merge(income_2018, on='Postcode', how='left')\n",
    "income = income.merge(income_2019, on='Postcode', how='left')\n",
    "\n",
    "income = income.fillna(40000)\n",
    "income.columns = ['Postcode','2016','2017','2018','2019']\n",
    "\n",
    "income"
   ]
  },
  {
   "cell_type": "code",
   "execution_count": 109,
   "metadata": {},
   "outputs": [],
   "source": [
    "income['rate'] = income['2019'] / income['2018']\n",
    "\n",
    "income['2020'] = income['2019'] * income['rate']\n",
    "\n",
    "income['2021'] = income['2020'] * income['rate']\n",
    "\n",
    "income['2022'] = income['2021'] * income['rate']\n",
    "\n",
    "income['2023'] = income['2022'] * income['rate']\n",
    "\n",
    "income['2024'] = income['2023'] * income['rate']\n",
    "\n",
    "income['2025'] = income['2024'] * income['rate']\n",
    "\n",
    "income = income.drop(columns = 'rate')\n",
    "\n",
    "income.to_csv('../data/curated/predict_income.csv')"
   ]
  },
  {
   "cell_type": "code",
   "execution_count": 110,
   "metadata": {},
   "outputs": [
    {
     "data": {
      "image/png": "[encoded data removed]",
      "text/plain": [
       "<Figure size 432x288 with 1 Axes>"
      ]
     },
     "metadata": {
      "needs_background": "light"
     },
     "output_type": "display_data"
    },
    {
     "data": {
      "text/plain": [
       "<Figure size 432x288 with 0 Axes>"
      ]
     },
     "metadata": {},
     "output_type": "display_data"
    }
   ],
   "source": [
    "# plot the income for postcode 3000,3002,3003\n",
    "\n",
    "from logging import handlers\n",
    "\n",
    "\n",
    "x = income.columns.drop('Postcode')\n",
    "y1 = income.iloc[0][1:]\n",
    "y2 = income.iloc[1][1:]\n",
    "y3 = income.iloc[2][1:]\n",
    "\n",
    "plt.plot(x,y1, color='red', marker='o')\n",
    "plt.plot(x,y2, color='blue', marker='o')\n",
    "plt.plot(x,y3, color='green', marker='o')\n",
    "plt.title('Income for postcode 3000,3002,3003')\n",
    "plt.xlabel('year')\n",
    "plt.ylabel('income')\n",
    "plt.legend(['3000','3002','3003'])\n",
    "plt.grid()\n",
    "plt.show()\n",
    "\n",
    "plt.savefig('../plots/predict_income.png')\n"
   ]
  }
 ],
 "metadata": {
  "kernelspec": {
   "display_name": "Python 3.8.2 ('ads')",
   "language": "python",
   "name": "python3"
  },
  "language_info": {
   "codemirror_mode": {
    "name": "ipython",
    "version": 3
   },
   "file_extension": ".py",
   "mimetype": "text/x-python",
   "name": "python",
   "nbconvert_exporter": "python",
   "pygments_lexer": "ipython3",
   "version": "3.8.2"
  },
  "orig_nbformat": 4,
  "vscode": {
   "interpreter": {
    "hash": "414cb9fa04f654c041aa521894d828fe84bbd583e983a01391b145f47fd76182"
   }
  }
 },
 "nbformat": 4,
 "nbformat_minor": 2
}
