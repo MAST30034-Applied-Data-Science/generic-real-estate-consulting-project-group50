{
 "cells": [
  {
   "cell_type": "code",
   "execution_count": 19,
   "metadata": {},
   "outputs": [],
   "source": [
    "import pandas as pd\n",
    "\n",
    "data = pd.read_csv('../data/curated/complete_data.csv')\n",
    "income = pd.read_csv('../data/curated/predict_income.csv')\n",
    "\n",
    "income = income[['Postcode','2022']]\n",
    "data = data[data.property_type != 'Carspace']\n",
    "data['Crime Rate'] = data['Crime Count']/data['Population']"
   ]
  },
  {
   "cell_type": "code",
   "execution_count": 20,
   "metadata": {},
   "outputs": [],
   "source": [
    "data.drop(columns=['Unnamed: 0', 'Property Address', 'Health Instituion', 'Bus Station',\n",
    "                    'Shopping_Center_Name', 'School Name', 'Bus Duration', 'School Duration',\n",
    "                    'Health Duration', 'Shop Duration', 'Crime Count', #'Property Features'\n",
    "                   ], inplace=True)\n",
    "\n",
    "# ## Drop outliers\n",
    "data = data[data['Weekly Rental Price'] < 5000]\n",
    "\n",
    "data = data[['Postcode','Baths','Count_School','Count_Station','Bedrooms','Weekly Rental Price']]\n",
    "\n",
    "data = data.merge(income, on='Postcode', how='left')\n",
    "\n",
    "data = data.rename(columns={'2022' : 'Income'})\n",
    "\n",
    "data.to_csv('../data/curated/outliers_removed.csv')"
   ]
  }
 ],
 "metadata": {
  "kernelspec": {
   "display_name": "Python 3.8.13 ('ads')",
   "language": "python",
   "name": "python3"
  },
  "language_info": {
   "codemirror_mode": {
    "name": "ipython",
    "version": 3
   },
   "file_extension": ".py",
   "mimetype": "text/x-python",
   "name": "python",
   "nbconvert_exporter": "python",
   "pygments_lexer": "ipython3",
   "version": "3.8.13"
  },
  "orig_nbformat": 4,
  "vscode": {
   "interpreter": {
    "hash": "f1e7dfa4028ecbdedcddc863972528864aea52c12c7614bc4f4c47ec76e77350"
   }
  }
 },
 "nbformat": 4,
 "nbformat_minor": 2
}
