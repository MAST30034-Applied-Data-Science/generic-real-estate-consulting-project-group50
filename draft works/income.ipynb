{
 "cells": [
  {
   "cell_type": "code",
   "execution_count": 35,
   "id": "21102a85-87fe-4520-9ec3-7fb639b383cb",
   "metadata": {},
   "outputs": [
    {
     "data": {
      "text/html": [
       "<div>\n",
       "<style scoped>\n",
       "    .dataframe tbody tr th:only-of-type {\n",
       "        vertical-align: middle;\n",
       "    }\n",
       "\n",
       "    .dataframe tbody tr th {\n",
       "        vertical-align: top;\n",
       "    }\n",
       "\n",
       "    .dataframe thead th {\n",
       "        text-align: right;\n",
       "    }\n",
       "</style>\n",
       "<table border=\"1\" class=\"dataframe\">\n",
       "  <thead>\n",
       "    <tr style=\"text-align: right;\">\n",
       "      <th></th>\n",
       "      <th>SA2_code</th>\n",
       "      <th>SA2_name</th>\n",
       "      <th>Income Per Person</th>\n",
       "    </tr>\n",
       "  </thead>\n",
       "  <tbody>\n",
       "    <tr>\n",
       "      <th>585</th>\n",
       "      <td>201011001</td>\n",
       "      <td>Alfredton</td>\n",
       "      <td>7989</td>\n",
       "    </tr>\n",
       "    <tr>\n",
       "      <th>586</th>\n",
       "      <td>201011002</td>\n",
       "      <td>Ballarat</td>\n",
       "      <td>7595</td>\n",
       "    </tr>\n",
       "    <tr>\n",
       "      <th>587</th>\n",
       "      <td>201011003</td>\n",
       "      <td>Ballarat - North</td>\n",
       "      <td>13598</td>\n",
       "    </tr>\n",
       "    <tr>\n",
       "      <th>588</th>\n",
       "      <td>201011004</td>\n",
       "      <td>Ballarat - South</td>\n",
       "      <td>12722</td>\n",
       "    </tr>\n",
       "    <tr>\n",
       "      <th>589</th>\n",
       "      <td>201011005</td>\n",
       "      <td>Buninyong</td>\n",
       "      <td>4249</td>\n",
       "    </tr>\n",
       "    <tr>\n",
       "      <th>...</th>\n",
       "      <td>...</td>\n",
       "      <td>...</td>\n",
       "      <td>...</td>\n",
       "    </tr>\n",
       "    <tr>\n",
       "      <th>1042</th>\n",
       "      <td>217031476</td>\n",
       "      <td>Otway</td>\n",
       "      <td>2360</td>\n",
       "    </tr>\n",
       "    <tr>\n",
       "      <th>1043</th>\n",
       "      <td>217041477</td>\n",
       "      <td>Moyne - East</td>\n",
       "      <td>4081</td>\n",
       "    </tr>\n",
       "    <tr>\n",
       "      <th>1044</th>\n",
       "      <td>217041478</td>\n",
       "      <td>Moyne - West</td>\n",
       "      <td>5852</td>\n",
       "    </tr>\n",
       "    <tr>\n",
       "      <th>1045</th>\n",
       "      <td>217041479</td>\n",
       "      <td>Warrnambool - North</td>\n",
       "      <td>13157</td>\n",
       "    </tr>\n",
       "    <tr>\n",
       "      <th>1046</th>\n",
       "      <td>217041480</td>\n",
       "      <td>Warrnambool - South</td>\n",
       "      <td>8052</td>\n",
       "    </tr>\n",
       "  </tbody>\n",
       "</table>\n",
       "<p>462 rows × 3 columns</p>\n",
       "</div>"
      ],
      "text/plain": [
       "       SA2_code             SA2_name Income Per Person\n",
       "585   201011001            Alfredton              7989\n",
       "586   201011002             Ballarat              7595\n",
       "587   201011003     Ballarat - North             13598\n",
       "588   201011004     Ballarat - South             12722\n",
       "589   201011005            Buninyong              4249\n",
       "...         ...                  ...               ...\n",
       "1042  217031476                Otway              2360\n",
       "1043  217041477         Moyne - East              4081\n",
       "1044  217041478         Moyne - West              5852\n",
       "1045  217041479  Warrnambool - North             13157\n",
       "1046  217041480  Warrnambool - South              8052\n",
       "\n",
       "[462 rows x 3 columns]"
      ]
     },
     "execution_count": 35,
     "metadata": {},
     "output_type": "execute_result"
    }
   ],
   "source": [
    "import pandas as pd\n",
    "income = pd.read_excel('../data/raw/income.xlsx')\n",
    "income = income.iloc[585:1047,[0,1,6]]\n",
    "income.columns = ['SA2_code', 'SA2_name', 'Income Per Person']\n",
    "income"
   ]
  },
  {
   "cell_type": "code",
   "execution_count": 36,
   "id": "ce13fcad-31f9-4c11-a051-f8509881f984",
   "metadata": {},
   "outputs": [],
   "source": [
    "import pandas as pd\n",
    "postcode_SA2 = pd.read_csv('../data/raw/postcode_SA2.csv')\n",
    "postcode_SA2 = postcode_SA2[['POSTCODE', 'SA2_MAINCODE_2011', 'SA2_NAME_2011']]\n",
    "postcode_SA2 = postcode_SA2.rename(columns={'POSTCODE' : 'Postcode', 'SA2_MAINCODE_2011' : 'SA2_code', 'SA2_NAME_2011' : 'SA2_name'})\n",
    "postcode_SA2 = postcode_SA2.iloc[1763:3207]\n"
   ]
  },
  {
   "cell_type": "code",
   "execution_count": 37,
   "id": "6d107ad0-f0b6-4a7e-9d38-2ea72c4c31fa",
   "metadata": {},
   "outputs": [],
   "source": [
    "income_postcode = pd.merge(postcode_SA2, income, how='left', on=['SA2_name', 'SA2_name'])"
   ]
  },
  {
   "cell_type": "code",
   "execution_count": 38,
   "id": "a8e70bc1-a5f0-42bf-bd8d-0a60d893d005",
   "metadata": {},
   "outputs": [],
   "source": [
    "income_postcode = income_postcode[['Postcode','Income Per Person']]"
   ]
  },
  {
   "cell_type": "code",
   "execution_count": 39,
   "id": "772bf74a-cc1b-495e-bf9a-7daa88b62451",
   "metadata": {},
   "outputs": [],
   "source": [
    "income_postcode.to_csv('../data/curated/income.csv')"
   ]
  },
  {
   "cell_type": "code",
   "execution_count": null,
   "id": "ba1ab7fc-4523-4353-a4e5-2ce0828800e6",
   "metadata": {},
   "outputs": [],
   "source": []
  }
 ],
 "metadata": {
  "kernelspec": {
   "display_name": "Python 3 (ipykernel)",
   "language": "python",
   "name": "python3"
  },
  "language_info": {
   "codemirror_mode": {
    "name": "ipython",
    "version": 3
   },
   "file_extension": ".py",
   "mimetype": "text/x-python",
   "name": "python",
   "nbconvert_exporter": "python",
   "pygments_lexer": "ipython3",
   "version": "3.9.12"
  }
 },
 "nbformat": 4,
 "nbformat_minor": 5
}
