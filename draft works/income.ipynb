{
 "cells": [
  {
   "cell_type": "code",
   "execution_count": 3,
   "id": "21102a85-87fe-4520-9ec3-7fb639b383cb",
   "metadata": {},
   "outputs": [],
   "source": [
    "import pandas as pd\n",
    "income = pd.read_excel('../data/raw/income.xlsx')\n",
    "income = income.iloc[585:1047,[0,1,6]]\n",
    "income.columns = ['SA2_code', 'SA2_name', 'Income Per Person']"
   ]
  },
  {
   "cell_type": "code",
   "execution_count": 41,
   "id": "ce13fcad-31f9-4c11-a051-f8509881f984",
   "metadata": {},
   "outputs": [],
   "source": [
    "import pandas as pd\n",
    "postcode_SA2 = pd.read_csv('../data/raw/postcode_SA2.csv')\n",
    "postcode_SA2 = postcode_SA2[['POSTCODE', 'SA2_MAINCODE_2011', 'SA2_NAME_2011']]\n",
    "postcode_SA2 = postcode_SA2.rename(columns={'POSTCODE' : 'Postcode', 'SA2_MAINCODE_2011' : 'SA2_code', 'SA2_NAME_2011' : 'SA2_name'})\n",
    "postcode_SA2 = postcode_SA2.iloc[1763:3207]\n",
    "income_postcode = pd.merge(postcode_SA2, income, how='left', on=['SA2_name', 'SA2_name'])\n",
    "income_postcode = income_postcode[['Postcode','Income Per Person']]\n",
    "income_postcode.to_csv('../data/curated/income.csv')\n"
   ]
  },
  {
   "cell_type": "code",
   "execution_count": 39,
   "id": "772bf74a-cc1b-495e-bf9a-7daa88b62451",
   "metadata": {},
   "outputs": [],
   "source": []
  },
  {
   "cell_type": "code",
   "execution_count": null,
   "id": "ba1ab7fc-4523-4353-a4e5-2ce0828800e6",
   "metadata": {},
   "outputs": [],
   "source": []
  }
 ],
 "metadata": {
  "kernelspec": {
   "display_name": "Python 3 (ipykernel)",
   "language": "python",
   "name": "python3"
  },
  "language_info": {
   "codemirror_mode": {
    "name": "ipython",
    "version": 3
   },
   "file_extension": ".py",
   "mimetype": "text/x-python",
   "name": "python",
   "nbconvert_exporter": "python",
   "pygments_lexer": "ipython3",
   "version": "3.9.12"
  }
 },
 "nbformat": 4,
 "nbformat_minor": 5
}
