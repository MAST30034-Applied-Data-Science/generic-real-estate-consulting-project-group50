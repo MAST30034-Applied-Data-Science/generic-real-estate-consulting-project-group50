{
 "cells": [
  {
   "cell_type": "code",
   "execution_count": 1,
   "id": "df460218-62b0-4685-b1cf-2e4cd3141a8b",
   "metadata": {},
   "outputs": [
    {
     "name": "stderr",
     "output_type": "stream",
     "text": [
      "2022-10-01 11:46:29.191241: I tensorflow/core/platform/cpu_feature_guard.cc:193] This TensorFlow binary is optimized with oneAPI Deep Neural Network Library (oneDNN) to use the following CPU instructions in performance-critical operations:  AVX2 FMA\n",
      "To enable them in other operations, rebuild TensorFlow with the appropriate compiler flags.\n"
     ]
    }
   ],
   "source": [
    "from sklearn import preprocessing\n",
    "from sklearn.model_selection import train_test_split\n",
    "from keras.models import Sequential\n",
    "from keras.layers import Dense\n",
    "from keras.layers import Dropout\n",
    "from keras import regularizers\n",
    "\n",
    "import pandas as pd\n",
    "import numpy as np\n",
    "import matplotlib.pyplot as plt\n",
    "\n",
    "from statistics import mode"
   ]
  },
  {
   "cell_type": "code",
   "execution_count": 29,
   "id": "06841ff0-658f-4698-bb6a-67d0b6ff8d90",
   "metadata": {},
   "outputs": [],
   "source": [
    "data = pd.read_csv(\"../data/curated/outliers_removed.csv\")"
   ]
  },
  {
   "cell_type": "code",
   "execution_count": 3,
   "id": "3cfc65a7-c69a-4c2d-97b1-b9f37ffbd4cc",
   "metadata": {},
   "outputs": [],
   "source": [
    "y = data['Weekly Rental Price']\n",
    "x = data[['Postcode','Baths', 'Population', 'Count_School', 'Count_Station', 'Bedrooms']]\n",
    "min_max_scaler = preprocessing.MinMaxScaler()\n",
    "X_scale = min_max_scaler.fit_transform(x)"
   ]
  },
  {
   "cell_type": "code",
   "execution_count": 4,
   "id": "7f4ea93a-97de-4ca1-9280-792dd76719e5",
   "metadata": {},
   "outputs": [],
   "source": [
    "X_train, X_val_and_test, Y_train, Y_val_and_test = train_test_split(X_scale, y, test_size=0.3)\n",
    "X_val, X_test, Y_val, Y_test = train_test_split(X_val_and_test, Y_val_and_test, test_size=0.5)"
   ]
  },
  {
   "cell_type": "code",
   "execution_count": 5,
   "id": "dff92ac3-9ef9-409b-aaf7-e9858281111d",
   "metadata": {},
   "outputs": [
    {
     "name": "stderr",
     "output_type": "stream",
     "text": [
      "2022-10-01 11:46:43.112518: I tensorflow/core/platform/cpu_feature_guard.cc:193] This TensorFlow binary is optimized with oneAPI Deep Neural Network Library (oneDNN) to use the following CPU instructions in performance-critical operations:  AVX2 FMA\n",
      "To enable them in other operations, rebuild TensorFlow with the appropriate compiler flags.\n"
     ]
    }
   ],
   "source": [
    "model = Sequential([\n",
    "    Dense(32, activation='relu', kernel_regularizer=regularizers.l2(0.01), input_shape=(6,)),\n",
    "    Dense(32, activation='relu', kernel_regularizer=regularizers.l2(0.01)),\n",
    "    Dense(1, activation='linear', kernel_regularizer=regularizers.l2(0.01)),\n",
    "])"
   ]
  },
  {
   "cell_type": "code",
   "execution_count": 6,
   "id": "36737169-3363-4a98-99dc-25e379ef3fae",
   "metadata": {},
   "outputs": [],
   "source": [
    "model.compile(optimizer = \"adam\",\n",
    "              loss='mean_squared_logarithmic_error',\n",
    "              metrics=['msle'])"
   ]
  },
  {
   "cell_type": "code",
   "execution_count": 7,
   "id": "55db4cbc-e5e2-4d13-afab-f6d0e2b73b4c",
   "metadata": {},
   "outputs": [
    {
     "name": "stdout",
     "output_type": "stream",
     "text": [
      "Epoch 1/100\n",
      "797/797 [==============================] - 3s 3ms/step - loss: 9.9381 - msle: 9.1362 - val_loss: 3.0680 - val_msle: 1.7711\n",
      "Epoch 2/100\n",
      "797/797 [==============================] - 2s 2ms/step - loss: 2.3878 - msle: 1.0185 - val_loss: 1.9296 - val_msle: 0.6087\n",
      "Epoch 3/100\n",
      "797/797 [==============================] - 2s 2ms/step - loss: 1.6720 - msle: 0.4913 - val_loss: 1.4519 - val_msle: 0.3987\n",
      "Epoch 4/100\n",
      "797/797 [==============================] - 1s 2ms/step - loss: 1.2950 - msle: 0.3450 - val_loss: 1.1556 - val_msle: 0.2989\n",
      "Epoch 5/100\n",
      "797/797 [==============================] - 1s 2ms/step - loss: 1.0540 - msle: 0.2600 - val_loss: 0.9639 - val_msle: 0.2292\n",
      "Epoch 6/100\n",
      "797/797 [==============================] - 2s 2ms/step - loss: 0.8984 - msle: 0.2049 - val_loss: 0.8393 - val_msle: 0.1848\n",
      "Epoch 7/100\n",
      "797/797 [==============================] - 1s 2ms/step - loss: 0.7943 - msle: 0.1705 - val_loss: 0.7516 - val_msle: 0.1568\n",
      "Epoch 8/100\n",
      "797/797 [==============================] - 2s 2ms/step - loss: 0.7159 - msle: 0.1487 - val_loss: 0.6802 - val_msle: 0.1426\n",
      "Epoch 9/100\n",
      "797/797 [==============================] - 2s 3ms/step - loss: 0.6487 - msle: 0.1355 - val_loss: 0.6167 - val_msle: 0.1275\n",
      "Epoch 10/100\n",
      "797/797 [==============================] - 2s 2ms/step - loss: 0.5884 - msle: 0.1254 - val_loss: 0.5598 - val_msle: 0.1168\n",
      "Epoch 11/100\n",
      "797/797 [==============================] - 1s 2ms/step - loss: 0.5345 - msle: 0.1170 - val_loss: 0.5089 - val_msle: 0.1119\n",
      "Epoch 12/100\n",
      "797/797 [==============================] - 1s 2ms/step - loss: 0.4866 - msle: 0.1097 - val_loss: 0.4639 - val_msle: 0.1072\n",
      "Epoch 13/100\n",
      "797/797 [==============================] - 1s 1ms/step - loss: 0.4444 - msle: 0.1035 - val_loss: 0.4245 - val_msle: 0.1040\n",
      "Epoch 14/100\n",
      "797/797 [==============================] - 2s 2ms/step - loss: 0.4074 - msle: 0.0983 - val_loss: 0.3898 - val_msle: 0.0958\n",
      "Epoch 15/100\n",
      "797/797 [==============================] - 2s 3ms/step - loss: 0.3751 - msle: 0.0939 - val_loss: 0.3600 - val_msle: 0.0879\n",
      "Epoch 16/100\n",
      "797/797 [==============================] - 2s 3ms/step - loss: 0.3471 - msle: 0.0903 - val_loss: 0.3336 - val_msle: 0.0886\n",
      "Epoch 17/100\n",
      "797/797 [==============================] - 2s 3ms/step - loss: 0.3226 - msle: 0.0874 - val_loss: 0.3110 - val_msle: 0.0830\n",
      "Epoch 18/100\n",
      "797/797 [==============================] - 2s 2ms/step - loss: 0.3012 - msle: 0.0848 - val_loss: 0.2908 - val_msle: 0.0843\n",
      "Epoch 19/100\n",
      "797/797 [==============================] - 2s 3ms/step - loss: 0.2824 - msle: 0.0831 - val_loss: 0.2731 - val_msle: 0.0820\n",
      "Epoch 20/100\n",
      "797/797 [==============================] - 1s 2ms/step - loss: 0.2657 - msle: 0.0814 - val_loss: 0.2578 - val_msle: 0.0835\n",
      "Epoch 21/100\n",
      "797/797 [==============================] - 1s 2ms/step - loss: 0.2510 - msle: 0.0801 - val_loss: 0.2438 - val_msle: 0.0817\n",
      "Epoch 22/100\n",
      "797/797 [==============================] - 1s 2ms/step - loss: 0.2379 - msle: 0.0790 - val_loss: 0.2312 - val_msle: 0.0785\n",
      "Epoch 23/100\n",
      "797/797 [==============================] - 1s 2ms/step - loss: 0.2262 - msle: 0.0781 - val_loss: 0.2202 - val_msle: 0.0775\n",
      "Epoch 24/100\n",
      "797/797 [==============================] - 1s 2ms/step - loss: 0.2159 - msle: 0.0774 - val_loss: 0.2105 - val_msle: 0.0753\n",
      "Epoch 25/100\n",
      "797/797 [==============================] - 1s 1ms/step - loss: 0.2066 - msle: 0.0767 - val_loss: 0.2017 - val_msle: 0.0758\n",
      "Epoch 26/100\n",
      "797/797 [==============================] - 1s 1ms/step - loss: 0.1983 - msle: 0.0762 - val_loss: 0.1940 - val_msle: 0.0739\n",
      "Epoch 27/100\n",
      "797/797 [==============================] - 1s 1ms/step - loss: 0.1907 - msle: 0.0757 - val_loss: 0.1867 - val_msle: 0.0752\n",
      "Epoch 28/100\n",
      "797/797 [==============================] - 1s 1ms/step - loss: 0.1840 - msle: 0.0754 - val_loss: 0.1804 - val_msle: 0.0737\n",
      "Epoch 29/100\n",
      "797/797 [==============================] - 1s 1ms/step - loss: 0.1781 - msle: 0.0751 - val_loss: 0.1747 - val_msle: 0.0735\n",
      "Epoch 30/100\n",
      "797/797 [==============================] - 1s 1ms/step - loss: 0.1726 - msle: 0.0747 - val_loss: 0.1712 - val_msle: 0.0801\n",
      "Epoch 31/100\n",
      "797/797 [==============================] - 1s 1ms/step - loss: 0.1677 - msle: 0.0745 - val_loss: 0.1649 - val_msle: 0.0752\n",
      "Epoch 32/100\n",
      "797/797 [==============================] - 1s 2ms/step - loss: 0.1632 - msle: 0.0743 - val_loss: 0.1606 - val_msle: 0.0744\n",
      "Epoch 33/100\n",
      "797/797 [==============================] - 1s 1ms/step - loss: 0.1592 - msle: 0.0741 - val_loss: 0.1567 - val_msle: 0.0746\n",
      "Epoch 34/100\n",
      "797/797 [==============================] - 1s 2ms/step - loss: 0.1554 - msle: 0.0739 - val_loss: 0.1531 - val_msle: 0.0740\n",
      "Epoch 35/100\n",
      "797/797 [==============================] - 1s 1ms/step - loss: 0.1519 - msle: 0.0737 - val_loss: 0.1498 - val_msle: 0.0728\n",
      "Epoch 36/100\n",
      "797/797 [==============================] - 1s 1ms/step - loss: 0.1489 - msle: 0.0736 - val_loss: 0.1468 - val_msle: 0.0724\n",
      "Epoch 37/100\n",
      "797/797 [==============================] - 1s 2ms/step - loss: 0.1460 - msle: 0.0735 - val_loss: 0.1440 - val_msle: 0.0724\n",
      "Epoch 38/100\n",
      "797/797 [==============================] - 1s 1ms/step - loss: 0.1434 - msle: 0.0735 - val_loss: 0.1419 - val_msle: 0.0715\n",
      "Epoch 39/100\n",
      "797/797 [==============================] - 1s 1ms/step - loss: 0.1408 - msle: 0.0733 - val_loss: 0.1407 - val_msle: 0.0711\n",
      "Epoch 40/100\n",
      "797/797 [==============================] - 2s 3ms/step - loss: 0.1386 - msle: 0.0732 - val_loss: 0.1368 - val_msle: 0.0724\n",
      "Epoch 41/100\n",
      "797/797 [==============================] - 3s 4ms/step - loss: 0.1365 - msle: 0.0732 - val_loss: 0.1349 - val_msle: 0.0718\n",
      "Epoch 42/100\n",
      "797/797 [==============================] - 2s 2ms/step - loss: 0.1344 - msle: 0.0731 - val_loss: 0.1332 - val_msle: 0.0714\n",
      "Epoch 43/100\n",
      "797/797 [==============================] - 2s 3ms/step - loss: 0.1326 - msle: 0.0730 - val_loss: 0.1317 - val_msle: 0.0712\n",
      "Epoch 44/100\n",
      "797/797 [==============================] - 2s 2ms/step - loss: 0.1308 - msle: 0.0729 - val_loss: 0.1293 - val_msle: 0.0727\n",
      "Epoch 45/100\n",
      "797/797 [==============================] - 2s 2ms/step - loss: 0.1291 - msle: 0.0728 - val_loss: 0.1277 - val_msle: 0.0720\n",
      "Epoch 46/100\n",
      "797/797 [==============================] - 2s 3ms/step - loss: 0.1276 - msle: 0.0729 - val_loss: 0.1265 - val_msle: 0.0736\n",
      "Epoch 47/100\n",
      "797/797 [==============================] - 2s 2ms/step - loss: 0.1261 - msle: 0.0727 - val_loss: 0.1248 - val_msle: 0.0725\n",
      "Epoch 48/100\n",
      "797/797 [==============================] - 2s 2ms/step - loss: 0.1248 - msle: 0.0727 - val_loss: 0.1239 - val_msle: 0.0712\n",
      "Epoch 49/100\n",
      "797/797 [==============================] - 1s 2ms/step - loss: 0.1235 - msle: 0.0727 - val_loss: 0.1226 - val_msle: 0.0713\n",
      "Epoch 50/100\n",
      "797/797 [==============================] - 2s 2ms/step - loss: 0.1223 - msle: 0.0727 - val_loss: 0.1218 - val_msle: 0.0711\n",
      "Epoch 51/100\n",
      "797/797 [==============================] - 2s 2ms/step - loss: 0.1211 - msle: 0.0726 - val_loss: 0.1199 - val_msle: 0.0720\n",
      "Epoch 52/100\n",
      "797/797 [==============================] - 1s 2ms/step - loss: 0.1200 - msle: 0.0726 - val_loss: 0.1189 - val_msle: 0.0714\n",
      "Epoch 53/100\n",
      "797/797 [==============================] - 2s 2ms/step - loss: 0.1188 - msle: 0.0724 - val_loss: 0.1184 - val_msle: 0.0740\n",
      "Epoch 54/100\n",
      "797/797 [==============================] - 1s 2ms/step - loss: 0.1179 - msle: 0.0725 - val_loss: 0.1176 - val_msle: 0.0711\n",
      "Epoch 55/100\n",
      "797/797 [==============================] - 2s 2ms/step - loss: 0.1170 - msle: 0.0726 - val_loss: 0.1158 - val_msle: 0.0716\n",
      "Epoch 56/100\n",
      "797/797 [==============================] - 1s 2ms/step - loss: 0.1160 - msle: 0.0725 - val_loss: 0.1151 - val_msle: 0.0713\n",
      "Epoch 57/100\n",
      "797/797 [==============================] - 2s 2ms/step - loss: 0.1151 - msle: 0.0724 - val_loss: 0.1141 - val_msle: 0.0719\n",
      "Epoch 58/100\n",
      "797/797 [==============================] - 2s 2ms/step - loss: 0.1144 - msle: 0.0725 - val_loss: 0.1141 - val_msle: 0.0711\n",
      "Epoch 59/100\n",
      "797/797 [==============================] - 2s 2ms/step - loss: 0.1135 - msle: 0.0724 - val_loss: 0.1125 - val_msle: 0.0719\n",
      "Epoch 60/100\n",
      "797/797 [==============================] - 1s 2ms/step - loss: 0.1127 - msle: 0.0723 - val_loss: 0.1118 - val_msle: 0.0713\n",
      "Epoch 61/100\n",
      "797/797 [==============================] - 1s 2ms/step - loss: 0.1120 - msle: 0.0724 - val_loss: 0.1110 - val_msle: 0.0715\n",
      "Epoch 62/100\n",
      "797/797 [==============================] - 1s 2ms/step - loss: 0.1113 - msle: 0.0723 - val_loss: 0.1105 - val_msle: 0.0726\n",
      "Epoch 63/100\n",
      "797/797 [==============================] - 1s 2ms/step - loss: 0.1106 - msle: 0.0723 - val_loss: 0.1099 - val_msle: 0.0711\n",
      "Epoch 64/100\n",
      "797/797 [==============================] - 1s 2ms/step - loss: 0.1099 - msle: 0.0723 - val_loss: 0.1091 - val_msle: 0.0712\n",
      "Epoch 65/100\n",
      "797/797 [==============================] - 1s 2ms/step - loss: 0.1093 - msle: 0.0723 - val_loss: 0.1085 - val_msle: 0.0725\n",
      "Epoch 66/100\n",
      "797/797 [==============================] - 1s 2ms/step - loss: 0.1087 - msle: 0.0723 - val_loss: 0.1078 - val_msle: 0.0714\n",
      "Epoch 67/100\n",
      "797/797 [==============================] - 2s 2ms/step - loss: 0.1081 - msle: 0.0723 - val_loss: 0.1073 - val_msle: 0.0722\n",
      "Epoch 68/100\n",
      "797/797 [==============================] - 1s 2ms/step - loss: 0.1076 - msle: 0.0723 - val_loss: 0.1068 - val_msle: 0.0712\n",
      "Epoch 69/100\n",
      "797/797 [==============================] - 1s 2ms/step - loss: 0.1070 - msle: 0.0722 - val_loss: 0.1062 - val_msle: 0.0712\n",
      "Epoch 70/100\n",
      "797/797 [==============================] - 2s 2ms/step - loss: 0.1066 - msle: 0.0723 - val_loss: 0.1056 - val_msle: 0.0719\n",
      "Epoch 71/100\n",
      "797/797 [==============================] - 2s 2ms/step - loss: 0.1062 - msle: 0.0724 - val_loss: 0.1053 - val_msle: 0.0725\n",
      "Epoch 72/100\n",
      "797/797 [==============================] - 1s 2ms/step - loss: 0.1055 - msle: 0.0722 - val_loss: 0.1049 - val_msle: 0.0711\n",
      "Epoch 73/100\n",
      "797/797 [==============================] - 2s 2ms/step - loss: 0.1050 - msle: 0.0722 - val_loss: 0.1043 - val_msle: 0.0724\n",
      "Epoch 74/100\n",
      "797/797 [==============================] - 1s 2ms/step - loss: 0.1046 - msle: 0.0722 - val_loss: 0.1040 - val_msle: 0.0711\n",
      "Epoch 75/100\n",
      "797/797 [==============================] - 2s 2ms/step - loss: 0.1041 - msle: 0.0721 - val_loss: 0.1032 - val_msle: 0.0717\n",
      "Epoch 76/100\n",
      "797/797 [==============================] - 1s 2ms/step - loss: 0.1037 - msle: 0.0721 - val_loss: 0.1028 - val_msle: 0.0717\n",
      "Epoch 77/100\n",
      "797/797 [==============================] - 1s 2ms/step - loss: 0.1033 - msle: 0.0722 - val_loss: 0.1027 - val_msle: 0.0711\n",
      "Epoch 78/100\n",
      "797/797 [==============================] - 2s 2ms/step - loss: 0.1029 - msle: 0.0722 - val_loss: 0.1020 - val_msle: 0.0714\n",
      "Epoch 79/100\n",
      "797/797 [==============================] - 1s 2ms/step - loss: 0.1025 - msle: 0.0721 - val_loss: 0.1018 - val_msle: 0.0722\n",
      "Epoch 80/100\n",
      "797/797 [==============================] - 2s 2ms/step - loss: 0.1022 - msle: 0.0722 - val_loss: 0.1014 - val_msle: 0.0711\n",
      "Epoch 81/100\n",
      "797/797 [==============================] - 1s 2ms/step - loss: 0.1017 - msle: 0.0721 - val_loss: 0.1009 - val_msle: 0.0713\n",
      "Epoch 82/100\n",
      "797/797 [==============================] - 1s 2ms/step - loss: 0.1015 - msle: 0.0723 - val_loss: 0.1006 - val_msle: 0.0720\n",
      "Epoch 83/100\n",
      "797/797 [==============================] - 2s 3ms/step - loss: 0.1010 - msle: 0.0721 - val_loss: 0.1003 - val_msle: 0.0720\n",
      "Epoch 84/100\n",
      "797/797 [==============================] - 2s 2ms/step - loss: 0.1006 - msle: 0.0721 - val_loss: 0.0998 - val_msle: 0.0715\n",
      "Epoch 85/100\n",
      "797/797 [==============================] - 2s 2ms/step - loss: 0.1003 - msle: 0.0721 - val_loss: 0.1000 - val_msle: 0.0711\n",
      "Epoch 86/100\n",
      "797/797 [==============================] - 2s 2ms/step - loss: 0.1001 - msle: 0.0722 - val_loss: 0.0996 - val_msle: 0.0727\n",
      "Epoch 87/100\n",
      "797/797 [==============================] - 2s 2ms/step - loss: 0.0998 - msle: 0.0722 - val_loss: 0.0989 - val_msle: 0.0716\n",
      "Epoch 88/100\n",
      "797/797 [==============================] - 1s 2ms/step - loss: 0.0993 - msle: 0.0720 - val_loss: 0.0986 - val_msle: 0.0713\n",
      "Epoch 89/100\n",
      "797/797 [==============================] - 1s 2ms/step - loss: 0.0991 - msle: 0.0721 - val_loss: 0.0984 - val_msle: 0.0719\n",
      "Epoch 90/100\n",
      "797/797 [==============================] - 1s 2ms/step - loss: 0.0988 - msle: 0.0721 - val_loss: 0.0980 - val_msle: 0.0717\n",
      "Epoch 91/100\n",
      "797/797 [==============================] - 1s 2ms/step - loss: 0.0985 - msle: 0.0720 - val_loss: 0.0979 - val_msle: 0.0711\n",
      "Epoch 92/100\n",
      "797/797 [==============================] - 1s 2ms/step - loss: 0.0982 - msle: 0.0720 - val_loss: 0.0982 - val_msle: 0.0712\n",
      "Epoch 93/100\n",
      "797/797 [==============================] - 1s 2ms/step - loss: 0.0980 - msle: 0.0720 - val_loss: 0.0971 - val_msle: 0.0714\n",
      "Epoch 94/100\n",
      "797/797 [==============================] - 3s 3ms/step - loss: 0.0978 - msle: 0.0721 - val_loss: 0.0974 - val_msle: 0.0726\n",
      "Epoch 95/100\n",
      "797/797 [==============================] - 2s 2ms/step - loss: 0.0974 - msle: 0.0720 - val_loss: 0.0973 - val_msle: 0.0711\n",
      "Epoch 96/100\n",
      "797/797 [==============================] - 1s 2ms/step - loss: 0.0971 - msle: 0.0720 - val_loss: 0.0973 - val_msle: 0.0733\n",
      "Epoch 97/100\n",
      "797/797 [==============================] - 1s 2ms/step - loss: 0.0970 - msle: 0.0721 - val_loss: 0.0965 - val_msle: 0.0711\n",
      "Epoch 98/100\n",
      "797/797 [==============================] - 1s 2ms/step - loss: 0.0967 - msle: 0.0720 - val_loss: 0.0961 - val_msle: 0.0721\n",
      "Epoch 99/100\n",
      "797/797 [==============================] - 1s 2ms/step - loss: 0.0965 - msle: 0.0721 - val_loss: 0.0957 - val_msle: 0.0712\n",
      "Epoch 100/100\n",
      "797/797 [==============================] - 1s 2ms/step - loss: 0.0962 - msle: 0.0720 - val_loss: 0.0957 - val_msle: 0.0723\n"
     ]
    }
   ],
   "source": [
    "hist = model.fit(X_train, Y_train,\n",
    "          batch_size=32, epochs=100,\n",
    "          validation_data=(X_val, Y_val))"
   ]
  },
  {
   "cell_type": "code",
   "execution_count": 8,
   "id": "8450a4af-5290-4c22-9bd0-17f593c0ec44",
   "metadata": {},
   "outputs": [
    {
     "name": "stdout",
     "output_type": "stream",
     "text": [
      "171/171 [==============================] - 0s 1ms/step - loss: 0.0954 - msle: 0.0720\n"
     ]
    },
    {
     "data": {
      "text/plain": [
       "0.07199540734291077"
      ]
     },
     "execution_count": 8,
     "metadata": {},
     "output_type": "execute_result"
    }
   ],
   "source": [
    "model.evaluate(X_test, Y_test)[1]"
   ]
  },
  {
   "cell_type": "code",
   "execution_count": 9,
   "id": "76f845c8-4ba3-4feb-87f6-216c9bd4d31e",
   "metadata": {},
   "outputs": [
    {
     "data": {
      "image/png": "[encoded data removed]",
      "text/plain": [
       "<Figure size 432x288 with 1 Axes>"
      ]
     },
     "metadata": {
      "needs_background": "light"
     },
     "output_type": "display_data"
    }
   ],
   "source": [
    "plt.plot(hist.history['loss'])\n",
    "plt.plot(hist.history['val_loss'])\n",
    "plt.title('Model loss')\n",
    "plt.ylabel('Loss')\n",
    "plt.xlabel('Epoch')\n",
    "plt.legend(['Train', 'Val'], loc='upper right')\n",
    "plt.show()"
   ]
  },
  {
   "cell_type": "code",
   "execution_count": 10,
   "id": "e35af6f0-ba34-416a-ba48-4f0a195b7a55",
   "metadata": {},
   "outputs": [
    {
     "data": {
      "image/png": "[encoded data removed]",
      "text/plain": [
       "<Figure size 432x288 with 1 Axes>"
      ]
     },
     "metadata": {
      "needs_background": "light"
     },
     "output_type": "display_data"
    }
   ],
   "source": [
    "plt.plot(hist.history['msle'])\n",
    "plt.plot(hist.history['val_msle'])\n",
    "plt.title('Model MSLE')\n",
    "plt.ylabel('MSLE')\n",
    "plt.xlabel('Epoch')\n",
    "plt.legend(['Train', 'Val'], loc='lower right')\n",
    "plt.show()"
   ]
  },
  {
   "cell_type": "code",
   "execution_count": 11,
   "id": "b43535df",
   "metadata": {},
   "outputs": [
    {
     "name": "stdout",
     "output_type": "stream",
     "text": [
      "171/171 [==============================] - 0s 833us/step\n"
     ]
    }
   ],
   "source": [
    "prediction = model.predict(X_val)"
   ]
  },
  {
   "cell_type": "code",
   "execution_count": 12,
   "id": "fa0588e3",
   "metadata": {},
   "outputs": [
    {
     "data": {
      "text/plain": [
       "13.370573"
      ]
     },
     "execution_count": 12,
     "metadata": {},
     "output_type": "execute_result"
    }
   ],
   "source": [
    "# calculate the absolute errors\n",
    "error = prediction - Y_val[1]\n",
    "error = [abs(x) for x in error]\n",
    "\n",
    "# print out the mean absolute error (mae)\n",
    "np.mean(error)"
   ]
  },
  {
   "cell_type": "code",
   "execution_count": 13,
   "id": "f392f9d1",
   "metadata": {},
   "outputs": [
    {
     "data": {
      "text/plain": [
       "91.83942998027614"
      ]
     },
     "execution_count": 13,
     "metadata": {},
     "output_type": "execute_result"
    }
   ],
   "source": [
    "# calculate the absolute errors of baseline model\n",
    "y_mode = mode(Y_val)\n",
    "baseline_error = [abs(y_mode-x) for x in Y_val]\n",
    "np.mean(baseline_error)"
   ]
  },
  {
   "cell_type": "code",
   "execution_count": 30,
   "id": "9145a107-a085-4d19-9b1c-af1085869ac2",
   "metadata": {},
   "outputs": [],
   "source": [
    "pop = pd.read_csv(\"../data/curated/predicted_population.csv\")"
   ]
  },
  {
   "cell_type": "code",
   "execution_count": 31,
   "id": "7fca1cbf-6504-4f33-967c-0d5678e2c21a",
   "metadata": {},
   "outputs": [],
   "source": [
    "post_data = data[['Postcode', 'Baths','Population', 'Count_School', 'Count_Station','Bedrooms','Weekly Rental Price']]"
   ]
  },
  {
   "cell_type": "code",
   "execution_count": 32,
   "id": "95b7bbee-4a57-40dd-82b9-b7961d01fbdc",
   "metadata": {},
   "outputs": [],
   "source": [
    "pop_2023 = pop[['Postcode','2023']]\n",
    "pop_2024 = pop[['Postcode','2024']]\n",
    "pop_2025 = pop[['Postcode','2025']]"
   ]
  },
  {
   "cell_type": "code",
   "execution_count": 33,
   "id": "c4e14b1f-d941-4ee8-9c73-e80038cab70c",
   "metadata": {},
   "outputs": [],
   "source": [
    "pop_2023 = pd.merge(pop_2023, post_data, how='inner', on=['Postcode'])\n",
    "pop_2023 =pop_2023.drop(labels=['Population'],axis=1) \n",
    "pop_2023 = pop_2023[['Postcode', '2023', 'Baths', 'Count_School', 'Count_Station', 'Bedrooms']]"
   ]
  },
  {
   "cell_type": "code",
   "execution_count": 34,
   "id": "5c9a7494-ecd9-48b4-b373-5d9ac7148afb",
   "metadata": {},
   "outputs": [
    {
     "name": "stdout",
     "output_type": "stream",
     "text": [
      "1138/1138 [==============================] - 2s 1ms/step\n"
     ]
    }
   ],
   "source": [
    "pop_2023['Count_School'] = pop_2023['Count_School'].fillna(value = 0)\n",
    "pop_2023['Count_Station'] = pop_2023['Count_Station'].fillna(value = 0)\n",
    "pop_2023 = pop_2023.dropna(axis=0)\n",
    "pop_2023 = pop_2023[(pop_2023['Baths'] > 0) & (pop_2023['Bedrooms'] > 0)]\n",
    "pred_2023 = model.predict(pop_2023)\n",
    "data.insert(6, 'Pred_2023', pred_2023)"
   ]
  },
  {
   "cell_type": "code",
   "execution_count": 35,
   "id": "ee5a79cf-b663-481d-8607-01b5108a2bd3",
   "metadata": {},
   "outputs": [],
   "source": [
    "pop_2024 = pd.merge(pop_2024, post_data, how='inner', on=['Postcode'])\n",
    "pop_2024 =pop_2024.drop(labels=['Population'],axis=1) \n",
    "pop_2024 = pop_2024[['Postcode', '2024', 'Baths', 'Count_School', 'Count_Station', 'Bedrooms']]"
   ]
  },
  {
   "cell_type": "code",
   "execution_count": 36,
   "id": "0302a922-1974-40bf-8e7e-b43a67b21152",
   "metadata": {},
   "outputs": [
    {
     "name": "stdout",
     "output_type": "stream",
     "text": [
      "1138/1138 [==============================] - 2s 2ms/step\n"
     ]
    }
   ],
   "source": [
    "pop_2024['Count_School'] = pop_2024['Count_School'].fillna(value = 0)\n",
    "pop_2024['Count_Station'] = pop_2024['Count_Station'].fillna(value = 0)\n",
    "pop_2024 = pop_2024.dropna(axis=0)\n",
    "pop_2024 = pop_2024[(pop_2024['Baths'] > 0) & (pop_2024['Bedrooms'] > 0)]\n",
    "pred_2024 = model.predict(pop_2024)\n",
    "data.insert(7, 'Pred_2024', pred_2024)"
   ]
  },
  {
   "cell_type": "code",
   "execution_count": 37,
   "id": "b22b409b-d53a-417a-844e-8a3401b3e351",
   "metadata": {},
   "outputs": [],
   "source": [
    "pop_2025 = pd.merge(pop_2025, post_data, how='inner', on=['Postcode'])\n",
    "pop_2025 =pop_2025.drop(labels=['Population'],axis=1) \n",
    "pop_2025 = pop_2025[['Postcode', '2025', 'Baths', 'Count_School', 'Count_Station', 'Bedrooms']]"
   ]
  },
  {
   "cell_type": "code",
   "execution_count": 38,
   "id": "5be97538-393f-4217-ac7a-886f9da5e853",
   "metadata": {},
   "outputs": [
    {
     "name": "stdout",
     "output_type": "stream",
     "text": [
      "1138/1138 [==============================] - 2s 2ms/step\n"
     ]
    }
   ],
   "source": [
    "pop_2025['Count_School'] = pop_2025['Count_School'].fillna(value = 0)\n",
    "pop_2025['Count_Station'] = pop_2025['Count_Station'].fillna(value = 0)\n",
    "pop_2025 = pop_2025.dropna(axis=0)\n",
    "pop_2025 = pop_2025[(pop_2025['Baths'] > 0) & (pop_2025['Bedrooms'] > 0)]\n",
    "pred_2025 = model.predict(pop_2025)\n",
    "data.insert(8, 'Pred_2025', pred_2025)"
   ]
  },
  {
   "cell_type": "code",
   "execution_count": 39,
   "id": "aa11a625-105d-4f54-b33c-35f828663c6f",
   "metadata": {},
   "outputs": [
    {
     "data": {
      "text/html": [
       "<div>\n",
       "<style scoped>\n",
       "    .dataframe tbody tr th:only-of-type {\n",
       "        vertical-align: middle;\n",
       "    }\n",
       "\n",
       "    .dataframe tbody tr th {\n",
       "        vertical-align: top;\n",
       "    }\n",
       "\n",
       "    .dataframe thead th {\n",
       "        text-align: right;\n",
       "    }\n",
       "</style>\n",
       "<table border=\"1\" class=\"dataframe\">\n",
       "  <thead>\n",
       "    <tr style=\"text-align: right;\">\n",
       "      <th></th>\n",
       "      <th>Unnamed: 0</th>\n",
       "      <th>Postcode</th>\n",
       "      <th>Baths</th>\n",
       "      <th>Population</th>\n",
       "      <th>Count_School</th>\n",
       "      <th>Count_Station</th>\n",
       "      <th>Pred_2023</th>\n",
       "      <th>Pred_2024</th>\n",
       "      <th>Pred_2025</th>\n",
       "      <th>Bedrooms</th>\n",
       "      <th>Weekly Rental Price</th>\n",
       "    </tr>\n",
       "  </thead>\n",
       "  <tbody>\n",
       "    <tr>\n",
       "      <th>0</th>\n",
       "      <td>5</td>\n",
       "      <td>3000</td>\n",
       "      <td>1</td>\n",
       "      <td>34652.148872</td>\n",
       "      <td>4.0</td>\n",
       "      <td>45.0</td>\n",
       "      <td>545.472290</td>\n",
       "      <td>546.494873</td>\n",
       "      <td>547.346924</td>\n",
       "      <td>1</td>\n",
       "      <td>440.0</td>\n",
       "    </tr>\n",
       "    <tr>\n",
       "      <th>1</th>\n",
       "      <td>6</td>\n",
       "      <td>3000</td>\n",
       "      <td>1</td>\n",
       "      <td>34652.148872</td>\n",
       "      <td>4.0</td>\n",
       "      <td>45.0</td>\n",
       "      <td>545.472290</td>\n",
       "      <td>546.494873</td>\n",
       "      <td>547.346924</td>\n",
       "      <td>1</td>\n",
       "      <td>440.0</td>\n",
       "    </tr>\n",
       "    <tr>\n",
       "      <th>2</th>\n",
       "      <td>7</td>\n",
       "      <td>3000</td>\n",
       "      <td>1</td>\n",
       "      <td>34652.148872</td>\n",
       "      <td>4.0</td>\n",
       "      <td>45.0</td>\n",
       "      <td>545.472290</td>\n",
       "      <td>546.494873</td>\n",
       "      <td>547.346924</td>\n",
       "      <td>1</td>\n",
       "      <td>440.0</td>\n",
       "    </tr>\n",
       "    <tr>\n",
       "      <th>3</th>\n",
       "      <td>8</td>\n",
       "      <td>3000</td>\n",
       "      <td>1</td>\n",
       "      <td>34652.148872</td>\n",
       "      <td>4.0</td>\n",
       "      <td>45.0</td>\n",
       "      <td>545.472290</td>\n",
       "      <td>546.494873</td>\n",
       "      <td>547.346924</td>\n",
       "      <td>1</td>\n",
       "      <td>440.0</td>\n",
       "    </tr>\n",
       "    <tr>\n",
       "      <th>4</th>\n",
       "      <td>9</td>\n",
       "      <td>3000</td>\n",
       "      <td>1</td>\n",
       "      <td>34652.148872</td>\n",
       "      <td>4.0</td>\n",
       "      <td>45.0</td>\n",
       "      <td>545.472290</td>\n",
       "      <td>546.494873</td>\n",
       "      <td>547.346924</td>\n",
       "      <td>1</td>\n",
       "      <td>440.0</td>\n",
       "    </tr>\n",
       "    <tr>\n",
       "      <th>...</th>\n",
       "      <td>...</td>\n",
       "      <td>...</td>\n",
       "      <td>...</td>\n",
       "      <td>...</td>\n",
       "      <td>...</td>\n",
       "      <td>...</td>\n",
       "      <td>...</td>\n",
       "      <td>...</td>\n",
       "      <td>...</td>\n",
       "      <td>...</td>\n",
       "      <td>...</td>\n",
       "    </tr>\n",
       "    <tr>\n",
       "      <th>36395</th>\n",
       "      <td>42824</td>\n",
       "      <td>3996</td>\n",
       "      <td>1</td>\n",
       "      <td>36889.657143</td>\n",
       "      <td>0.0</td>\n",
       "      <td>0.0</td>\n",
       "      <td>552.894287</td>\n",
       "      <td>557.032898</td>\n",
       "      <td>561.354553</td>\n",
       "      <td>2</td>\n",
       "      <td>420.0</td>\n",
       "    </tr>\n",
       "    <tr>\n",
       "      <th>36396</th>\n",
       "      <td>42825</td>\n",
       "      <td>3996</td>\n",
       "      <td>1</td>\n",
       "      <td>36889.657143</td>\n",
       "      <td>0.0</td>\n",
       "      <td>0.0</td>\n",
       "      <td>552.894287</td>\n",
       "      <td>557.032898</td>\n",
       "      <td>561.354553</td>\n",
       "      <td>2</td>\n",
       "      <td>370.0</td>\n",
       "    </tr>\n",
       "    <tr>\n",
       "      <th>36397</th>\n",
       "      <td>42826</td>\n",
       "      <td>3996</td>\n",
       "      <td>1</td>\n",
       "      <td>36889.657143</td>\n",
       "      <td>0.0</td>\n",
       "      <td>0.0</td>\n",
       "      <td>552.894287</td>\n",
       "      <td>557.032898</td>\n",
       "      <td>561.354553</td>\n",
       "      <td>2</td>\n",
       "      <td>370.0</td>\n",
       "    </tr>\n",
       "    <tr>\n",
       "      <th>36398</th>\n",
       "      <td>42827</td>\n",
       "      <td>3996</td>\n",
       "      <td>2</td>\n",
       "      <td>36889.657143</td>\n",
       "      <td>0.0</td>\n",
       "      <td>0.0</td>\n",
       "      <td>552.893433</td>\n",
       "      <td>557.032104</td>\n",
       "      <td>561.353699</td>\n",
       "      <td>3</td>\n",
       "      <td>475.0</td>\n",
       "    </tr>\n",
       "    <tr>\n",
       "      <th>36399</th>\n",
       "      <td>42828</td>\n",
       "      <td>3996</td>\n",
       "      <td>2</td>\n",
       "      <td>36889.657143</td>\n",
       "      <td>0.0</td>\n",
       "      <td>0.0</td>\n",
       "      <td>552.893433</td>\n",
       "      <td>557.032104</td>\n",
       "      <td>561.353699</td>\n",
       "      <td>3</td>\n",
       "      <td>475.0</td>\n",
       "    </tr>\n",
       "  </tbody>\n",
       "</table>\n",
       "<p>36400 rows × 11 columns</p>\n",
       "</div>"
      ],
      "text/plain": [
       "       Unnamed: 0  Postcode  Baths    Population  Count_School  Count_Station  \\\n",
       "0               5      3000      1  34652.148872           4.0           45.0   \n",
       "1               6      3000      1  34652.148872           4.0           45.0   \n",
       "2               7      3000      1  34652.148872           4.0           45.0   \n",
       "3               8      3000      1  34652.148872           4.0           45.0   \n",
       "4               9      3000      1  34652.148872           4.0           45.0   \n",
       "...           ...       ...    ...           ...           ...            ...   \n",
       "36395       42824      3996      1  36889.657143           0.0            0.0   \n",
       "36396       42825      3996      1  36889.657143           0.0            0.0   \n",
       "36397       42826      3996      1  36889.657143           0.0            0.0   \n",
       "36398       42827      3996      2  36889.657143           0.0            0.0   \n",
       "36399       42828      3996      2  36889.657143           0.0            0.0   \n",
       "\n",
       "        Pred_2023   Pred_2024   Pred_2025  Bedrooms  Weekly Rental Price  \n",
       "0      545.472290  546.494873  547.346924         1                440.0  \n",
       "1      545.472290  546.494873  547.346924         1                440.0  \n",
       "2      545.472290  546.494873  547.346924         1                440.0  \n",
       "3      545.472290  546.494873  547.346924         1                440.0  \n",
       "4      545.472290  546.494873  547.346924         1                440.0  \n",
       "...           ...         ...         ...       ...                  ...  \n",
       "36395  552.894287  557.032898  561.354553         2                420.0  \n",
       "36396  552.894287  557.032898  561.354553         2                370.0  \n",
       "36397  552.894287  557.032898  561.354553         2                370.0  \n",
       "36398  552.893433  557.032104  561.353699         3                475.0  \n",
       "36399  552.893433  557.032104  561.353699         3                475.0  \n",
       "\n",
       "[36400 rows x 11 columns]"
      ]
     },
     "execution_count": 39,
     "metadata": {},
     "output_type": "execute_result"
    }
   ],
   "source": [
    "data"
   ]
  },
  {
   "cell_type": "code",
   "execution_count": 40,
   "id": "102883c3-e6bb-4dea-9120-0c5b1f779888",
   "metadata": {},
   "outputs": [],
   "source": [
    "data['rate_2023'] = (data['Pred_2023'] - data['Weekly Rental Price'])/data['Weekly Rental Price']"
   ]
  },
  {
   "cell_type": "code",
   "execution_count": 41,
   "id": "b3b9924d-9f9c-4c00-8e57-104cc7bbb5ec",
   "metadata": {},
   "outputs": [],
   "source": [
    "data['rate_2024'] = (data['Pred_2024'] - data['Weekly Rental Price'])/data['Weekly Rental Price']"
   ]
  },
  {
   "cell_type": "code",
   "execution_count": 42,
   "id": "241ad7b7-ba16-42f0-88eb-153fce9471b5",
   "metadata": {},
   "outputs": [],
   "source": [
    "data['rate_2025'] = (data['Pred_2025'] - data['Weekly Rental Price'])/data['Weekly Rental Price']"
   ]
  },
  {
   "cell_type": "code",
   "execution_count": 45,
   "id": "f0ce5c49-ee60-4eb0-83a4-1a1beffe4fee",
   "metadata": {},
   "outputs": [
    {
     "data": {
      "text/html": [
       "<div>\n",
       "<style scoped>\n",
       "    .dataframe tbody tr th:only-of-type {\n",
       "        vertical-align: middle;\n",
       "    }\n",
       "\n",
       "    .dataframe tbody tr th {\n",
       "        vertical-align: top;\n",
       "    }\n",
       "\n",
       "    .dataframe thead th {\n",
       "        text-align: right;\n",
       "    }\n",
       "</style>\n",
       "<table border=\"1\" class=\"dataframe\">\n",
       "  <thead>\n",
       "    <tr style=\"text-align: right;\">\n",
       "      <th></th>\n",
       "      <th>Postcode</th>\n",
       "      <th>Baths</th>\n",
       "      <th>Population</th>\n",
       "      <th>Count_School</th>\n",
       "      <th>Count_Station</th>\n",
       "      <th>Pred_2023</th>\n",
       "      <th>Pred_2024</th>\n",
       "      <th>Pred_2025</th>\n",
       "      <th>Bedrooms</th>\n",
       "      <th>Weekly Rental Price</th>\n",
       "      <th>rate_2023</th>\n",
       "      <th>rate_2024</th>\n",
       "      <th>rate_2025</th>\n",
       "    </tr>\n",
       "  </thead>\n",
       "  <tbody>\n",
       "    <tr>\n",
       "      <th>0</th>\n",
       "      <td>3000</td>\n",
       "      <td>1</td>\n",
       "      <td>34652.148872</td>\n",
       "      <td>4.0</td>\n",
       "      <td>45.0</td>\n",
       "      <td>545.472290</td>\n",
       "      <td>546.494873</td>\n",
       "      <td>547.346924</td>\n",
       "      <td>1</td>\n",
       "      <td>440.0</td>\n",
       "      <td>0.239710</td>\n",
       "      <td>0.242034</td>\n",
       "      <td>0.243970</td>\n",
       "    </tr>\n",
       "    <tr>\n",
       "      <th>1</th>\n",
       "      <td>3000</td>\n",
       "      <td>1</td>\n",
       "      <td>34652.148872</td>\n",
       "      <td>4.0</td>\n",
       "      <td>45.0</td>\n",
       "      <td>545.472290</td>\n",
       "      <td>546.494873</td>\n",
       "      <td>547.346924</td>\n",
       "      <td>1</td>\n",
       "      <td>440.0</td>\n",
       "      <td>0.239710</td>\n",
       "      <td>0.242034</td>\n",
       "      <td>0.243970</td>\n",
       "    </tr>\n",
       "    <tr>\n",
       "      <th>2</th>\n",
       "      <td>3000</td>\n",
       "      <td>1</td>\n",
       "      <td>34652.148872</td>\n",
       "      <td>4.0</td>\n",
       "      <td>45.0</td>\n",
       "      <td>545.472290</td>\n",
       "      <td>546.494873</td>\n",
       "      <td>547.346924</td>\n",
       "      <td>1</td>\n",
       "      <td>440.0</td>\n",
       "      <td>0.239710</td>\n",
       "      <td>0.242034</td>\n",
       "      <td>0.243970</td>\n",
       "    </tr>\n",
       "    <tr>\n",
       "      <th>3</th>\n",
       "      <td>3000</td>\n",
       "      <td>1</td>\n",
       "      <td>34652.148872</td>\n",
       "      <td>4.0</td>\n",
       "      <td>45.0</td>\n",
       "      <td>545.472290</td>\n",
       "      <td>546.494873</td>\n",
       "      <td>547.346924</td>\n",
       "      <td>1</td>\n",
       "      <td>440.0</td>\n",
       "      <td>0.239710</td>\n",
       "      <td>0.242034</td>\n",
       "      <td>0.243970</td>\n",
       "    </tr>\n",
       "    <tr>\n",
       "      <th>4</th>\n",
       "      <td>3000</td>\n",
       "      <td>1</td>\n",
       "      <td>34652.148872</td>\n",
       "      <td>4.0</td>\n",
       "      <td>45.0</td>\n",
       "      <td>545.472290</td>\n",
       "      <td>546.494873</td>\n",
       "      <td>547.346924</td>\n",
       "      <td>1</td>\n",
       "      <td>440.0</td>\n",
       "      <td>0.239710</td>\n",
       "      <td>0.242034</td>\n",
       "      <td>0.243970</td>\n",
       "    </tr>\n",
       "    <tr>\n",
       "      <th>...</th>\n",
       "      <td>...</td>\n",
       "      <td>...</td>\n",
       "      <td>...</td>\n",
       "      <td>...</td>\n",
       "      <td>...</td>\n",
       "      <td>...</td>\n",
       "      <td>...</td>\n",
       "      <td>...</td>\n",
       "      <td>...</td>\n",
       "      <td>...</td>\n",
       "      <td>...</td>\n",
       "      <td>...</td>\n",
       "      <td>...</td>\n",
       "    </tr>\n",
       "    <tr>\n",
       "      <th>36395</th>\n",
       "      <td>3996</td>\n",
       "      <td>1</td>\n",
       "      <td>36889.657143</td>\n",
       "      <td>0.0</td>\n",
       "      <td>0.0</td>\n",
       "      <td>552.894287</td>\n",
       "      <td>557.032898</td>\n",
       "      <td>561.354553</td>\n",
       "      <td>2</td>\n",
       "      <td>420.0</td>\n",
       "      <td>0.316415</td>\n",
       "      <td>0.326269</td>\n",
       "      <td>0.336558</td>\n",
       "    </tr>\n",
       "    <tr>\n",
       "      <th>36396</th>\n",
       "      <td>3996</td>\n",
       "      <td>1</td>\n",
       "      <td>36889.657143</td>\n",
       "      <td>0.0</td>\n",
       "      <td>0.0</td>\n",
       "      <td>552.894287</td>\n",
       "      <td>557.032898</td>\n",
       "      <td>561.354553</td>\n",
       "      <td>2</td>\n",
       "      <td>370.0</td>\n",
       "      <td>0.494309</td>\n",
       "      <td>0.505494</td>\n",
       "      <td>0.517174</td>\n",
       "    </tr>\n",
       "    <tr>\n",
       "      <th>36397</th>\n",
       "      <td>3996</td>\n",
       "      <td>1</td>\n",
       "      <td>36889.657143</td>\n",
       "      <td>0.0</td>\n",
       "      <td>0.0</td>\n",
       "      <td>552.894287</td>\n",
       "      <td>557.032898</td>\n",
       "      <td>561.354553</td>\n",
       "      <td>2</td>\n",
       "      <td>370.0</td>\n",
       "      <td>0.494309</td>\n",
       "      <td>0.505494</td>\n",
       "      <td>0.517174</td>\n",
       "    </tr>\n",
       "    <tr>\n",
       "      <th>36398</th>\n",
       "      <td>3996</td>\n",
       "      <td>2</td>\n",
       "      <td>36889.657143</td>\n",
       "      <td>0.0</td>\n",
       "      <td>0.0</td>\n",
       "      <td>552.893433</td>\n",
       "      <td>557.032104</td>\n",
       "      <td>561.353699</td>\n",
       "      <td>3</td>\n",
       "      <td>475.0</td>\n",
       "      <td>0.163986</td>\n",
       "      <td>0.172699</td>\n",
       "      <td>0.181797</td>\n",
       "    </tr>\n",
       "    <tr>\n",
       "      <th>36399</th>\n",
       "      <td>3996</td>\n",
       "      <td>2</td>\n",
       "      <td>36889.657143</td>\n",
       "      <td>0.0</td>\n",
       "      <td>0.0</td>\n",
       "      <td>552.893433</td>\n",
       "      <td>557.032104</td>\n",
       "      <td>561.353699</td>\n",
       "      <td>3</td>\n",
       "      <td>475.0</td>\n",
       "      <td>0.163986</td>\n",
       "      <td>0.172699</td>\n",
       "      <td>0.181797</td>\n",
       "    </tr>\n",
       "  </tbody>\n",
       "</table>\n",
       "<p>36400 rows × 13 columns</p>\n",
       "</div>"
      ],
      "text/plain": [
       "       Postcode  Baths    Population  Count_School  Count_Station   Pred_2023  \\\n",
       "0          3000      1  34652.148872           4.0           45.0  545.472290   \n",
       "1          3000      1  34652.148872           4.0           45.0  545.472290   \n",
       "2          3000      1  34652.148872           4.0           45.0  545.472290   \n",
       "3          3000      1  34652.148872           4.0           45.0  545.472290   \n",
       "4          3000      1  34652.148872           4.0           45.0  545.472290   \n",
       "...         ...    ...           ...           ...            ...         ...   \n",
       "36395      3996      1  36889.657143           0.0            0.0  552.894287   \n",
       "36396      3996      1  36889.657143           0.0            0.0  552.894287   \n",
       "36397      3996      1  36889.657143           0.0            0.0  552.894287   \n",
       "36398      3996      2  36889.657143           0.0            0.0  552.893433   \n",
       "36399      3996      2  36889.657143           0.0            0.0  552.893433   \n",
       "\n",
       "        Pred_2024   Pred_2025  Bedrooms  Weekly Rental Price  rate_2023  \\\n",
       "0      546.494873  547.346924         1                440.0   0.239710   \n",
       "1      546.494873  547.346924         1                440.0   0.239710   \n",
       "2      546.494873  547.346924         1                440.0   0.239710   \n",
       "3      546.494873  547.346924         1                440.0   0.239710   \n",
       "4      546.494873  547.346924         1                440.0   0.239710   \n",
       "...           ...         ...       ...                  ...        ...   \n",
       "36395  557.032898  561.354553         2                420.0   0.316415   \n",
       "36396  557.032898  561.354553         2                370.0   0.494309   \n",
       "36397  557.032898  561.354553         2                370.0   0.494309   \n",
       "36398  557.032104  561.353699         3                475.0   0.163986   \n",
       "36399  557.032104  561.353699         3                475.0   0.163986   \n",
       "\n",
       "       rate_2024  rate_2025  \n",
       "0       0.242034   0.243970  \n",
       "1       0.242034   0.243970  \n",
       "2       0.242034   0.243970  \n",
       "3       0.242034   0.243970  \n",
       "4       0.242034   0.243970  \n",
       "...          ...        ...  \n",
       "36395   0.326269   0.336558  \n",
       "36396   0.505494   0.517174  \n",
       "36397   0.505494   0.517174  \n",
       "36398   0.172699   0.181797  \n",
       "36399   0.172699   0.181797  \n",
       "\n",
       "[36400 rows x 13 columns]"
      ]
     },
     "execution_count": 45,
     "metadata": {},
     "output_type": "execute_result"
    }
   ],
   "source": [
    "data.drop(columns='Unnamed: 0')"
   ]
  },
  {
   "cell_type": "code",
   "execution_count": 28,
   "id": "64fb39dc-4d0a-4683-b08f-95942f9078f7",
   "metadata": {},
   "outputs": [],
   "source": [
    "data.to_csv(\"../data/curated/NNpredi.csv\")"
   ]
  },
  {
   "cell_type": "code",
   "execution_count": null,
   "id": "551f832b",
   "metadata": {},
   "outputs": [],
   "source": []
  }
 ],
 "metadata": {
  "kernelspec": {
   "display_name": "Python 3.8.13 ('ads')",
   "language": "python",
   "name": "python3"
  },
  "language_info": {
   "codemirror_mode": {
    "name": "ipython",
    "version": 3
   },
   "file_extension": ".py",
   "mimetype": "text/x-python",
   "name": "python",
   "nbconvert_exporter": "python",
   "pygments_lexer": "ipython3",
   "version": "3.8.13"
  },
  "vscode": {
   "interpreter": {
    "hash": "f1e7dfa4028ecbdedcddc863972528864aea52c12c7614bc4f4c47ec76e77350"
   }
  }
 },
 "nbformat": 4,
 "nbformat_minor": 5
}
