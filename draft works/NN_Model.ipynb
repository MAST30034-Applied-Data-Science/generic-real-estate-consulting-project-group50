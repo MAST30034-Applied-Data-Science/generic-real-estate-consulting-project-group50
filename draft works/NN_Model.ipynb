{
 "cells": [
  {
   "cell_type": "code",
   "execution_count": 2,
   "id": "df460218-62b0-4685-b1cf-2e4cd3141a8b",
   "metadata": {},
   "outputs": [],
   "source": [
    "from sklearn import preprocessing\n",
    "from sklearn.model_selection import train_test_split\n",
    "from keras.models import Sequential\n",
    "from keras.layers import Dense\n",
    "from keras.layers import Dropout\n",
    "from keras import regularizers\n",
    "import pandas as pd\n",
    "import numpy as np\n",
    "import matplotlib.pyplot as plt\n",
    "from statistics import mode"
   ]
  },
  {
   "cell_type": "code",
   "execution_count": 3,
   "id": "06841ff0-658f-4698-bb6a-67d0b6ff8d90",
   "metadata": {},
   "outputs": [],
   "source": [
    "# Read in file \n",
    "data = pd.read_csv(\"../data/curated/outliers_removed.csv\")"
   ]
  },
  {
   "cell_type": "code",
   "execution_count": 4,
   "id": "3cfc65a7-c69a-4c2d-97b1-b9f37ffbd4cc",
   "metadata": {},
   "outputs": [],
   "source": [
    "# Split features and predict results\n",
    "y = data['Weekly Rental Price']\n",
    "x = data[['Postcode','Baths', 'Population', 'Count_School', 'Count_Station', 'Bedrooms']]\n",
    "\n",
    "# Processed X into value between 0 and 1\n",
    "min_max_scaler = preprocessing.MinMaxScaler()\n",
    "X_scale = min_max_scaler.fit_transform(x)"
   ]
  },
  {
   "cell_type": "code",
   "execution_count": 5,
   "id": "7f4ea93a-97de-4ca1-9280-792dd76719e5",
   "metadata": {},
   "outputs": [],
   "source": [
    "# Split the data set into training/testing and validation sets\n",
    "X_train, X_val_and_test, Y_train, Y_val_and_test = train_test_split(X_scale, y, test_size=0.3)\n",
    "X_val, X_test, Y_val, Y_test = train_test_split(X_val_and_test, Y_val_and_test, test_size=0.5)"
   ]
  },
  {
   "cell_type": "code",
   "execution_count": 6,
   "id": "dff92ac3-9ef9-409b-aaf7-e9858281111d",
   "metadata": {},
   "outputs": [
    {
     "name": "stderr",
     "output_type": "stream",
     "text": [
      "2022-10-03 16:53:28.777159: I tensorflow/core/platform/cpu_feature_guard.cc:193] This TensorFlow binary is optimized with oneAPI Deep Neural Network Library (oneDNN) to use the following CPU instructions in performance-critical operations:  AVX2 FMA\n",
      "To enable them in other operations, rebuild TensorFlow with the appropriate compiler flags.\n"
     ]
    },
    {
     "name": "stdout",
     "output_type": "stream",
     "text": [
      "Epoch 1/100\n",
      "797/797 [==============================] - 3s 3ms/step - loss: 10.0186 - msle: 9.2619 - val_loss: 2.9455 - val_msle: 1.7307\n",
      "Epoch 2/100\n",
      "797/797 [==============================] - 2s 2ms/step - loss: 2.3047 - msle: 0.9773 - val_loss: 1.8261 - val_msle: 0.4950\n",
      "Epoch 3/100\n",
      "797/797 [==============================] - 2s 2ms/step - loss: 1.5771 - msle: 0.3944 - val_loss: 1.3564 - val_msle: 0.3090\n",
      "Epoch 4/100\n",
      "797/797 [==============================] - 2s 3ms/step - loss: 1.2326 - msle: 0.2736 - val_loss: 1.1100 - val_msle: 0.2246\n",
      "Epoch 5/100\n",
      "797/797 [==============================] - 2s 3ms/step - loss: 1.0262 - msle: 0.2137 - val_loss: 0.9384 - val_msle: 0.1929\n",
      "Epoch 6/100\n",
      "797/797 [==============================] - 2s 2ms/step - loss: 0.8840 - msle: 0.1829 - val_loss: 0.8214 - val_msle: 0.1668\n",
      "Epoch 7/100\n",
      "797/797 [==============================] - 2s 2ms/step - loss: 0.7823 - msle: 0.1636 - val_loss: 0.7335 - val_msle: 0.1503\n",
      "Epoch 8/100\n",
      "797/797 [==============================] - 2s 2ms/step - loss: 0.7028 - msle: 0.1488 - val_loss: 0.6617 - val_msle: 0.1345\n",
      "Epoch 9/100\n",
      "797/797 [==============================] - 2s 2ms/step - loss: 0.6354 - msle: 0.1367 - val_loss: 0.5988 - val_msle: 0.1254\n",
      "Epoch 10/100\n",
      "797/797 [==============================] - 2s 3ms/step - loss: 0.5760 - msle: 0.1268 - val_loss: 0.5434 - val_msle: 0.1151\n",
      "Epoch 11/100\n",
      "797/797 [==============================] - 2s 2ms/step - loss: 0.5239 - msle: 0.1183 - val_loss: 0.4952 - val_msle: 0.1061\n",
      "Epoch 12/100\n",
      "797/797 [==============================] - 2s 2ms/step - loss: 0.4787 - msle: 0.1110 - val_loss: 0.4534 - val_msle: 0.1001\n",
      "Epoch 13/100\n",
      "797/797 [==============================] - 2s 2ms/step - loss: 0.4397 - msle: 0.1048 - val_loss: 0.4172 - val_msle: 0.1012\n",
      "Epoch 14/100\n",
      "797/797 [==============================] - 2s 3ms/step - loss: 0.4060 - msle: 0.0998 - val_loss: 0.3859 - val_msle: 0.0919\n",
      "Epoch 15/100\n",
      "797/797 [==============================] - 3s 3ms/step - loss: 0.3766 - msle: 0.0955 - val_loss: 0.3584 - val_msle: 0.0887\n",
      "Epoch 16/100\n",
      "797/797 [==============================] - 2s 2ms/step - loss: 0.3505 - msle: 0.0919 - val_loss: 0.3340 - val_msle: 0.0867\n",
      "Epoch 17/100\n",
      "797/797 [==============================] - 2s 2ms/step - loss: 0.3274 - msle: 0.0890 - val_loss: 0.3124 - val_msle: 0.0813\n",
      "Epoch 18/100\n",
      "797/797 [==============================] - 2s 2ms/step - loss: 0.3065 - msle: 0.0864 - val_loss: 0.2925 - val_msle: 0.0829\n",
      "Epoch 19/100\n",
      "797/797 [==============================] - 1s 2ms/step - loss: 0.2878 - msle: 0.0845 - val_loss: 0.2749 - val_msle: 0.0814\n",
      "Epoch 20/100\n",
      "797/797 [==============================] - 1s 2ms/step - loss: 0.2710 - msle: 0.0828 - val_loss: 0.2591 - val_msle: 0.0810\n",
      "Epoch 21/100\n",
      "797/797 [==============================] - 1s 2ms/step - loss: 0.2559 - msle: 0.0814 - val_loss: 0.2451 - val_msle: 0.0806\n",
      "Epoch 22/100\n",
      "797/797 [==============================] - 1s 2ms/step - loss: 0.2425 - msle: 0.0802 - val_loss: 0.2323 - val_msle: 0.0784\n",
      "Epoch 23/100\n",
      "797/797 [==============================] - 2s 2ms/step - loss: 0.2305 - msle: 0.0794 - val_loss: 0.2209 - val_msle: 0.0740\n",
      "Epoch 24/100\n",
      "797/797 [==============================] - 1s 2ms/step - loss: 0.2197 - msle: 0.0784 - val_loss: 0.2110 - val_msle: 0.0775\n",
      "Epoch 25/100\n",
      "797/797 [==============================] - 2s 2ms/step - loss: 0.2102 - msle: 0.0779 - val_loss: 0.2016 - val_msle: 0.0739\n",
      "Epoch 26/100\n",
      "797/797 [==============================] - 1s 2ms/step - loss: 0.2015 - msle: 0.0772 - val_loss: 0.1936 - val_msle: 0.0727\n",
      "Epoch 27/100\n",
      "797/797 [==============================] - 2s 2ms/step - loss: 0.1938 - msle: 0.0767 - val_loss: 0.1863 - val_msle: 0.0727\n",
      "Epoch 28/100\n",
      "797/797 [==============================] - 3s 3ms/step - loss: 0.1869 - msle: 0.0763 - val_loss: 0.1798 - val_msle: 0.0714\n",
      "Epoch 29/100\n",
      "797/797 [==============================] - 2s 3ms/step - loss: 0.1806 - msle: 0.0759 - val_loss: 0.1738 - val_msle: 0.0728\n",
      "Epoch 30/100\n",
      "797/797 [==============================] - 2s 2ms/step - loss: 0.1749 - msle: 0.0756 - val_loss: 0.1684 - val_msle: 0.0713\n",
      "Epoch 31/100\n",
      "797/797 [==============================] - 2s 2ms/step - loss: 0.1697 - msle: 0.0753 - val_loss: 0.1644 - val_msle: 0.0694\n",
      "Epoch 32/100\n",
      "797/797 [==============================] - 3s 4ms/step - loss: 0.1651 - msle: 0.0751 - val_loss: 0.1595 - val_msle: 0.0742\n",
      "Epoch 33/100\n",
      "797/797 [==============================] - 2s 3ms/step - loss: 0.1608 - msle: 0.0749 - val_loss: 0.1550 - val_msle: 0.0704\n",
      "Epoch 34/100\n",
      "797/797 [==============================] - 2s 3ms/step - loss: 0.1568 - msle: 0.0746 - val_loss: 0.1513 - val_msle: 0.0703\n",
      "Epoch 35/100\n",
      "797/797 [==============================] - 3s 4ms/step - loss: 0.1533 - msle: 0.0746 - val_loss: 0.1480 - val_msle: 0.0725\n",
      "Epoch 36/100\n",
      "797/797 [==============================] - 3s 3ms/step - loss: 0.1500 - msle: 0.0743 - val_loss: 0.1446 - val_msle: 0.0703\n",
      "Epoch 37/100\n",
      "797/797 [==============================] - 2s 3ms/step - loss: 0.1469 - msle: 0.0742 - val_loss: 0.1418 - val_msle: 0.0699\n",
      "Epoch 38/100\n",
      "797/797 [==============================] - 2s 2ms/step - loss: 0.1441 - msle: 0.0741 - val_loss: 0.1393 - val_msle: 0.0722\n",
      "Epoch 39/100\n",
      "797/797 [==============================] - 2s 2ms/step - loss: 0.1415 - msle: 0.0740 - val_loss: 0.1365 - val_msle: 0.0707\n",
      "Epoch 40/100\n",
      "797/797 [==============================] - 1s 2ms/step - loss: 0.1392 - msle: 0.0739 - val_loss: 0.1345 - val_msle: 0.0694\n",
      "Epoch 41/100\n",
      "797/797 [==============================] - 1s 2ms/step - loss: 0.1370 - msle: 0.0739 - val_loss: 0.1330 - val_msle: 0.0689\n",
      "Epoch 42/100\n",
      "797/797 [==============================] - 2s 2ms/step - loss: 0.1348 - msle: 0.0737 - val_loss: 0.1301 - val_msle: 0.0704\n",
      "Epoch 43/100\n",
      "797/797 [==============================] - 1s 2ms/step - loss: 0.1329 - msle: 0.0736 - val_loss: 0.1285 - val_msle: 0.0692\n",
      "Epoch 44/100\n",
      "797/797 [==============================] - 2s 2ms/step - loss: 0.1310 - msle: 0.0735 - val_loss: 0.1277 - val_msle: 0.0738\n",
      "Epoch 45/100\n",
      "797/797 [==============================] - 2s 2ms/step - loss: 0.1293 - msle: 0.0735 - val_loss: 0.1248 - val_msle: 0.0702\n",
      "Epoch 46/100\n",
      "797/797 [==============================] - 2s 3ms/step - loss: 0.1277 - msle: 0.0735 - val_loss: 0.1234 - val_msle: 0.0692\n",
      "Epoch 47/100\n",
      "797/797 [==============================] - 2s 2ms/step - loss: 0.1262 - msle: 0.0734 - val_loss: 0.1218 - val_msle: 0.0703\n",
      "Epoch 48/100\n",
      "797/797 [==============================] - 2s 2ms/step - loss: 0.1248 - msle: 0.0734 - val_loss: 0.1207 - val_msle: 0.0690\n",
      "Epoch 49/100\n",
      "797/797 [==============================] - 2s 2ms/step - loss: 0.1235 - msle: 0.0734 - val_loss: 0.1196 - val_msle: 0.0718\n",
      "Epoch 50/100\n",
      "797/797 [==============================] - 1s 2ms/step - loss: 0.1222 - msle: 0.0733 - val_loss: 0.1178 - val_msle: 0.0695\n",
      "Epoch 51/100\n",
      "797/797 [==============================] - 2s 2ms/step - loss: 0.1210 - msle: 0.0733 - val_loss: 0.1170 - val_msle: 0.0689\n",
      "Epoch 52/100\n",
      "797/797 [==============================] - 2s 2ms/step - loss: 0.1199 - msle: 0.0732 - val_loss: 0.1156 - val_msle: 0.0699\n",
      "Epoch 53/100\n",
      "797/797 [==============================] - 2s 2ms/step - loss: 0.1188 - msle: 0.0732 - val_loss: 0.1148 - val_msle: 0.0708\n",
      "Epoch 54/100\n",
      "797/797 [==============================] - 1s 2ms/step - loss: 0.1178 - msle: 0.0732 - val_loss: 0.1137 - val_msle: 0.0706\n",
      "Epoch 55/100\n",
      "797/797 [==============================] - 2s 2ms/step - loss: 0.1167 - msle: 0.0731 - val_loss: 0.1127 - val_msle: 0.0691\n",
      "Epoch 56/100\n",
      "797/797 [==============================] - 2s 3ms/step - loss: 0.1159 - msle: 0.0731 - val_loss: 0.1116 - val_msle: 0.0695\n",
      "Epoch 57/100\n",
      "797/797 [==============================] - 2s 3ms/step - loss: 0.1149 - msle: 0.0731 - val_loss: 0.1111 - val_msle: 0.0689\n",
      "Epoch 58/100\n",
      "797/797 [==============================] - 1s 2ms/step - loss: 0.1141 - msle: 0.0730 - val_loss: 0.1103 - val_msle: 0.0689\n",
      "Epoch 59/100\n",
      "797/797 [==============================] - 2s 3ms/step - loss: 0.1132 - msle: 0.0729 - val_loss: 0.1091 - val_msle: 0.0693\n",
      "Epoch 60/100\n",
      "797/797 [==============================] - 2s 2ms/step - loss: 0.1125 - msle: 0.0730 - val_loss: 0.1084 - val_msle: 0.0694\n",
      "Epoch 61/100\n",
      "797/797 [==============================] - 2s 3ms/step - loss: 0.1117 - msle: 0.0729 - val_loss: 0.1080 - val_msle: 0.0688\n",
      "Epoch 62/100\n",
      "797/797 [==============================] - 2s 2ms/step - loss: 0.1109 - msle: 0.0729 - val_loss: 0.1071 - val_msle: 0.0689\n",
      "Epoch 63/100\n",
      "797/797 [==============================] - 2s 3ms/step - loss: 0.1103 - msle: 0.0729 - val_loss: 0.1068 - val_msle: 0.0688\n",
      "Epoch 64/100\n",
      "797/797 [==============================] - 3s 3ms/step - loss: 0.1098 - msle: 0.0731 - val_loss: 0.1060 - val_msle: 0.0688\n",
      "Epoch 65/100\n",
      "797/797 [==============================] - 2s 2ms/step - loss: 0.1089 - msle: 0.0728 - val_loss: 0.1050 - val_msle: 0.0697\n",
      "Epoch 66/100\n",
      "797/797 [==============================] - 2s 3ms/step - loss: 0.1085 - msle: 0.0730 - val_loss: 0.1043 - val_msle: 0.0695\n",
      "Epoch 67/100\n",
      "797/797 [==============================] - 1s 2ms/step - loss: 0.1077 - msle: 0.0729 - val_loss: 0.1039 - val_msle: 0.0699\n",
      "Epoch 68/100\n",
      "797/797 [==============================] - 1s 2ms/step - loss: 0.1072 - msle: 0.0729 - val_loss: 0.1034 - val_msle: 0.0701\n",
      "Epoch 69/100\n",
      "797/797 [==============================] - 2s 2ms/step - loss: 0.1067 - msle: 0.0729 - val_loss: 0.1029 - val_msle: 0.0689\n",
      "Epoch 70/100\n",
      "797/797 [==============================] - 2s 2ms/step - loss: 0.1061 - msle: 0.0728 - val_loss: 0.1023 - val_msle: 0.0689\n",
      "Epoch 71/100\n",
      "797/797 [==============================] - 2s 2ms/step - loss: 0.1056 - msle: 0.0728 - val_loss: 0.1017 - val_msle: 0.0693\n",
      "Epoch 72/100\n",
      "797/797 [==============================] - 2s 2ms/step - loss: 0.1052 - msle: 0.0728 - val_loss: 0.1012 - val_msle: 0.0693\n",
      "Epoch 73/100\n",
      "797/797 [==============================] - 2s 2ms/step - loss: 0.1047 - msle: 0.0728 - val_loss: 0.1008 - val_msle: 0.0690\n",
      "Epoch 74/100\n",
      "797/797 [==============================] - 1s 2ms/step - loss: 0.1043 - msle: 0.0729 - val_loss: 0.1018 - val_msle: 0.0725\n",
      "Epoch 75/100\n",
      "797/797 [==============================] - 1s 2ms/step - loss: 0.1037 - msle: 0.0727 - val_loss: 0.1000 - val_msle: 0.0700\n",
      "Epoch 76/100\n",
      "797/797 [==============================] - 2s 2ms/step - loss: 0.1032 - msle: 0.0727 - val_loss: 0.0995 - val_msle: 0.0689\n",
      "Epoch 77/100\n",
      "797/797 [==============================] - 1s 2ms/step - loss: 0.1029 - msle: 0.0728 - val_loss: 0.0990 - val_msle: 0.0690\n",
      "Epoch 78/100\n",
      "797/797 [==============================] - 1s 2ms/step - loss: 0.1025 - msle: 0.0728 - val_loss: 0.0986 - val_msle: 0.0691\n",
      "Epoch 79/100\n",
      "797/797 [==============================] - 2s 2ms/step - loss: 0.1020 - msle: 0.0727 - val_loss: 0.0989 - val_msle: 0.0688\n",
      "Epoch 80/100\n",
      "797/797 [==============================] - 1s 2ms/step - loss: 0.1018 - msle: 0.0728 - val_loss: 0.0978 - val_msle: 0.0692\n",
      "Epoch 81/100\n",
      "797/797 [==============================] - 1s 2ms/step - loss: 0.1013 - msle: 0.0727 - val_loss: 0.0988 - val_msle: 0.0691\n",
      "Epoch 82/100\n",
      "797/797 [==============================] - 2s 2ms/step - loss: 0.1011 - msle: 0.0728 - val_loss: 0.0972 - val_msle: 0.0689\n",
      "Epoch 83/100\n",
      "797/797 [==============================] - 2s 2ms/step - loss: 0.1007 - msle: 0.0728 - val_loss: 0.0975 - val_msle: 0.0689\n",
      "Epoch 84/100\n",
      "797/797 [==============================] - 1s 2ms/step - loss: 0.1002 - msle: 0.0726 - val_loss: 0.0965 - val_msle: 0.0696\n",
      "Epoch 85/100\n",
      "797/797 [==============================] - 2s 3ms/step - loss: 0.1000 - msle: 0.0728 - val_loss: 0.0969 - val_msle: 0.0710\n",
      "Epoch 86/100\n",
      "797/797 [==============================] - 2s 2ms/step - loss: 0.0997 - msle: 0.0727 - val_loss: 0.0961 - val_msle: 0.0688\n",
      "Epoch 87/100\n",
      "797/797 [==============================] - 1s 2ms/step - loss: 0.0992 - msle: 0.0726 - val_loss: 0.0986 - val_msle: 0.0701\n",
      "Epoch 88/100\n",
      "797/797 [==============================] - 1s 2ms/step - loss: 0.0990 - msle: 0.0727 - val_loss: 0.0952 - val_msle: 0.0693\n",
      "Epoch 89/100\n",
      "797/797 [==============================] - 2s 2ms/step - loss: 0.0987 - msle: 0.0727 - val_loss: 0.0950 - val_msle: 0.0689\n",
      "Epoch 90/100\n",
      "797/797 [==============================] - 1s 2ms/step - loss: 0.0984 - msle: 0.0726 - val_loss: 0.0946 - val_msle: 0.0691\n",
      "Epoch 91/100\n",
      "797/797 [==============================] - 1s 2ms/step - loss: 0.0981 - msle: 0.0727 - val_loss: 0.0943 - val_msle: 0.0695\n",
      "Epoch 92/100\n",
      "797/797 [==============================] - 1s 2ms/step - loss: 0.0979 - msle: 0.0727 - val_loss: 0.0943 - val_msle: 0.0701\n",
      "Epoch 93/100\n",
      "797/797 [==============================] - 1s 2ms/step - loss: 0.0976 - msle: 0.0727 - val_loss: 0.0938 - val_msle: 0.0689\n",
      "Epoch 94/100\n",
      "797/797 [==============================] - 1s 2ms/step - loss: 0.0973 - msle: 0.0727 - val_loss: 0.0938 - val_msle: 0.0701\n",
      "Epoch 95/100\n",
      "797/797 [==============================] - 1s 2ms/step - loss: 0.0970 - msle: 0.0726 - val_loss: 0.0932 - val_msle: 0.0689\n",
      "Epoch 96/100\n",
      "797/797 [==============================] - 2s 2ms/step - loss: 0.0967 - msle: 0.0726 - val_loss: 0.0929 - val_msle: 0.0690\n",
      "Epoch 97/100\n",
      "797/797 [==============================] - 1s 2ms/step - loss: 0.0964 - msle: 0.0726 - val_loss: 0.0938 - val_msle: 0.0690\n",
      "Epoch 98/100\n",
      "797/797 [==============================] - 1s 2ms/step - loss: 0.0962 - msle: 0.0726 - val_loss: 0.0931 - val_msle: 0.0689\n",
      "Epoch 99/100\n",
      "797/797 [==============================] - 1s 2ms/step - loss: 0.0959 - msle: 0.0726 - val_loss: 0.0925 - val_msle: 0.0688\n",
      "Epoch 100/100\n",
      "797/797 [==============================] - 1s 2ms/step - loss: 0.0957 - msle: 0.0726 - val_loss: 0.0921 - val_msle: 0.0695\n"
     ]
    }
   ],
   "source": [
    "# Create model and train the model\n",
    "model = Sequential([\n",
    "    Dense(32, activation='relu', kernel_regularizer=regularizers.l2(0.01), input_shape=(6,)),\n",
    "    Dense(32, activation='relu', kernel_regularizer=regularizers.l2(0.01)),\n",
    "    Dense(1, activation='linear', kernel_regularizer=regularizers.l2(0.01)),\n",
    "])\n",
    "\n",
    "model.compile(optimizer = \"adam\",\n",
    "              loss='mean_squared_logarithmic_error',\n",
    "              metrics=['msle'])\n",
    "\n",
    "hist = model.fit(X_train, Y_train,\n",
    "          batch_size=32, epochs=100,\n",
    "          validation_data=(X_val, Y_val))"
   ]
  },
  {
   "cell_type": "code",
   "execution_count": 7,
   "id": "76f845c8-4ba3-4feb-87f6-216c9bd4d31e",
   "metadata": {},
   "outputs": [
    {
     "name": "stdout",
     "output_type": "stream",
     "text": [
      "171/171 [==============================] - 0s 1ms/step - loss: 0.0943 - msle: 0.0717\n"
     ]
    },
    {
     "data": {
      "image/png": "[encoded data removed]",
      "text/plain": [
       "<Figure size 432x288 with 1 Axes>"
      ]
     },
     "metadata": {
      "needs_background": "light"
     },
     "output_type": "display_data"
    }
   ],
   "source": [
    "# Do the model evaluation\n",
    "model.evaluate(X_test, Y_test)[1]\n",
    "\n",
    "# Plot the model performance\n",
    "plt.plot(hist.history['loss'])\n",
    "plt.plot(hist.history['val_loss'])\n",
    "plt.title('Model loss')\n",
    "plt.ylabel('Loss')\n",
    "plt.xlabel('Epoch')\n",
    "plt.legend(['Train', 'Val'], loc='upper right')\n",
    "plt.show()"
   ]
  },
  {
   "cell_type": "code",
   "execution_count": 8,
   "id": "e35af6f0-ba34-416a-ba48-4f0a195b7a55",
   "metadata": {},
   "outputs": [
    {
     "data": {
      "image/png": "[encoded data removed]",
      "text/plain": [
       "<Figure size 432x288 with 1 Axes>"
      ]
     },
     "metadata": {
      "needs_background": "light"
     },
     "output_type": "display_data"
    }
   ],
   "source": [
    "plt.plot(hist.history['msle'])\n",
    "plt.plot(hist.history['val_msle'])\n",
    "plt.title('Model MSLE')\n",
    "plt.ylabel('MSLE')\n",
    "plt.xlabel('Epoch')\n",
    "plt.legend(['Train', 'Val'], loc='lower right')\n",
    "plt.show()"
   ]
  },
  {
   "cell_type": "code",
   "execution_count": 14,
   "id": "b43535df",
   "metadata": {},
   "outputs": [
    {
     "name": "stdout",
     "output_type": "stream",
     "text": [
      "171/171 [==============================] - 0s 1ms/step\n"
     ]
    },
    {
     "data": {
      "text/plain": [
       "11.813868"
      ]
     },
     "execution_count": 14,
     "metadata": {},
     "output_type": "execute_result"
    }
   ],
   "source": [
    "# Predict the va;idation set\n",
    "prediction = model.predict(X_val)\n",
    "\n",
    "# Calculate the absolute errors\n",
    "error = prediction - Y_val[0]\n",
    "error = [abs(x) for x in error]\n",
    "\n",
    "# Print out the mean absolute error (mae)\n",
    "np.mean(error)"
   ]
  },
  {
   "cell_type": "code",
   "execution_count": 10,
   "id": "f392f9d1",
   "metadata": {},
   "outputs": [
    {
     "data": {
      "text/plain": [
       "90.1511234150465"
      ]
     },
     "execution_count": 10,
     "metadata": {},
     "output_type": "execute_result"
    }
   ],
   "source": [
    "# calculate the absolute errors of baseline model\n",
    "y_mode = mode(Y_val)\n",
    "baseline_error = [abs(y_mode-x) for x in Y_val]\n",
    "np.mean(baseline_error)"
   ]
  },
  {
   "cell_type": "code",
   "execution_count": 11,
   "id": "7fca1cbf-6504-4f33-967c-0d5678e2c21a",
   "metadata": {},
   "outputs": [
    {
     "name": "stdout",
     "output_type": "stream",
     "text": [
      "1138/1138 [==============================] - 1s 1ms/step\n",
      "1138/1138 [==============================] - 1s 1ms/step\n",
      "1138/1138 [==============================] - 1s 962us/step\n"
     ]
    }
   ],
   "source": [
    "# Update population in 2023/223/2025\n",
    "pop = pd.read_csv(\"../data/curated/predicted_population.csv\")\n",
    "post_data = data[['Postcode', 'Baths','Population', 'Count_School', 'Count_Station','Bedrooms','Weekly Rental Price']]\n",
    "\n",
    "pop_2023 = pop[['Postcode','2023']]\n",
    "pop_2024 = pop[['Postcode','2024']]\n",
    "pop_2025 = pop[['Postcode','2025']]\n",
    "\n",
    "pop_2023 = pd.merge(pop_2023, post_data, how='inner', on=['Postcode'])\n",
    "pop_2023 =pop_2023.drop(labels=['Population'],axis=1) \n",
    "pop_2023 = pop_2023[['Postcode', '2023', 'Baths', 'Count_School', 'Count_Station', 'Bedrooms']]\n",
    "\n",
    "pop_2023['Count_School'] = pop_2023['Count_School'].fillna(value = 0)\n",
    "pop_2023['Count_Station'] = pop_2023['Count_Station'].fillna(value = 0)\n",
    "pop_2023 = pop_2023.dropna(axis=0)\n",
    "pop_2023 = pop_2023[(pop_2023['Baths'] > 0) & (pop_2023['Bedrooms'] > 0)]\n",
    "pred_2023 = model.predict(pop_2023)\n",
    "data.insert(6, 'Pred_2023', pred_2023)\n",
    "\n",
    "pop_2024 = pd.merge(pop_2024, post_data, how='inner', on=['Postcode'])\n",
    "pop_2024 =pop_2024.drop(labels=['Population'],axis=1) \n",
    "pop_2024 = pop_2024[['Postcode', '2024', 'Baths', 'Count_School', 'Count_Station', 'Bedrooms']]\n",
    "\n",
    "pop_2024['Count_School'] = pop_2024['Count_School'].fillna(value = 0)\n",
    "pop_2024['Count_Station'] = pop_2024['Count_Station'].fillna(value = 0)\n",
    "pop_2024 = pop_2024.dropna(axis=0)\n",
    "pop_2024 = pop_2024[(pop_2024['Baths'] > 0) & (pop_2024['Bedrooms'] > 0)]\n",
    "pred_2024 = model.predict(pop_2024)\n",
    "data.insert(7, 'Pred_2024', pred_2024)\n",
    "\n",
    "pop_2025 = pd.merge(pop_2025, post_data, how='inner', on=['Postcode'])\n",
    "pop_2025 =pop_2025.drop(labels=['Population'],axis=1) \n",
    "pop_2025 = pop_2025[['Postcode', '2025', 'Baths', 'Count_School', 'Count_Station', 'Bedrooms']]\n",
    "\n",
    "pop_2025['Count_School'] = pop_2025['Count_School'].fillna(value = 0)\n",
    "pop_2025['Count_Station'] = pop_2025['Count_Station'].fillna(value = 0)\n",
    "pop_2025 = pop_2025.dropna(axis=0)\n",
    "pop_2025 = pop_2025[(pop_2025['Baths'] > 0) & (pop_2025['Bedrooms'] > 0)]\n",
    "pred_2025 = model.predict(pop_2025)\n",
    "data.insert(8, 'Pred_2025', pred_2025)"
   ]
  },
  {
   "cell_type": "code",
   "execution_count": 12,
   "id": "102883c3-e6bb-4dea-9120-0c5b1f779888",
   "metadata": {},
   "outputs": [],
   "source": [
    "# Calculate growth rate\n",
    "data['rate_2023'] = (data['Pred_2023'] - data['Weekly Rental Price'])/data['Weekly Rental Price']\n",
    "data['rate_2024'] = (data['Pred_2024'] - data['Weekly Rental Price'])/data['Weekly Rental Price']\n",
    "data['rate_2025'] = (data['Pred_2025'] - data['Weekly Rental Price'])/data['Weekly Rental Price']\n",
    "data.drop(columns='Unnamed: 0')\n",
    "data = data[[\"Postcode\", \"Weekly Rental Price\", \"Pred_2023\", \"Pred_2024\", \"Pred_2025\", \"rate_2023\", \"rate_2024\", \"rate_2025\"]]\n"
   ]
  },
  {
   "cell_type": "code",
   "execution_count": 17,
   "id": "551f832b",
   "metadata": {},
   "outputs": [],
   "source": [
    "# Group by the data by the postcode\n",
    "data = data.groupby(by=['Postcode']).mean()\n",
    "data = data.sort_values(by=['rate_2023'], ascending=False)\n",
    "data = data.head(10)\n",
    "data.to_csv(\"../data/curated/NNpredi.csv\")"
   ]
  },
  {
   "cell_type": "code",
   "execution_count": null,
   "id": "4f4bb6c6-e8ee-47ac-a50e-2b63c8703817",
   "metadata": {},
   "outputs": [],
   "source": []
  }
 ],
 "metadata": {
  "kernelspec": {
   "display_name": "Python 3 (ipykernel)",
   "language": "python",
   "name": "python3"
  },
  "language_info": {
   "codemirror_mode": {
    "name": "ipython",
    "version": 3
   },
   "file_extension": ".py",
   "mimetype": "text/x-python",
   "name": "python",
   "nbconvert_exporter": "python",
   "pygments_lexer": "ipython3",
   "version": "3.9.12"
  },
  "vscode": {
   "interpreter": {
    "hash": "f1e7dfa4028ecbdedcddc863972528864aea52c12c7614bc4f4c47ec76e77350"
   }
  }
 },
 "nbformat": 4,
 "nbformat_minor": 5
}
