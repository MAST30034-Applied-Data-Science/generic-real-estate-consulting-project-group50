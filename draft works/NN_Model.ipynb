{
 "cells": [
  {
   "cell_type": "code",
   "execution_count": 1,
   "id": "df460218-62b0-4685-b1cf-2e4cd3141a8b",
   "metadata": {},
   "outputs": [
    {
     "name": "stderr",
     "output_type": "stream",
     "text": [
      "2022-09-30 18:59:33.076145: I tensorflow/core/platform/cpu_feature_guard.cc:193] This TensorFlow binary is optimized with oneAPI Deep Neural Network Library (oneDNN) to use the following CPU instructions in performance-critical operations:  AVX2 FMA\n",
      "To enable them in other operations, rebuild TensorFlow with the appropriate compiler flags.\n"
     ]
    }
   ],
   "source": [
    "from sklearn import preprocessing\n",
    "from sklearn.model_selection import train_test_split\n",
    "from keras.models import Sequential\n",
    "from keras.layers import Dense\n",
    "from keras.layers import Dropout\n",
    "from keras import regularizers\n",
    "\n",
    "import pandas as pd\n",
    "import numpy as np\n",
    "import matplotlib.pyplot as plt\n",
    "\n",
    "from statistics import mode"
   ]
  },
  {
   "cell_type": "code",
   "execution_count": 4,
   "id": "06841ff0-658f-4698-bb6a-67d0b6ff8d90",
   "metadata": {},
   "outputs": [],
   "source": [
    "data = pd.read_csv(\"../data/curated/outliers_removed.csv\")"
   ]
  },
  {
   "cell_type": "code",
   "execution_count": 6,
   "id": "3cfc65a7-c69a-4c2d-97b1-b9f37ffbd4cc",
   "metadata": {},
   "outputs": [],
   "source": [
    "y = data['Weekly Rental Price']\n",
    "x = data[['Postcode','Baths', 'Population', 'Count_School', 'Count_Station', 'Bedrooms']]\n",
    "min_max_scaler = preprocessing.MinMaxScaler()\n",
    "X_scale = min_max_scaler.fit_transform(x)"
   ]
  },
  {
   "cell_type": "code",
   "execution_count": 7,
   "id": "7f4ea93a-97de-4ca1-9280-792dd76719e5",
   "metadata": {},
   "outputs": [],
   "source": [
    "X_train, X_val_and_test, Y_train, Y_val_and_test = train_test_split(X_scale, y, test_size=0.3)\n",
    "X_val, X_test, Y_val, Y_test = train_test_split(X_val_and_test, Y_val_and_test, test_size=0.5)"
   ]
  },
  {
   "cell_type": "code",
   "execution_count": 8,
   "id": "dff92ac3-9ef9-409b-aaf7-e9858281111d",
   "metadata": {},
   "outputs": [
    {
     "name": "stderr",
     "output_type": "stream",
     "text": [
      "2022-09-30 19:01:17.807839: I tensorflow/core/platform/cpu_feature_guard.cc:193] This TensorFlow binary is optimized with oneAPI Deep Neural Network Library (oneDNN) to use the following CPU instructions in performance-critical operations:  AVX2 FMA\n",
      "To enable them in other operations, rebuild TensorFlow with the appropriate compiler flags.\n"
     ]
    }
   ],
   "source": [
    "model = Sequential([\n",
    "    Dense(32, activation='relu', kernel_regularizer=regularizers.l2(0.01), input_shape=(6,)),\n",
    "    Dense(32, activation='relu', kernel_regularizer=regularizers.l2(0.01)),\n",
    "    Dense(1, activation='linear', kernel_regularizer=regularizers.l2(0.01)),\n",
    "])"
   ]
  },
  {
   "cell_type": "code",
   "execution_count": 9,
   "id": "36737169-3363-4a98-99dc-25e379ef3fae",
   "metadata": {},
   "outputs": [],
   "source": [
    "model.compile(optimizer = \"adam\",\n",
    "              loss='mean_squared_logarithmic_error',\n",
    "              metrics=['msle'])"
   ]
  },
  {
   "cell_type": "code",
   "execution_count": 30,
   "id": "55db4cbc-e5e2-4d13-afab-f6d0e2b73b4c",
   "metadata": {},
   "outputs": [
    {
     "name": "stdout",
     "output_type": "stream",
     "text": [
      "Epoch 1/100\n",
      "797/797 [==============================] - 4s 5ms/step - loss: 0.0955 - msle: 0.0720 - val_loss: 0.0956 - val_msle: 0.0729\n",
      "Epoch 2/100\n",
      "797/797 [==============================] - 2s 3ms/step - loss: 0.0953 - msle: 0.0720 - val_loss: 0.0950 - val_msle: 0.0720\n",
      "Epoch 3/100\n",
      "797/797 [==============================] - 2s 3ms/step - loss: 0.0950 - msle: 0.0719 - val_loss: 0.0952 - val_msle: 0.0716\n",
      "Epoch 4/100\n",
      "797/797 [==============================] - 2s 3ms/step - loss: 0.0949 - msle: 0.0720 - val_loss: 0.0948 - val_msle: 0.0715\n",
      "Epoch 5/100\n",
      "797/797 [==============================] - 2s 3ms/step - loss: 0.0947 - msle: 0.0720 - val_loss: 0.0944 - val_msle: 0.0720\n",
      "Epoch 6/100\n",
      "797/797 [==============================] - 2s 3ms/step - loss: 0.0944 - msle: 0.0719 - val_loss: 0.0942 - val_msle: 0.0716\n",
      "Epoch 7/100\n",
      "797/797 [==============================] - 3s 3ms/step - loss: 0.0942 - msle: 0.0719 - val_loss: 0.0940 - val_msle: 0.0716\n",
      "Epoch 8/100\n",
      "797/797 [==============================] - 2s 3ms/step - loss: 0.0941 - msle: 0.0720 - val_loss: 0.0938 - val_msle: 0.0717\n",
      "Epoch 9/100\n",
      "797/797 [==============================] - 2s 3ms/step - loss: 0.0939 - msle: 0.0719 - val_loss: 0.0939 - val_msle: 0.0715\n",
      "Epoch 10/100\n",
      "797/797 [==============================] - 2s 3ms/step - loss: 0.0937 - msle: 0.0719 - val_loss: 0.0935 - val_msle: 0.0721\n",
      "Epoch 11/100\n",
      "797/797 [==============================] - 2s 3ms/step - loss: 0.0934 - msle: 0.0719 - val_loss: 0.0937 - val_msle: 0.0716\n",
      "Epoch 12/100\n",
      "797/797 [==============================] - 2s 3ms/step - loss: 0.0933 - msle: 0.0719 - val_loss: 0.0930 - val_msle: 0.0720\n",
      "Epoch 13/100\n",
      "797/797 [==============================] - 2s 3ms/step - loss: 0.0931 - msle: 0.0719 - val_loss: 0.0929 - val_msle: 0.0720\n",
      "Epoch 14/100\n",
      "797/797 [==============================] - 3s 4ms/step - loss: 0.0929 - msle: 0.0719 - val_loss: 0.0935 - val_msle: 0.0717\n",
      "Epoch 15/100\n",
      "797/797 [==============================] - 3s 3ms/step - loss: 0.0928 - msle: 0.0720 - val_loss: 0.0933 - val_msle: 0.0717\n",
      "Epoch 16/100\n",
      "797/797 [==============================] - 3s 4ms/step - loss: 0.0926 - msle: 0.0719 - val_loss: 0.0924 - val_msle: 0.0716\n",
      "Epoch 17/100\n",
      "797/797 [==============================] - 2s 2ms/step - loss: 0.0925 - msle: 0.0720 - val_loss: 0.0928 - val_msle: 0.0731\n",
      "Epoch 18/100\n",
      "797/797 [==============================] - 2s 2ms/step - loss: 0.0922 - msle: 0.0718 - val_loss: 0.0922 - val_msle: 0.0715\n",
      "Epoch 19/100\n",
      "797/797 [==============================] - 2s 2ms/step - loss: 0.0922 - msle: 0.0719 - val_loss: 0.0923 - val_msle: 0.0716\n",
      "Epoch 20/100\n",
      "797/797 [==============================] - 2s 2ms/step - loss: 0.0919 - msle: 0.0718 - val_loss: 0.0917 - val_msle: 0.0719\n",
      "Epoch 21/100\n",
      "797/797 [==============================] - 3s 3ms/step - loss: 0.0918 - msle: 0.0719 - val_loss: 0.0917 - val_msle: 0.0723\n",
      "Epoch 22/100\n",
      "797/797 [==============================] - 2s 3ms/step - loss: 0.0917 - msle: 0.0720 - val_loss: 0.0929 - val_msle: 0.0721\n",
      "Epoch 23/100\n",
      "797/797 [==============================] - 2s 3ms/step - loss: 0.0916 - msle: 0.0720 - val_loss: 0.0913 - val_msle: 0.0721\n",
      "Epoch 24/100\n",
      "797/797 [==============================] - 3s 4ms/step - loss: 0.0914 - msle: 0.0719 - val_loss: 0.0918 - val_msle: 0.0732\n",
      "Epoch 25/100\n",
      "797/797 [==============================] - 2s 3ms/step - loss: 0.0912 - msle: 0.0719 - val_loss: 0.0911 - val_msle: 0.0715\n",
      "Epoch 26/100\n",
      "797/797 [==============================] - 2s 3ms/step - loss: 0.0911 - msle: 0.0719 - val_loss: 0.0908 - val_msle: 0.0717\n",
      "Epoch 27/100\n",
      "797/797 [==============================] - 2s 2ms/step - loss: 0.0910 - msle: 0.0719 - val_loss: 0.0909 - val_msle: 0.0715\n",
      "Epoch 28/100\n",
      "797/797 [==============================] - 2s 3ms/step - loss: 0.0909 - msle: 0.0719 - val_loss: 0.0911 - val_msle: 0.0728\n",
      "Epoch 29/100\n",
      "797/797 [==============================] - 2s 2ms/step - loss: 0.0908 - msle: 0.0719 - val_loss: 0.0905 - val_msle: 0.0715\n",
      "Epoch 30/100\n",
      "797/797 [==============================] - 3s 4ms/step - loss: 0.0906 - msle: 0.0720 - val_loss: 0.0903 - val_msle: 0.0720\n",
      "Epoch 31/100\n",
      "797/797 [==============================] - 4s 4ms/step - loss: 0.0906 - msle: 0.0720 - val_loss: 0.0902 - val_msle: 0.0716\n",
      "Epoch 32/100\n",
      "797/797 [==============================] - 4s 5ms/step - loss: 0.0903 - msle: 0.0718 - val_loss: 0.0901 - val_msle: 0.0716\n",
      "Epoch 33/100\n",
      "797/797 [==============================] - 5s 6ms/step - loss: 0.0902 - msle: 0.0719 - val_loss: 0.0904 - val_msle: 0.0716\n",
      "Epoch 34/100\n",
      "797/797 [==============================] - 4s 5ms/step - loss: 0.0900 - msle: 0.0719 - val_loss: 0.0898 - val_msle: 0.0719\n",
      "Epoch 35/100\n",
      "797/797 [==============================] - 2s 3ms/step - loss: 0.0900 - msle: 0.0719 - val_loss: 0.0902 - val_msle: 0.0716\n",
      "Epoch 36/100\n",
      "797/797 [==============================] - 2s 3ms/step - loss: 0.0899 - msle: 0.0719 - val_loss: 0.0905 - val_msle: 0.0734\n",
      "Epoch 37/100\n",
      "797/797 [==============================] - 2s 3ms/step - loss: 0.0898 - msle: 0.0719 - val_loss: 0.0894 - val_msle: 0.0718\n",
      "Epoch 38/100\n",
      "797/797 [==============================] - 2s 3ms/step - loss: 0.0895 - msle: 0.0718 - val_loss: 0.0894 - val_msle: 0.0716\n",
      "Epoch 39/100\n",
      "797/797 [==============================] - 2s 3ms/step - loss: 0.0894 - msle: 0.0718 - val_loss: 0.0894 - val_msle: 0.0722\n",
      "Epoch 40/100\n",
      "797/797 [==============================] - 2s 3ms/step - loss: 0.0893 - msle: 0.0718 - val_loss: 0.0892 - val_msle: 0.0721\n",
      "Epoch 41/100\n",
      "797/797 [==============================] - 2s 2ms/step - loss: 0.0892 - msle: 0.0718 - val_loss: 0.0895 - val_msle: 0.0728\n",
      "Epoch 42/100\n",
      "797/797 [==============================] - 2s 3ms/step - loss: 0.0892 - msle: 0.0719 - val_loss: 0.0895 - val_msle: 0.0717\n",
      "Epoch 43/100\n",
      "797/797 [==============================] - 2s 2ms/step - loss: 0.0891 - msle: 0.0719 - val_loss: 0.0888 - val_msle: 0.0716\n",
      "Epoch 44/100\n",
      "797/797 [==============================] - 2s 3ms/step - loss: 0.0889 - msle: 0.0718 - val_loss: 0.0887 - val_msle: 0.0717\n",
      "Epoch 45/100\n",
      "797/797 [==============================] - 2s 2ms/step - loss: 0.0888 - msle: 0.0719 - val_loss: 0.0886 - val_msle: 0.0716\n",
      "Epoch 46/100\n",
      "797/797 [==============================] - 2s 3ms/step - loss: 0.0888 - msle: 0.0719 - val_loss: 0.0885 - val_msle: 0.0718\n",
      "Epoch 47/100\n",
      "797/797 [==============================] - 2s 3ms/step - loss: 0.0886 - msle: 0.0718 - val_loss: 0.0887 - val_msle: 0.0725\n",
      "Epoch 48/100\n",
      "797/797 [==============================] - 2s 3ms/step - loss: 0.0886 - msle: 0.0720 - val_loss: 0.0884 - val_msle: 0.0715\n",
      "Epoch 49/100\n",
      "797/797 [==============================] - 2s 2ms/step - loss: 0.0884 - msle: 0.0718 - val_loss: 0.0883 - val_msle: 0.0715\n",
      "Epoch 50/100\n",
      "797/797 [==============================] - 2s 3ms/step - loss: 0.0883 - msle: 0.0718 - val_loss: 0.0880 - val_msle: 0.0716\n",
      "Epoch 51/100\n",
      "797/797 [==============================] - 2s 2ms/step - loss: 0.0882 - msle: 0.0719 - val_loss: 0.0882 - val_msle: 0.0723\n",
      "Epoch 52/100\n",
      "797/797 [==============================] - 2s 3ms/step - loss: 0.0881 - msle: 0.0719 - val_loss: 0.0881 - val_msle: 0.0715\n",
      "Epoch 53/100\n",
      "797/797 [==============================] - 2s 2ms/step - loss: 0.0881 - msle: 0.0719 - val_loss: 0.0881 - val_msle: 0.0716\n",
      "Epoch 54/100\n",
      "797/797 [==============================] - 2s 3ms/step - loss: 0.0880 - msle: 0.0719 - val_loss: 0.0884 - val_msle: 0.0717\n",
      "Epoch 55/100\n",
      "797/797 [==============================] - 2s 2ms/step - loss: 0.0879 - msle: 0.0719 - val_loss: 0.0879 - val_msle: 0.0716\n",
      "Epoch 56/100\n",
      "797/797 [==============================] - 2s 3ms/step - loss: 0.0878 - msle: 0.0719 - val_loss: 0.0878 - val_msle: 0.0716\n",
      "Epoch 57/100\n",
      "797/797 [==============================] - 2s 3ms/step - loss: 0.0877 - msle: 0.0719 - val_loss: 0.0874 - val_msle: 0.0716\n",
      "Epoch 58/100\n",
      "797/797 [==============================] - 2s 3ms/step - loss: 0.0875 - msle: 0.0718 - val_loss: 0.0893 - val_msle: 0.0747\n",
      "Epoch 59/100\n",
      "797/797 [==============================] - 2s 3ms/step - loss: 0.0875 - msle: 0.0719 - val_loss: 0.0875 - val_msle: 0.0723\n",
      "Epoch 60/100\n",
      "797/797 [==============================] - 2s 3ms/step - loss: 0.0874 - msle: 0.0719 - val_loss: 0.0872 - val_msle: 0.0716\n",
      "Epoch 61/100\n",
      "797/797 [==============================] - 2s 3ms/step - loss: 0.0873 - msle: 0.0718 - val_loss: 0.0871 - val_msle: 0.0716\n",
      "Epoch 62/100\n",
      "797/797 [==============================] - 2s 3ms/step - loss: 0.0872 - msle: 0.0719 - val_loss: 0.0870 - val_msle: 0.0716\n",
      "Epoch 63/100\n",
      "797/797 [==============================] - 2s 3ms/step - loss: 0.0872 - msle: 0.0719 - val_loss: 0.0885 - val_msle: 0.0723\n",
      "Epoch 64/100\n",
      "797/797 [==============================] - 2s 3ms/step - loss: 0.0870 - msle: 0.0718 - val_loss: 0.0869 - val_msle: 0.0715\n",
      "Epoch 65/100\n",
      "797/797 [==============================] - 2s 3ms/step - loss: 0.0870 - msle: 0.0719 - val_loss: 0.0868 - val_msle: 0.0718\n",
      "Epoch 66/100\n",
      "797/797 [==============================] - 2s 3ms/step - loss: 0.0869 - msle: 0.0718 - val_loss: 0.0868 - val_msle: 0.0720\n",
      "Epoch 67/100\n",
      "797/797 [==============================] - 2s 3ms/step - loss: 0.0869 - msle: 0.0719 - val_loss: 0.0867 - val_msle: 0.0715\n",
      "Epoch 68/100\n",
      "797/797 [==============================] - 2s 3ms/step - loss: 0.0867 - msle: 0.0718 - val_loss: 0.0865 - val_msle: 0.0717\n",
      "Epoch 69/100\n",
      "797/797 [==============================] - 2s 3ms/step - loss: 0.0867 - msle: 0.0719 - val_loss: 0.0865 - val_msle: 0.0719\n",
      "Epoch 70/100\n",
      "797/797 [==============================] - 2s 3ms/step - loss: 0.0865 - msle: 0.0718 - val_loss: 0.0883 - val_msle: 0.0726\n",
      "Epoch 71/100\n",
      "797/797 [==============================] - 2s 2ms/step - loss: 0.0865 - msle: 0.0718 - val_loss: 0.0863 - val_msle: 0.0719\n",
      "Epoch 72/100\n",
      "797/797 [==============================] - 2s 3ms/step - loss: 0.0863 - msle: 0.0717 - val_loss: 0.0862 - val_msle: 0.0717\n",
      "Epoch 73/100\n",
      "797/797 [==============================] - 2s 3ms/step - loss: 0.0864 - msle: 0.0719 - val_loss: 0.0862 - val_msle: 0.0719\n",
      "Epoch 74/100\n",
      "797/797 [==============================] - 2s 2ms/step - loss: 0.0861 - msle: 0.0717 - val_loss: 0.0860 - val_msle: 0.0718\n",
      "Epoch 75/100\n",
      "797/797 [==============================] - 2s 2ms/step - loss: 0.0863 - msle: 0.0719 - val_loss: 0.0866 - val_msle: 0.0717\n",
      "Epoch 76/100\n",
      "797/797 [==============================] - 2s 3ms/step - loss: 0.0862 - msle: 0.0719 - val_loss: 0.0862 - val_msle: 0.0716\n",
      "Epoch 77/100\n",
      "797/797 [==============================] - 2s 3ms/step - loss: 0.0861 - msle: 0.0718 - val_loss: 0.0859 - val_msle: 0.0719\n",
      "Epoch 78/100\n",
      "797/797 [==============================] - 2s 3ms/step - loss: 0.0860 - msle: 0.0719 - val_loss: 0.0858 - val_msle: 0.0718\n",
      "Epoch 79/100\n",
      "797/797 [==============================] - 2s 3ms/step - loss: 0.0858 - msle: 0.0718 - val_loss: 0.0862 - val_msle: 0.0717\n",
      "Epoch 80/100\n",
      "797/797 [==============================] - 2s 3ms/step - loss: 0.0858 - msle: 0.0718 - val_loss: 0.0865 - val_msle: 0.0719\n",
      "Epoch 81/100\n",
      "797/797 [==============================] - 2s 3ms/step - loss: 0.0858 - msle: 0.0719 - val_loss: 0.0856 - val_msle: 0.0718\n",
      "Epoch 82/100\n",
      "797/797 [==============================] - 2s 3ms/step - loss: 0.0857 - msle: 0.0718 - val_loss: 0.0856 - val_msle: 0.0715\n",
      "Epoch 83/100\n",
      "797/797 [==============================] - 2s 3ms/step - loss: 0.0857 - msle: 0.0718 - val_loss: 0.0854 - val_msle: 0.0717\n",
      "Epoch 84/100\n",
      "797/797 [==============================] - 2s 3ms/step - loss: 0.0857 - msle: 0.0720 - val_loss: 0.0853 - val_msle: 0.0718\n",
      "Epoch 85/100\n",
      "797/797 [==============================] - 2s 3ms/step - loss: 0.0856 - msle: 0.0719 - val_loss: 0.0857 - val_msle: 0.0716\n",
      "Epoch 86/100\n",
      "797/797 [==============================] - 2s 3ms/step - loss: 0.0855 - msle: 0.0719 - val_loss: 0.0852 - val_msle: 0.0717\n",
      "Epoch 87/100\n",
      "797/797 [==============================] - 2s 3ms/step - loss: 0.0854 - msle: 0.0718 - val_loss: 0.0855 - val_msle: 0.0724\n",
      "Epoch 88/100\n",
      "797/797 [==============================] - 2s 3ms/step - loss: 0.0854 - msle: 0.0719 - val_loss: 0.0851 - val_msle: 0.0716\n",
      "Epoch 89/100\n",
      "797/797 [==============================] - 3s 3ms/step - loss: 0.0853 - msle: 0.0719 - val_loss: 0.0850 - val_msle: 0.0717\n",
      "Epoch 90/100\n",
      "797/797 [==============================] - 3s 4ms/step - loss: 0.0853 - msle: 0.0719 - val_loss: 0.0854 - val_msle: 0.0716\n",
      "Epoch 91/100\n",
      "797/797 [==============================] - 5s 6ms/step - loss: 0.0852 - msle: 0.0719 - val_loss: 0.0849 - val_msle: 0.0717\n",
      "Epoch 92/100\n",
      "797/797 [==============================] - 5s 6ms/step - loss: 0.0852 - msle: 0.0719 - val_loss: 0.0852 - val_msle: 0.0724\n",
      "Epoch 93/100\n",
      "797/797 [==============================] - 3s 3ms/step - loss: 0.0852 - msle: 0.0720 - val_loss: 0.0848 - val_msle: 0.0717\n",
      "Epoch 94/100\n",
      "797/797 [==============================] - 2s 3ms/step - loss: 0.0850 - msle: 0.0718 - val_loss: 0.0855 - val_msle: 0.0718\n",
      "Epoch 95/100\n",
      "797/797 [==============================] - 2s 3ms/step - loss: 0.0849 - msle: 0.0718 - val_loss: 0.0851 - val_msle: 0.0724\n",
      "Epoch 96/100\n",
      "797/797 [==============================] - 2s 3ms/step - loss: 0.0849 - msle: 0.0719 - val_loss: 0.0848 - val_msle: 0.0716\n",
      "Epoch 97/100\n",
      "797/797 [==============================] - 2s 2ms/step - loss: 0.0849 - msle: 0.0719 - val_loss: 0.0846 - val_msle: 0.0717\n",
      "Epoch 98/100\n",
      "797/797 [==============================] - 2s 2ms/step - loss: 0.0847 - msle: 0.0718 - val_loss: 0.0846 - val_msle: 0.0719\n",
      "Epoch 99/100\n",
      "797/797 [==============================] - 2s 2ms/step - loss: 0.0846 - msle: 0.0717 - val_loss: 0.0845 - val_msle: 0.0719\n",
      "Epoch 100/100\n",
      "797/797 [==============================] - 2s 2ms/step - loss: 0.0845 - msle: 0.0717 - val_loss: 0.0856 - val_msle: 0.0722\n"
     ]
    }
   ],
   "source": [
    "hist = model.fit(X_train, Y_train,\n",
    "          batch_size=32, epochs=100,\n",
    "          validation_data=(X_val, Y_val))"
   ]
  },
  {
   "cell_type": "code",
   "execution_count": 11,
   "id": "8450a4af-5290-4c22-9bd0-17f593c0ec44",
   "metadata": {},
   "outputs": [
    {
     "name": "stdout",
     "output_type": "stream",
     "text": [
      "171/171 [==============================] - 1s 2ms/step - loss: 0.0963 - msle: 0.0738\n"
     ]
    },
    {
     "data": {
      "text/plain": [
       "0.07375160604715347"
      ]
     },
     "execution_count": 11,
     "metadata": {},
     "output_type": "execute_result"
    }
   ],
   "source": [
    "model.evaluate(X_test, Y_test)[1]"
   ]
  },
  {
   "cell_type": "code",
   "execution_count": 13,
   "id": "76f845c8-4ba3-4feb-87f6-216c9bd4d31e",
   "metadata": {},
   "outputs": [
    {
     "data": {
      "image/png": "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",
      "text/plain": [
       "<Figure size 432x288 with 1 Axes>"
      ]
     },
     "metadata": {
      "needs_background": "light"
     },
     "output_type": "display_data"
    }
   ],
   "source": [
    "plt.plot(hist.history['loss'])\n",
    "plt.plot(hist.history['val_loss'])\n",
    "plt.title('Model loss')\n",
    "plt.ylabel('Loss')\n",
    "plt.xlabel('Epoch')\n",
    "plt.legend(['Train', 'Val'], loc='upper right')\n",
    "plt.show()"
   ]
  },
  {
   "cell_type": "code",
   "execution_count": 14,
   "id": "e35af6f0-ba34-416a-ba48-4f0a195b7a55",
   "metadata": {},
   "outputs": [
    {
     "data": {
      "image/png": "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",
      "text/plain": [
       "<Figure size 432x288 with 1 Axes>"
      ]
     },
     "metadata": {
      "needs_background": "light"
     },
     "output_type": "display_data"
    }
   ],
   "source": [
    "plt.plot(hist.history['msle'])\n",
    "plt.plot(hist.history['val_msle'])\n",
    "plt.title('Model MSLE')\n",
    "plt.ylabel('MSLE')\n",
    "plt.xlabel('Epoch')\n",
    "plt.legend(['Train', 'Val'], loc='lower right')\n",
    "plt.show()"
   ]
  },
  {
   "cell_type": "code",
   "execution_count": 31,
   "id": "b43535df",
   "metadata": {},
   "outputs": [
    {
     "name": "stdout",
     "output_type": "stream",
     "text": [
      "171/171 [==============================] - 0s 2ms/step\n"
     ]
    }
   ],
   "source": [
    "prediction = model.predict(X_val)"
   ]
  },
  {
   "cell_type": "code",
   "execution_count": 35,
   "id": "fa0588e3",
   "metadata": {},
   "outputs": [
    {
     "data": {
      "text/plain": [
       "12.408314"
      ]
     },
     "execution_count": 35,
     "metadata": {},
     "output_type": "execute_result"
    }
   ],
   "source": [
    "# calculate the absolute errors\n",
    "error = prediction - Y_val[1]\n",
    "error = [abs(x) for x in error]\n",
    "\n",
    "# print out the mean absolute error (mae)\n",
    "np.mean(error)"
   ]
  },
  {
   "cell_type": "code",
   "execution_count": 38,
   "id": "f392f9d1",
   "metadata": {},
   "outputs": [
    {
     "data": {
      "text/plain": [
       "91.26170752324599"
      ]
     },
     "execution_count": 38,
     "metadata": {},
     "output_type": "execute_result"
    }
   ],
   "source": [
    "# calculate the absolute errors of baseline model\n",
    "y_mode = mode(Y_val)\n",
    "baseline_error = [abs(y_mode-x) for x in Y_val]\n",
    "np.mean(baseline_error)"
   ]
  },
  {
   "cell_type": "code",
   "execution_count": 15,
   "id": "9145a107-a085-4d19-9b1c-af1085869ac2",
   "metadata": {},
   "outputs": [],
   "source": [
    "pop = pd.read_csv(\"../data/curated/predicted_population.csv\")"
   ]
  },
  {
   "cell_type": "code",
   "execution_count": 16,
   "id": "7fca1cbf-6504-4f33-967c-0d5678e2c21a",
   "metadata": {},
   "outputs": [],
   "source": [
    "post_data = data[['Postcode', 'Baths','Population', 'Count_School', 'Count_Station','Bedrooms','Weekly Rental Price']]"
   ]
  },
  {
   "cell_type": "code",
   "execution_count": 17,
   "id": "95b7bbee-4a57-40dd-82b9-b7961d01fbdc",
   "metadata": {},
   "outputs": [],
   "source": [
    "pop_2023 = pop[['Postcode','2023']]\n",
    "pop_2024 = pop[['Postcode','2024']]\n",
    "pop_2025 = pop[['Postcode','2025']]"
   ]
  },
  {
   "cell_type": "code",
   "execution_count": 18,
   "id": "c4e14b1f-d941-4ee8-9c73-e80038cab70c",
   "metadata": {},
   "outputs": [],
   "source": [
    "pop_2023 = pd.merge(pop_2023, post_data, how='inner', on=['Postcode'])\n",
    "pop_2023 =pop_2023.drop(labels=['Population'],axis=1) \n",
    "pop_2023 = pop_2023[['Postcode', '2023', 'Baths', 'Count_School', 'Count_Station', 'Bedrooms']]"
   ]
  },
  {
   "cell_type": "code",
   "execution_count": 19,
   "id": "5c9a7494-ecd9-48b4-b373-5d9ac7148afb",
   "metadata": {},
   "outputs": [
    {
     "name": "stdout",
     "output_type": "stream",
     "text": [
      "1138/1138 [==============================] - 2s 2ms/step\n"
     ]
    }
   ],
   "source": [
    "pop_2023['Count_School'] = pop_2023['Count_School'].fillna(value = 0)\n",
    "pop_2023['Count_Station'] = pop_2023['Count_Station'].fillna(value = 0)\n",
    "pop_2023 = pop_2023.dropna(axis=0)\n",
    "pop_2023 = pop_2023[(pop_2023['Baths'] > 0) & (pop_2023['Bedrooms'] > 0)]\n",
    "pred_2023 = model.predict(pop_2023)\n",
    "data.insert(6, 'Pred_2023', pred_2023)"
   ]
  },
  {
   "cell_type": "code",
   "execution_count": 20,
   "id": "ee5a79cf-b663-481d-8607-01b5108a2bd3",
   "metadata": {},
   "outputs": [],
   "source": [
    "pop_2024 = pd.merge(pop_2024, post_data, how='inner', on=['Postcode'])\n",
    "pop_2024 =pop_2024.drop(labels=['Population'],axis=1) \n",
    "pop_2024 = pop_2024[['Postcode', '2024', 'Baths', 'Count_School', 'Count_Station', 'Bedrooms']]"
   ]
  },
  {
   "cell_type": "code",
   "execution_count": 21,
   "id": "0302a922-1974-40bf-8e7e-b43a67b21152",
   "metadata": {},
   "outputs": [
    {
     "name": "stdout",
     "output_type": "stream",
     "text": [
      "1138/1138 [==============================] - 3s 3ms/step\n"
     ]
    }
   ],
   "source": [
    "pop_2024['Count_School'] = pop_2024['Count_School'].fillna(value = 0)\n",
    "pop_2024['Count_Station'] = pop_2024['Count_Station'].fillna(value = 0)\n",
    "pop_2024 = pop_2024.dropna(axis=0)\n",
    "pop_2024 = pop_2024[(pop_2024['Baths'] > 0) & (pop_2024['Bedrooms'] > 0)]\n",
    "pred_2024 = model.predict(pop_2024)\n",
    "data.insert(7, 'Pred_2024', pred_2024)"
   ]
  },
  {
   "cell_type": "code",
   "execution_count": 22,
   "id": "b22b409b-d53a-417a-844e-8a3401b3e351",
   "metadata": {},
   "outputs": [],
   "source": [
    "pop_2025 = pd.merge(pop_2025, post_data, how='inner', on=['Postcode'])\n",
    "pop_2025 =pop_2025.drop(labels=['Population'],axis=1) \n",
    "pop_2025 = pop_2025[['Postcode', '2025', 'Baths', 'Count_School', 'Count_Station', 'Bedrooms']]"
   ]
  },
  {
   "cell_type": "code",
   "execution_count": 23,
   "id": "5be97538-393f-4217-ac7a-886f9da5e853",
   "metadata": {},
   "outputs": [
    {
     "name": "stdout",
     "output_type": "stream",
     "text": [
      "1138/1138 [==============================] - 3s 2ms/step\n"
     ]
    }
   ],
   "source": [
    "pop_2025['Count_School'] = pop_2025['Count_School'].fillna(value = 0)\n",
    "pop_2025['Count_Station'] = pop_2025['Count_Station'].fillna(value = 0)\n",
    "pop_2025 = pop_2025.dropna(axis=0)\n",
    "pop_2025 = pop_2025[(pop_2025['Baths'] > 0) & (pop_2025['Bedrooms'] > 0)]\n",
    "pred_2025 = model.predict(pop_2025)\n",
    "data.insert(8, 'Pred_2025', pred_2025)"
   ]
  },
  {
   "cell_type": "code",
   "execution_count": 24,
   "id": "aa11a625-105d-4f54-b33c-35f828663c6f",
   "metadata": {},
   "outputs": [
    {
     "data": {
      "text/html": [
       "<div>\n",
       "<style scoped>\n",
       "    .dataframe tbody tr th:only-of-type {\n",
       "        vertical-align: middle;\n",
       "    }\n",
       "\n",
       "    .dataframe tbody tr th {\n",
       "        vertical-align: top;\n",
       "    }\n",
       "\n",
       "    .dataframe thead th {\n",
       "        text-align: right;\n",
       "    }\n",
       "</style>\n",
       "<table border=\"1\" class=\"dataframe\">\n",
       "  <thead>\n",
       "    <tr style=\"text-align: right;\">\n",
       "      <th></th>\n",
       "      <th>Unnamed: 0</th>\n",
       "      <th>Postcode</th>\n",
       "      <th>Baths</th>\n",
       "      <th>Population</th>\n",
       "      <th>Count_School</th>\n",
       "      <th>Count_Station</th>\n",
       "      <th>Pred_2023</th>\n",
       "      <th>Pred_2024</th>\n",
       "      <th>Pred_2025</th>\n",
       "      <th>Bedrooms</th>\n",
       "      <th>Weekly Rental Price</th>\n",
       "    </tr>\n",
       "  </thead>\n",
       "  <tbody>\n",
       "    <tr>\n",
       "      <th>0</th>\n",
       "      <td>5</td>\n",
       "      <td>3000</td>\n",
       "      <td>1</td>\n",
       "      <td>34652.148872</td>\n",
       "      <td>4.0</td>\n",
       "      <td>45.0</td>\n",
       "      <td>468.817749</td>\n",
       "      <td>469.184448</td>\n",
       "      <td>469.490051</td>\n",
       "      <td>1</td>\n",
       "      <td>440.0</td>\n",
       "    </tr>\n",
       "    <tr>\n",
       "      <th>1</th>\n",
       "      <td>6</td>\n",
       "      <td>3000</td>\n",
       "      <td>1</td>\n",
       "      <td>34652.148872</td>\n",
       "      <td>4.0</td>\n",
       "      <td>45.0</td>\n",
       "      <td>468.817749</td>\n",
       "      <td>469.184448</td>\n",
       "      <td>469.490051</td>\n",
       "      <td>1</td>\n",
       "      <td>440.0</td>\n",
       "    </tr>\n",
       "    <tr>\n",
       "      <th>2</th>\n",
       "      <td>7</td>\n",
       "      <td>3000</td>\n",
       "      <td>1</td>\n",
       "      <td>34652.148872</td>\n",
       "      <td>4.0</td>\n",
       "      <td>45.0</td>\n",
       "      <td>468.817749</td>\n",
       "      <td>469.184448</td>\n",
       "      <td>469.490051</td>\n",
       "      <td>1</td>\n",
       "      <td>440.0</td>\n",
       "    </tr>\n",
       "    <tr>\n",
       "      <th>3</th>\n",
       "      <td>8</td>\n",
       "      <td>3000</td>\n",
       "      <td>1</td>\n",
       "      <td>34652.148872</td>\n",
       "      <td>4.0</td>\n",
       "      <td>45.0</td>\n",
       "      <td>468.817749</td>\n",
       "      <td>469.184448</td>\n",
       "      <td>469.490051</td>\n",
       "      <td>1</td>\n",
       "      <td>440.0</td>\n",
       "    </tr>\n",
       "    <tr>\n",
       "      <th>4</th>\n",
       "      <td>9</td>\n",
       "      <td>3000</td>\n",
       "      <td>1</td>\n",
       "      <td>34652.148872</td>\n",
       "      <td>4.0</td>\n",
       "      <td>45.0</td>\n",
       "      <td>468.817749</td>\n",
       "      <td>469.184448</td>\n",
       "      <td>469.490051</td>\n",
       "      <td>1</td>\n",
       "      <td>440.0</td>\n",
       "    </tr>\n",
       "    <tr>\n",
       "      <th>...</th>\n",
       "      <td>...</td>\n",
       "      <td>...</td>\n",
       "      <td>...</td>\n",
       "      <td>...</td>\n",
       "      <td>...</td>\n",
       "      <td>...</td>\n",
       "      <td>...</td>\n",
       "      <td>...</td>\n",
       "      <td>...</td>\n",
       "      <td>...</td>\n",
       "      <td>...</td>\n",
       "    </tr>\n",
       "    <tr>\n",
       "      <th>36395</th>\n",
       "      <td>42824</td>\n",
       "      <td>3996</td>\n",
       "      <td>1</td>\n",
       "      <td>36889.657143</td>\n",
       "      <td>0.0</td>\n",
       "      <td>0.0</td>\n",
       "      <td>472.981140</td>\n",
       "      <td>474.465332</td>\n",
       "      <td>476.015106</td>\n",
       "      <td>2</td>\n",
       "      <td>420.0</td>\n",
       "    </tr>\n",
       "    <tr>\n",
       "      <th>36396</th>\n",
       "      <td>42825</td>\n",
       "      <td>3996</td>\n",
       "      <td>1</td>\n",
       "      <td>36889.657143</td>\n",
       "      <td>0.0</td>\n",
       "      <td>0.0</td>\n",
       "      <td>472.981140</td>\n",
       "      <td>474.465332</td>\n",
       "      <td>476.015106</td>\n",
       "      <td>2</td>\n",
       "      <td>370.0</td>\n",
       "    </tr>\n",
       "    <tr>\n",
       "      <th>36397</th>\n",
       "      <td>42826</td>\n",
       "      <td>3996</td>\n",
       "      <td>1</td>\n",
       "      <td>36889.657143</td>\n",
       "      <td>0.0</td>\n",
       "      <td>0.0</td>\n",
       "      <td>472.981140</td>\n",
       "      <td>474.465332</td>\n",
       "      <td>476.015106</td>\n",
       "      <td>2</td>\n",
       "      <td>370.0</td>\n",
       "    </tr>\n",
       "    <tr>\n",
       "      <th>36398</th>\n",
       "      <td>42827</td>\n",
       "      <td>3996</td>\n",
       "      <td>2</td>\n",
       "      <td>36889.657143</td>\n",
       "      <td>0.0</td>\n",
       "      <td>0.0</td>\n",
       "      <td>472.988403</td>\n",
       "      <td>474.472565</td>\n",
       "      <td>476.022369</td>\n",
       "      <td>3</td>\n",
       "      <td>475.0</td>\n",
       "    </tr>\n",
       "    <tr>\n",
       "      <th>36399</th>\n",
       "      <td>42828</td>\n",
       "      <td>3996</td>\n",
       "      <td>2</td>\n",
       "      <td>36889.657143</td>\n",
       "      <td>0.0</td>\n",
       "      <td>0.0</td>\n",
       "      <td>472.988403</td>\n",
       "      <td>474.472565</td>\n",
       "      <td>476.022369</td>\n",
       "      <td>3</td>\n",
       "      <td>475.0</td>\n",
       "    </tr>\n",
       "  </tbody>\n",
       "</table>\n",
       "<p>36400 rows × 11 columns</p>\n",
       "</div>"
      ],
      "text/plain": [
       "       Unnamed: 0  Postcode  Baths    Population  Count_School  Count_Station  \\\n",
       "0               5      3000      1  34652.148872           4.0           45.0   \n",
       "1               6      3000      1  34652.148872           4.0           45.0   \n",
       "2               7      3000      1  34652.148872           4.0           45.0   \n",
       "3               8      3000      1  34652.148872           4.0           45.0   \n",
       "4               9      3000      1  34652.148872           4.0           45.0   \n",
       "...           ...       ...    ...           ...           ...            ...   \n",
       "36395       42824      3996      1  36889.657143           0.0            0.0   \n",
       "36396       42825      3996      1  36889.657143           0.0            0.0   \n",
       "36397       42826      3996      1  36889.657143           0.0            0.0   \n",
       "36398       42827      3996      2  36889.657143           0.0            0.0   \n",
       "36399       42828      3996      2  36889.657143           0.0            0.0   \n",
       "\n",
       "        Pred_2023   Pred_2024   Pred_2025  Bedrooms  Weekly Rental Price  \n",
       "0      468.817749  469.184448  469.490051         1                440.0  \n",
       "1      468.817749  469.184448  469.490051         1                440.0  \n",
       "2      468.817749  469.184448  469.490051         1                440.0  \n",
       "3      468.817749  469.184448  469.490051         1                440.0  \n",
       "4      468.817749  469.184448  469.490051         1                440.0  \n",
       "...           ...         ...         ...       ...                  ...  \n",
       "36395  472.981140  474.465332  476.015106         2                420.0  \n",
       "36396  472.981140  474.465332  476.015106         2                370.0  \n",
       "36397  472.981140  474.465332  476.015106         2                370.0  \n",
       "36398  472.988403  474.472565  476.022369         3                475.0  \n",
       "36399  472.988403  474.472565  476.022369         3                475.0  \n",
       "\n",
       "[36400 rows x 11 columns]"
      ]
     },
     "execution_count": 24,
     "metadata": {},
     "output_type": "execute_result"
    }
   ],
   "source": [
    "data"
   ]
  },
  {
   "cell_type": "code",
<<<<<<< HEAD
   "execution_count": 551,
=======
   "execution_count": 25,
>>>>>>> 7d5069a3d5bcfadabf2548b63bd65d807f8f7c79
   "id": "102883c3-e6bb-4dea-9120-0c5b1f779888",
   "metadata": {},
   "outputs": [],
   "source": [
    "data['rate_2023'] = (data['Pred_2023'] - data['Weekly Rental Price'])/data['Weekly Rental Price']"
   ]
  },
  {
   "cell_type": "code",
<<<<<<< HEAD
   "execution_count": 552,
=======
   "execution_count": 26,
>>>>>>> 7d5069a3d5bcfadabf2548b63bd65d807f8f7c79
   "id": "b3b9924d-9f9c-4c00-8e57-104cc7bbb5ec",
   "metadata": {},
   "outputs": [],
   "source": [
    "data['rate_2024'] = (data['Pred_2024'] - data['Pred_2023'])/data['Pred_2023']"
   ]
  },
  {
   "cell_type": "code",
<<<<<<< HEAD
   "execution_count": 553,
=======
   "execution_count": 27,
>>>>>>> 7d5069a3d5bcfadabf2548b63bd65d807f8f7c79
   "id": "241ad7b7-ba16-42f0-88eb-153fce9471b5",
   "metadata": {},
   "outputs": [],
   "source": [
    "data['rate_2025'] = (data['Pred_2025'] - data['Pred_2024'])/data['Pred_2024']"
   ]
  },
  {
   "cell_type": "code",
<<<<<<< HEAD
   "execution_count": 554,
=======
   "execution_count": 28,
>>>>>>> 7d5069a3d5bcfadabf2548b63bd65d807f8f7c79
   "id": "f0ce5c49-ee60-4eb0-83a4-1a1beffe4fee",
   "metadata": {},
   "outputs": [
    {
     "data": {
      "text/html": [
       "<div>\n",
       "<style scoped>\n",
       "    .dataframe tbody tr th:only-of-type {\n",
       "        vertical-align: middle;\n",
       "    }\n",
       "\n",
       "    .dataframe tbody tr th {\n",
       "        vertical-align: top;\n",
       "    }\n",
       "\n",
       "    .dataframe thead th {\n",
       "        text-align: right;\n",
       "    }\n",
       "</style>\n",
       "<table border=\"1\" class=\"dataframe\">\n",
       "  <thead>\n",
       "    <tr style=\"text-align: right;\">\n",
       "      <th></th>\n",
       "      <th>Unnamed: 0</th>\n",
       "      <th>Postcode</th>\n",
       "      <th>Baths</th>\n",
       "      <th>Population</th>\n",
       "      <th>Count_School</th>\n",
       "      <th>Count_Station</th>\n",
       "      <th>Pred_2023</th>\n",
       "      <th>Pred_2024</th>\n",
       "      <th>Pred_2025</th>\n",
       "      <th>Bedrooms</th>\n",
       "      <th>Weekly Rental Price</th>\n",
       "      <th>rate_2023</th>\n",
       "      <th>rate_2024</th>\n",
       "      <th>rate_2025</th>\n",
       "    </tr>\n",
       "  </thead>\n",
       "  <tbody>\n",
       "    <tr>\n",
       "      <th>0</th>\n",
       "      <td>5</td>\n",
       "      <td>3000</td>\n",
       "      <td>1</td>\n",
       "      <td>34652.148872</td>\n",
       "      <td>4.0</td>\n",
       "      <td>45.0</td>\n",
       "      <td>468.817749</td>\n",
       "      <td>469.184448</td>\n",
       "      <td>469.490051</td>\n",
       "      <td>1</td>\n",
       "      <td>440.0</td>\n",
<<<<<<< HEAD
       "      <td>0.342093</td>\n",
       "      <td>0.002302</td>\n",
       "      <td>0.001913</td>\n",
=======
       "      <td>0.065495</td>\n",
       "      <td>0.066328</td>\n",
       "      <td>0.067023</td>\n",
>>>>>>> 7d5069a3d5bcfadabf2548b63bd65d807f8f7c79
       "    </tr>\n",
       "    <tr>\n",
       "      <th>1</th>\n",
       "      <td>6</td>\n",
       "      <td>3000</td>\n",
       "      <td>1</td>\n",
       "      <td>34652.148872</td>\n",
       "      <td>4.0</td>\n",
       "      <td>45.0</td>\n",
       "      <td>468.817749</td>\n",
       "      <td>469.184448</td>\n",
       "      <td>469.490051</td>\n",
       "      <td>1</td>\n",
       "      <td>440.0</td>\n",
<<<<<<< HEAD
       "      <td>0.342093</td>\n",
       "      <td>0.002302</td>\n",
       "      <td>0.001913</td>\n",
=======
       "      <td>0.065495</td>\n",
       "      <td>0.066328</td>\n",
       "      <td>0.067023</td>\n",
>>>>>>> 7d5069a3d5bcfadabf2548b63bd65d807f8f7c79
       "    </tr>\n",
       "    <tr>\n",
       "      <th>2</th>\n",
       "      <td>7</td>\n",
       "      <td>3000</td>\n",
       "      <td>1</td>\n",
       "      <td>34652.148872</td>\n",
       "      <td>4.0</td>\n",
       "      <td>45.0</td>\n",
       "      <td>468.817749</td>\n",
       "      <td>469.184448</td>\n",
       "      <td>469.490051</td>\n",
       "      <td>1</td>\n",
       "      <td>440.0</td>\n",
<<<<<<< HEAD
       "      <td>0.342093</td>\n",
       "      <td>0.002302</td>\n",
       "      <td>0.001913</td>\n",
=======
       "      <td>0.065495</td>\n",
       "      <td>0.066328</td>\n",
       "      <td>0.067023</td>\n",
>>>>>>> 7d5069a3d5bcfadabf2548b63bd65d807f8f7c79
       "    </tr>\n",
       "    <tr>\n",
       "      <th>3</th>\n",
       "      <td>8</td>\n",
       "      <td>3000</td>\n",
       "      <td>1</td>\n",
       "      <td>34652.148872</td>\n",
       "      <td>4.0</td>\n",
       "      <td>45.0</td>\n",
       "      <td>468.817749</td>\n",
       "      <td>469.184448</td>\n",
       "      <td>469.490051</td>\n",
       "      <td>1</td>\n",
       "      <td>440.0</td>\n",
<<<<<<< HEAD
       "      <td>0.342093</td>\n",
       "      <td>0.002302</td>\n",
       "      <td>0.001913</td>\n",
=======
       "      <td>0.065495</td>\n",
       "      <td>0.066328</td>\n",
       "      <td>0.067023</td>\n",
>>>>>>> 7d5069a3d5bcfadabf2548b63bd65d807f8f7c79
       "    </tr>\n",
       "    <tr>\n",
       "      <th>4</th>\n",
       "      <td>9</td>\n",
       "      <td>3000</td>\n",
       "      <td>1</td>\n",
       "      <td>34652.148872</td>\n",
       "      <td>4.0</td>\n",
       "      <td>45.0</td>\n",
       "      <td>468.817749</td>\n",
       "      <td>469.184448</td>\n",
       "      <td>469.490051</td>\n",
       "      <td>1</td>\n",
       "      <td>440.0</td>\n",
<<<<<<< HEAD
       "      <td>0.342093</td>\n",
       "      <td>0.002302</td>\n",
       "      <td>0.001913</td>\n",
=======
       "      <td>0.065495</td>\n",
       "      <td>0.066328</td>\n",
       "      <td>0.067023</td>\n",
>>>>>>> 7d5069a3d5bcfadabf2548b63bd65d807f8f7c79
       "    </tr>\n",
       "    <tr>\n",
       "      <th>...</th>\n",
       "      <td>...</td>\n",
       "      <td>...</td>\n",
       "      <td>...</td>\n",
       "      <td>...</td>\n",
       "      <td>...</td>\n",
       "      <td>...</td>\n",
       "      <td>...</td>\n",
       "      <td>...</td>\n",
       "      <td>...</td>\n",
       "      <td>...</td>\n",
       "      <td>...</td>\n",
       "      <td>...</td>\n",
       "      <td>...</td>\n",
       "      <td>...</td>\n",
       "    </tr>\n",
       "    <tr>\n",
       "      <th>36395</th>\n",
       "      <td>42824</td>\n",
       "      <td>3996</td>\n",
       "      <td>1</td>\n",
       "      <td>36889.657143</td>\n",
       "      <td>0.0</td>\n",
       "      <td>0.0</td>\n",
       "      <td>472.981140</td>\n",
       "      <td>474.465332</td>\n",
       "      <td>476.015106</td>\n",
       "      <td>2</td>\n",
       "      <td>420.0</td>\n",
<<<<<<< HEAD
       "      <td>0.410403</td>\n",
       "      <td>0.009286</td>\n",
       "      <td>0.009607</td>\n",
=======
       "      <td>0.126146</td>\n",
       "      <td>0.129679</td>\n",
       "      <td>0.133369</td>\n",
>>>>>>> 7d5069a3d5bcfadabf2548b63bd65d807f8f7c79
       "    </tr>\n",
       "    <tr>\n",
       "      <th>36396</th>\n",
       "      <td>42825</td>\n",
       "      <td>3996</td>\n",
       "      <td>1</td>\n",
       "      <td>36889.657143</td>\n",
       "      <td>0.0</td>\n",
       "      <td>0.0</td>\n",
       "      <td>472.981140</td>\n",
       "      <td>474.465332</td>\n",
       "      <td>476.015106</td>\n",
       "      <td>2</td>\n",
       "      <td>370.0</td>\n",
<<<<<<< HEAD
       "      <td>0.600998</td>\n",
       "      <td>0.009286</td>\n",
       "      <td>0.009607</td>\n",
=======
       "      <td>0.278327</td>\n",
       "      <td>0.282339</td>\n",
       "      <td>0.286527</td>\n",
>>>>>>> 7d5069a3d5bcfadabf2548b63bd65d807f8f7c79
       "    </tr>\n",
       "    <tr>\n",
       "      <th>36397</th>\n",
       "      <td>42826</td>\n",
       "      <td>3996</td>\n",
       "      <td>1</td>\n",
       "      <td>36889.657143</td>\n",
       "      <td>0.0</td>\n",
       "      <td>0.0</td>\n",
       "      <td>472.981140</td>\n",
       "      <td>474.465332</td>\n",
       "      <td>476.015106</td>\n",
       "      <td>2</td>\n",
       "      <td>370.0</td>\n",
<<<<<<< HEAD
       "      <td>0.600998</td>\n",
       "      <td>0.009286</td>\n",
       "      <td>0.009607</td>\n",
=======
       "      <td>0.278327</td>\n",
       "      <td>0.282339</td>\n",
       "      <td>0.286527</td>\n",
>>>>>>> 7d5069a3d5bcfadabf2548b63bd65d807f8f7c79
       "    </tr>\n",
       "    <tr>\n",
       "      <th>36398</th>\n",
       "      <td>42827</td>\n",
       "      <td>3996</td>\n",
       "      <td>2</td>\n",
       "      <td>36889.657143</td>\n",
       "      <td>0.0</td>\n",
       "      <td>0.0</td>\n",
       "      <td>472.988403</td>\n",
       "      <td>474.472565</td>\n",
       "      <td>476.022369</td>\n",
       "      <td>3</td>\n",
       "      <td>475.0</td>\n",
<<<<<<< HEAD
       "      <td>0.247084</td>\n",
       "      <td>0.009286</td>\n",
       "      <td>0.009607</td>\n",
=======
       "      <td>-0.004235</td>\n",
       "      <td>-0.001110</td>\n",
       "      <td>0.002152</td>\n",
>>>>>>> 7d5069a3d5bcfadabf2548b63bd65d807f8f7c79
       "    </tr>\n",
       "    <tr>\n",
       "      <th>36399</th>\n",
       "      <td>42828</td>\n",
       "      <td>3996</td>\n",
       "      <td>2</td>\n",
       "      <td>36889.657143</td>\n",
       "      <td>0.0</td>\n",
       "      <td>0.0</td>\n",
       "      <td>472.988403</td>\n",
       "      <td>474.472565</td>\n",
       "      <td>476.022369</td>\n",
       "      <td>3</td>\n",
       "      <td>475.0</td>\n",
<<<<<<< HEAD
       "      <td>0.247084</td>\n",
       "      <td>0.009286</td>\n",
       "      <td>0.009607</td>\n",
=======
       "      <td>-0.004235</td>\n",
       "      <td>-0.001110</td>\n",
       "      <td>0.002152</td>\n",
>>>>>>> 7d5069a3d5bcfadabf2548b63bd65d807f8f7c79
       "    </tr>\n",
       "  </tbody>\n",
       "</table>\n",
       "<p>36400 rows × 14 columns</p>\n",
       "</div>"
      ],
      "text/plain": [
       "       Unnamed: 0  Postcode  Baths    Population  Count_School  Count_Station  \\\n",
       "0               5      3000      1  34652.148872           4.0           45.0   \n",
       "1               6      3000      1  34652.148872           4.0           45.0   \n",
       "2               7      3000      1  34652.148872           4.0           45.0   \n",
       "3               8      3000      1  34652.148872           4.0           45.0   \n",
       "4               9      3000      1  34652.148872           4.0           45.0   \n",
       "...           ...       ...    ...           ...           ...            ...   \n",
       "36395       42824      3996      1  36889.657143           0.0            0.0   \n",
       "36396       42825      3996      1  36889.657143           0.0            0.0   \n",
       "36397       42826      3996      1  36889.657143           0.0            0.0   \n",
       "36398       42827      3996      2  36889.657143           0.0            0.0   \n",
       "36399       42828      3996      2  36889.657143           0.0            0.0   \n",
       "\n",
       "        Pred_2023   Pred_2024   Pred_2025  Bedrooms  Weekly Rental Price  \\\n",
       "0      468.817749  469.184448  469.490051         1                440.0   \n",
       "1      468.817749  469.184448  469.490051         1                440.0   \n",
       "2      468.817749  469.184448  469.490051         1                440.0   \n",
       "3      468.817749  469.184448  469.490051         1                440.0   \n",
       "4      468.817749  469.184448  469.490051         1                440.0   \n",
       "...           ...         ...         ...       ...                  ...   \n",
       "36395  472.981140  474.465332  476.015106         2                420.0   \n",
       "36396  472.981140  474.465332  476.015106         2                370.0   \n",
       "36397  472.981140  474.465332  476.015106         2                370.0   \n",
       "36398  472.988403  474.472565  476.022369         3                475.0   \n",
       "36399  472.988403  474.472565  476.022369         3                475.0   \n",
       "\n",
<<<<<<< HEAD
       "       rate_2024  rate_2025  \n",
       "5       0.002302   0.001913  \n",
       "6       0.002302   0.001913  \n",
       "7       0.002302   0.001913  \n",
       "8       0.002302   0.001913  \n",
       "9       0.002302   0.001913  \n",
       "...          ...        ...  \n",
       "42824   0.009286   0.009607  \n",
       "42825   0.009286   0.009607  \n",
       "42826   0.009286   0.009607  \n",
       "42827   0.009286   0.009607  \n",
       "42828   0.009286   0.009607  \n",
=======
       "       rate_2023  rate_2024  rate_2025  \n",
       "0       0.065495   0.066328   0.067023  \n",
       "1       0.065495   0.066328   0.067023  \n",
       "2       0.065495   0.066328   0.067023  \n",
       "3       0.065495   0.066328   0.067023  \n",
       "4       0.065495   0.066328   0.067023  \n",
       "...          ...        ...        ...  \n",
       "36395   0.126146   0.129679   0.133369  \n",
       "36396   0.278327   0.282339   0.286527  \n",
       "36397   0.278327   0.282339   0.286527  \n",
       "36398  -0.004235  -0.001110   0.002152  \n",
       "36399  -0.004235  -0.001110   0.002152  \n",
>>>>>>> 7d5069a3d5bcfadabf2548b63bd65d807f8f7c79
       "\n",
       "[36400 rows x 14 columns]"
      ]
     },
<<<<<<< HEAD
     "execution_count": 554,
=======
     "execution_count": 28,
>>>>>>> 7d5069a3d5bcfadabf2548b63bd65d807f8f7c79
     "metadata": {},
     "output_type": "execute_result"
    }
   ],
   "source": [
    "data"
   ]
  },
  {
   "cell_type": "code",
<<<<<<< HEAD
   "execution_count": 555,
=======
   "execution_count": 29,
>>>>>>> 7d5069a3d5bcfadabf2548b63bd65d807f8f7c79
   "id": "64fb39dc-4d0a-4683-b08f-95942f9078f7",
   "metadata": {},
   "outputs": [],
   "source": [
    "data.to_csv(\"../data/curated/NNpredi.csv\")"
   ]
  },
  {
   "cell_type": "code",
   "execution_count": null,
   "id": "8eac4fca-403e-4f23-95f9-8905dbe8de15",
   "metadata": {},
   "outputs": [],
   "source": [
    "# calculate the absolute errors\n",
    "error = predictions - y_test_split\n",
    "error = [abs(x) for x in error]\n",
    "\n",
    "# print out the mean absolute error (mae)\n",
    "np.mean(error)"
   ]
  },
  {
   "cell_type": "code",
   "execution_count": null,
   "id": "551f832b",
   "metadata": {},
   "outputs": [],
   "source": []
  }
 ],
 "metadata": {
  "kernelspec": {
   "display_name": "Python 3.8.13 ('ads')",
   "language": "python",
   "name": "python3"
  },
  "language_info": {
   "codemirror_mode": {
    "name": "ipython",
    "version": 3
   },
   "file_extension": ".py",
   "mimetype": "text/x-python",
   "name": "python",
   "nbconvert_exporter": "python",
   "pygments_lexer": "ipython3",
   "version": "3.8.13"
  },
  "vscode": {
   "interpreter": {
    "hash": "f1e7dfa4028ecbdedcddc863972528864aea52c12c7614bc4f4c47ec76e77350"
   }
  }
 },
 "nbformat": 4,
 "nbformat_minor": 5
}
