{
 "cells": [
  {
   "cell_type": "code",
   "execution_count": 1,
   "metadata": {},
   "outputs": [],
   "source": [
    "import re\n",
    "import json\n",
    "import pandas as pd"
   ]
  },
  {
   "cell_type": "code",
   "execution_count": 2,
   "metadata": {},
   "outputs": [],
   "source": [
    "# Read in property data\n",
    "with open('../data/raw/properties_dict.json', 'r') as f:\n",
    "    properties_dict = json.load(f)\n",
    "data = [(d['postcode'], d['price']) for d in properties_dict.values()]\n",
    "data = pd.DataFrame(data, columns=['postcode', 'price'])\n",
    "\n",
    "def process_price(text):\n",
    "    '''This function takes in price in text form, and return price in right form'''\n",
    "    price = re.findall(r'@?\\$\\d+(?:.\\d+)?', text.replace(',', ''))\n",
    "    if len(price) == 0:\n",
    "        price = re.findall(r'@?\\d+(?:.\\d+)?', text.replace(',', ''))\n",
    "    if len(price) > 0:\n",
    "        out = price[0]\n",
    "        if out[0] == '$':\n",
    "            out = float(out[1:])\n",
    "        else:\n",
    "            try:\n",
    "                out = float(out)\n",
    "            except ValueError:\n",
    "                out = ''\n",
    "    else:\n",
    "        out = ''\n",
    "    return out\n",
    "\n",
    "def get_freq(text):\n",
    "    \n",
    "    text = text.lower()\n",
    "    if re.search(r\"week[ly]?|wk|p/?w\", text) is not None:\n",
    "        out = 'week'\n",
    "    elif re.search(r\"month[ly]?|p/?m\", text) is not None:\n",
    "        out = 'month'\n",
    "    # elif 'annum' in text or ' pa' in text:\n",
    "    elif re.search(r\"\\bannum|p\\.?a\\.?\\b|annually|year\", text) is not None:\n",
    "        out = 'year'\n",
    "    else:\n",
    "        out = 'week'\n",
    "    return out\n",
    "\n",
    "data['freq'] = data.price.apply(get_freq)\n",
    "data['processed_price'] = data.price.apply(process_price)\n",
    "data = data[data.processed_price != '']\n",
    "data.loc[data.freq == 'unk', 'freq'] = 'week'\n",
    "\n",
    "data.loc[data.freq == 'month', 'processed_price'] = data.loc[data.freq == 'month', 'processed_price'] * 12 / 52\n",
    "data.loc[data.freq == 'year', 'processed_price'] = data.loc[data.freq == 'year', 'processed_price'] / 52\n",
    "\n",
    "data.drop([2164], inplace=True)\n",
    "data = data[data.processed_price > 10]"
   ]
  },
  {
   "cell_type": "code",
   "execution_count": 4,
   "metadata": {},
   "outputs": [],
   "source": [
    "# Calculate the mean price in each postcode\n",
    "mean_price = data.groupby('postcode').processed_price.mean()\n",
    "mean_price.to_csv('../data/curated/mean_price_per_week.csv')"
   ]
  },
  {
   "cell_type": "code",
   "execution_count": 5,
   "metadata": {},
   "outputs": [],
   "source": []
  }
 ],
 "metadata": {
  "kernelspec": {
   "display_name": "Python 3 (ipykernel)",
   "language": "python",
   "name": "python3"
  },
  "language_info": {
   "codemirror_mode": {
    "name": "ipython",
    "version": 3
   },
   "file_extension": ".py",
   "mimetype": "text/x-python",
   "name": "python",
   "nbconvert_exporter": "python",
   "pygments_lexer": "ipython3",
   "version": "3.9.12"
  },
  "vscode": {
   "interpreter": {
    "hash": "f1e7dfa4028ecbdedcddc863972528864aea52c12c7614bc4f4c47ec76e77350"
   }
  }
 },
 "nbformat": 4,
 "nbformat_minor": 4
}
