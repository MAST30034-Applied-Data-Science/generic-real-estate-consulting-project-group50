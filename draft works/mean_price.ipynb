{
 "cells": [
  {
   "cell_type": "code",
   "execution_count": 14,
   "metadata": {},
   "outputs": [],
   "source": [
    "import re\n",
    "import json\n",
    "import pandas as pd"
   ]
  },
  {
   "cell_type": "code",
   "execution_count": 219,
   "metadata": {},
   "outputs": [],
   "source": [
    "with open('properties_dict.json', 'r') as f:\n",
    "    properties_dict = json.load(f)\n",
    "data = [(d['postcode'], d['price']) for d in properties_dict.values()]\n",
    "data = pd.DataFrame(data, columns=['postcode', 'price'])\n",
    "\n",
    "def process_price(text):\n",
    "    price = re.findall(r'@?\\$\\d+(?:.\\d+)?', text.replace(',', ''))\n",
    "    if len(price) == 0:\n",
    "        price = re.findall(r'@?\\d+(?:.\\d+)?', text.replace(',', ''))\n",
    "    if len(price) > 0:\n",
    "        out = price[0]\n",
    "        if out[0] == '$':\n",
    "            out = float(out[1:])\n",
    "        else:\n",
    "            try:\n",
    "                out = float(out)\n",
    "            except ValueError:\n",
    "                out = ''\n",
    "    else:\n",
    "        out = ''\n",
    "    return out\n",
    "\n",
    "def get_freq(text):\n",
    "    text = text.lower()\n",
    "    if re.search(r\"week[ly]?|wk|p/?w\", text) is not None:\n",
    "        out = 'week'\n",
    "    elif re.search(r\"month[ly]?|p/?m\", text) is not None:\n",
    "        out = 'month'\n",
    "    # elif 'annum' in text or ' pa' in text:\n",
    "    elif re.search(r\"\\bannum|p\\.?a\\.?\\b|annually|year\", text) is not None:\n",
    "        out = 'year'\n",
    "    else:\n",
    "        out = 'week'\n",
    "    return out\n",
    "\n",
    "data['freq'] = data.price.apply(get_freq)\n",
    "data['processed_price'] = data.price.apply(process_price)\n",
    "data = data[data.processed_price != '']\n",
    "data.loc[data.freq == 'unk', 'freq'] = 'week'\n",
    "\n",
    "data.loc[data.freq == 'month', 'processed_price'] = data.loc[data.freq == 'month', 'processed_price'] * 12 / 52\n",
    "data.loc[data.freq == 'year', 'processed_price'] = data.loc[data.freq == 'year', 'processed_price'] / 52\n",
    "\n",
    "data.drop([2164], inplace=True)\n",
    "data = data[data.processed_price > 10]"
   ]
  },
  {
   "cell_type": "code",
   "execution_count": 224,
   "metadata": {},
   "outputs": [],
   "source": [
    "mean_price = data.groupby('postcode').processed_price.mean()"
   ]
  },
  {
   "cell_type": "code",
   "execution_count": 226,
   "metadata": {},
   "outputs": [],
   "source": [
    "mean_price.to_csv('mean_price_per_week.csv')"
   ]
  }
 ],
 "metadata": {
  "kernelspec": {
   "display_name": "Python 3.9.13 (conda)",
   "language": "python",
   "name": "python3"
  },
  "language_info": {
   "codemirror_mode": {
    "name": "ipython",
    "version": 3
   },
   "file_extension": ".py",
   "mimetype": "text/x-python",
   "name": "python",
   "nbconvert_exporter": "python",
   "pygments_lexer": "ipython3",
   "version": "3.9.13"
  },
  "orig_nbformat": 4,
  "vscode": {
   "interpreter": {
    "hash": "4e8444348901a7044753b9d9c6fdd635d3680578abdde989f9aa023de316f3db"
   }
  }
 },
 "nbformat": 4,
 "nbformat_minor": 2
}
