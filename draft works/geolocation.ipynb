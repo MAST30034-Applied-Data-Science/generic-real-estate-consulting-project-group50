{
 "cells": [
  {
   "cell_type": "code",
   "execution_count": 2,
   "metadata": {},
   "outputs": [
    {
     "ename": "ModuleNotFoundError",
     "evalue": "No module named 'requests'",
     "output_type": "error",
     "traceback": [
      "\u001b[0;31m---------------------------------------------------------------------------\u001b[0m",
      "\u001b[0;31mModuleNotFoundError\u001b[0m                       Traceback (most recent call last)",
      "Cell \u001b[0;32mIn [2], line 3\u001b[0m\n\u001b[1;32m      1\u001b[0m \u001b[38;5;28;01mimport\u001b[39;00m \u001b[38;5;21;01mos\u001b[39;00m\n\u001b[1;32m      2\u001b[0m \u001b[38;5;28;01mimport\u001b[39;00m \u001b[38;5;21;01murllib\u001b[39;00m\n\u001b[0;32m----> 3\u001b[0m \u001b[38;5;28;01mimport\u001b[39;00m \u001b[38;5;21;01mrequests\u001b[39;00m\n\u001b[1;32m      4\u001b[0m \u001b[38;5;28;01mimport\u001b[39;00m \u001b[38;5;21;01mjson\u001b[39;00m\n\u001b[1;32m      5\u001b[0m \u001b[38;5;66;03m# 导入 csv 库\u001b[39;00m\n",
      "\u001b[0;31mModuleNotFoundError\u001b[0m: No module named 'requests'"
     ]
    }
   ],
   "source": [
    "import os\n",
    "import urllib\n",
    "import requests\n",
    "import json\n",
    "# 导入 csv 库\n",
    "import csv\n",
    "\n",
    "data_list = []\n",
    "header_list = [\"\", \"Hospital ID\", \"Formal Name\", \"Other Name\", \"Emergency Capable\", \"Location Address\", \"Suburb\",\n",
    "               \"Postcode\", \"Access Point\", \"Category\", \"Agency Type\", \"longitude\", \"latitude\", \"Latitude and longitude\"]\n",
    "jw_list = []\n",
    "# 百度地图接口\n",
    "key = 't1K85V8AGd9oVg5ZuniGO0Mtly3B66or'  # 百度地图api\n",
    "\n",
    "with open(\"../data/raw/hospital.csv\", mode=\"r\", encoding=\"utf-8-sig\") as f:\n",
    "    # 基于打开的文件，创建csv.reader实例\n",
    "    reader = csv.reader(f)\n",
    "    header = next(reader)\n",
    "    for row in reader:\n",
    "        address = row[5] + ',' + row[6] + ',Australia'\n",
    "        print(address)\n",
    "        url = 'https://api.map.baidu.com/geocoding/v3/?{}&output=json&ak={}'.format(\n",
    "            urllib.parse.urlencode({'address': address}), key)\n",
    "        res = requests.get(url)\n",
    "        res.encoding = 'UTF-8'\n",
    "        # API返回的是JSON类型的数据\n",
    "        json_data = json.loads(res.text)\n",
    "        result = json_data['result']\n",
    "        geo = result['location']  # 解析提取JSON数据\n",
    "        longitude = geo['lng']\n",
    "        latitude = geo['lat']\n",
    "        jw_list = [row[0], row[1], row[2], row[3], row[4], row[5], row[6], row[7], row[8], row[9], row[10], longitude,\n",
    "                   latitude, str(longitude) + \",\" + str(latitude)]\n",
    "        data_list.append(jw_list)\n",
    "        print(\"经度:\" + str(longitude), \"纬度:\" + str(latitude))\n",
    "\n",
    "# 以写方式打开文件。注意添加 newline=\"\"，否则会在两行数据之间都插入一行空白。\n",
    "with open(\"../data/raw/hospital_new.csv\", mode=\"w\", encoding=\"utf-8-sig\", newline=\"\") as f:\n",
    "    # 基于打开的文件，创建 csv.writer 实例\n",
    "    writer = csv.writer(f)\n",
    "\n",
    "    # 写入 header。\n",
    "    # writerow() 一次只能写入一行。\n",
    "    writer.writerow(header_list)\n",
    "\n",
    "    # 写入数据。\n",
    "    # writerows() 一次写入多行。\n",
    "    writer.writerows(data_list)\n",
    "\n",
    "os.system(\"pause\")\n"
   ]
  },
  {
   "cell_type": "code",
   "execution_count": 3,
   "metadata": {},
   "outputs": [
    {
     "name": "stdout",
     "output_type": "stream",
     "text": [
      "Defaulting to user installation because normal site-packages is not writeable\n",
      "Collecting requests\n",
      "  Downloading requests-2.28.1-py3-none-any.whl (62 kB)\n",
      "\u001b[K     |████████████████████████████████| 62 kB 2.0 MB/s  eta 0:00:01\n",
      "\u001b[?25hCollecting idna<4,>=2.5\n",
      "  Downloading idna-3.4-py3-none-any.whl (61 kB)\n",
      "\u001b[K     |████████████████████████████████| 61 kB 308 kB/s  eta 0:00:01\n",
      "\u001b[?25hCollecting certifi>=2017.4.17\n",
      "  Downloading certifi-2022.6.15.2-py3-none-any.whl (160 kB)\n",
      "\u001b[K     |████████████████████████████████| 160 kB 3.4 MB/s eta 0:00:01\n",
      "\u001b[?25hCollecting urllib3<1.27,>=1.21.1\n",
      "  Downloading urllib3-1.26.12-py2.py3-none-any.whl (140 kB)\n",
      "\u001b[K     |████████████████████████████████| 140 kB 13.7 MB/s eta 0:00:01\n",
      "\u001b[?25hCollecting charset-normalizer<3,>=2\n",
      "  Downloading charset_normalizer-2.1.1-py3-none-any.whl (39 kB)\n",
      "Installing collected packages: idna, certifi, urllib3, charset-normalizer, requests\n",
      "\u001b[33m  WARNING: The script normalizer is installed in '/Users/keruwu/Library/Python/3.8/bin' which is not on PATH.\n",
      "  Consider adding this directory to PATH or, if you prefer to suppress this warning, use --no-warn-script-location.\u001b[0m\n",
      "Successfully installed certifi-2022.6.15.2 charset-normalizer-2.1.1 idna-3.4 requests-2.28.1 urllib3-1.26.12\n",
      "\u001b[33mWARNING: You are using pip version 20.2.3; however, version 22.2.2 is available.\n",
      "You should consider upgrading via the '/Library/Developer/CommandLineTools/usr/bin/python3 -m pip install --upgrade pip' command.\u001b[0m\n",
      "Note: you may need to restart the kernel to use updated packages.\n"
     ]
    }
   ],
   "source": [
    "pip install requests"
   ]
  },
  {
   "cell_type": "code",
   "execution_count": 7,
   "metadata": {},
   "outputs": [
    {
     "name": "stdout",
     "output_type": "stream",
     "text": [
      "200 OK\n",
      "{\"routes\":[{\"summary\":{\"distance\":1602.4,\"duration\":267.0},\"segments\":[{\"distance\":1602.4,\"duration\":267.0,\"steps\":[{\"distance\":1.9,\"duration\":0.5,\"type\":11,\"instruction\":\"Head west on Gerhart-Hauptmann-Straße\",\"name\":\"Gerhart-Hauptmann-Straße\",\"way_points\":[0,1]},{\"distance\":314.0,\"duration\":75.4,\"type\":3,\"instruction\":\"Turn sharp right onto Wielandtstraße\",\"name\":\"Wielandtstraße\",\"way_points\":[1,11]},{\"distance\":737.6,\"duration\":106.2,\"type\":1,\"instruction\":\"Turn right onto Mönchhofstraße\",\"name\":\"Mönchhofstraße\",\"way_points\":[11,39]},{\"distance\":418.2,\"duration\":53.6,\"type\":0,\"instruction\":\"Turn left onto Handschuhsheimer Landstraße, B 3\",\"name\":\"Handschuhsheimer Landstraße, B 3\",\"way_points\":[39,60]},{\"distance\":130.8,\"duration\":31.4,\"type\":0,\"instruction\":\"Turn left onto Roonstraße\",\"name\":\"Roonstraße\",\"way_points\":[60,63]},{\"distance\":0.0,\"duration\":0.0,\"type\":10,\"instruction\":\"Arrive at Roonstraße, straight ahead\",\"name\":\"-\",\"way_points\":[63,63]}]}],\"bbox\":[8.681423,49.414599,8.69198,49.420514],\"geometry\":\"ghrlHkr~s@?DICqELI?IAsCi@ICKAuA_@i@GSA?_@?M?eA?S?W?S@wB@k@?U@{H?MAO?u@?kC?}@BcC?Q?OAmCCkBEoFAu@?M?Qt@oEHu@Ck@?CSFA@OHKJgAlA_AfAUREDC?Q?OBE@qBn@A?ODo@f@KHi@Vq@\\\\mAt@y@f@?BVlELpC\",\"way_points\":[0,63]}],\"bbox\":[8.681423,49.414599,8.69198,49.420514],\"metadata\":{\"attribution\":\"openrouteservice.org | OpenStreetMap contributors\",\"service\":\"routing\",\"timestamp\":1663159096359,\"query\":{\"coordinates\":[[8.681495,49.41461],[8.687872,49.420318]],\"profile\":\"driving-car\",\"format\":\"json\"},\"engine\":{\"version\":\"6.7.0\",\"build_date\":\"2022-02-18T19:37:41Z\",\"graph_date\":\"2022-09-04T14:30:21Z\"}}}\n"
     ]
    }
   ],
   "source": [
    "import requests\n",
    "\n",
    "body = {\"coordinates\":[[8.681495,49.41461],[8.687872,49.420318]]}\n",
    "\n",
    "headers = {\n",
    "    'Accept': 'application/json, application/geo+json, application/gpx+xml, img/png; charset=utf-8',\n",
    "    'Authorization': '5b3ce3597851110001cf624829d6bf9a761649028e0a0dba7be63414',\n",
    "    'Content-Type': 'application/json; charset=utf-8'\n",
    "}\n",
    "call = requests.post('https://api.openrouteservice.org/v2/directions/driving-car', json=body, headers=headers)\n",
    "\n",
    "print(call.status_code, call.reason)\n",
    "print(call.text)"
   ]
  }
 ],
 "metadata": {
  "kernelspec": {
   "display_name": "Python 3.8.9 64-bit",
   "language": "python",
   "name": "python3"
  },
  "language_info": {
   "codemirror_mode": {
    "name": "ipython",
    "version": 3
   },
   "file_extension": ".py",
   "mimetype": "text/x-python",
   "name": "python",
   "nbconvert_exporter": "python",
   "pygments_lexer": "ipython3",
   "version": "3.8.9"
  },
  "orig_nbformat": 4,
  "vscode": {
   "interpreter": {
    "hash": "31f2aee4e71d21fbe5cf8b01ff0e069b9275f58929596ceb00d14d90e3e16cd6"
   }
  }
 },
 "nbformat": 4,
 "nbformat_minor": 2
}
