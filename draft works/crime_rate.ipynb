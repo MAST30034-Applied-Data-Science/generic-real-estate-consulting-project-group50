{
 "cells": [
  {
   "cell_type": "code",
   "execution_count": 41,
   "metadata": {},
   "outputs": [],
   "source": [
    "import pandas as pd\n",
    "\n",
    "crime_rate = pd.read_csv('../data/raw/crime_LGA.csv')\n",
    "\n",
    "crime_rate = crime_rate[crime_rate['Year'] == 2021]\n",
    "\n",
    "crime_rate = crime_rate[['Postcode', 'Offence Count']]\n",
    "\n",
    "crime_rate['Offence Count'] = crime_rate['Offence Count'].str.replace(',', '').astype(int)\n",
    "\n",
    "crime_rate = crime_rate.groupby('Postcode').sum()\n",
    "\n",
    "crime_rate.to_csv('../data/curated/crime.csv')\n"
   ]
  }
 ],
 "metadata": {
  "kernelspec": {
   "display_name": "Python 3.8.13 ('ads')",
   "language": "python",
   "name": "python3"
  },
  "language_info": {
   "codemirror_mode": {
    "name": "ipython",
    "version": 3
   },
   "file_extension": ".py",
   "mimetype": "text/x-python",
   "name": "python",
   "nbconvert_exporter": "python",
   "pygments_lexer": "ipython3",
   "version": "3.8.13"
  },
  "orig_nbformat": 4,
  "vscode": {
   "interpreter": {
    "hash": "f1e7dfa4028ecbdedcddc863972528864aea52c12c7614bc4f4c47ec76e77350"
   }
  }
 },
 "nbformat": 4,
 "nbformat_minor": 2
}
