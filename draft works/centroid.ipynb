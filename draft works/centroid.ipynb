{
 "cells": [
  {
   "cell_type": "code",
   "execution_count": 60,
   "metadata": {},
   "outputs": [
    {
     "data": {
      "text/plain": [
       "('Longtitude and latitude is', 144.907953, -37.807101)"
      ]
     },
     "execution_count": 60,
     "metadata": {},
     "output_type": "execute_result"
    }
   ],
   "source": [
    "import pandas as pd\n",
    "postcode = 3011\n",
    "def centroid(postcode):\n",
    "    df = pd.read_csv('../data/raw/australian_postcodes(1).csv')\n",
    "    df = df[['postcode','locality','state','long','lat']]\n",
    "    df = df[df.state.isin(['VIC'])]\n",
    "    for index, row in df.iterrows():\n",
    "        if row['postcode'] == postcode:\n",
    "            return \"Longtitude and latitude is\", row['long'], row['lat']\n",
    "\n",
    "centroid(postcode)"
   ]
  },
  {
   "cell_type": "code",
   "execution_count": 48,
   "metadata": {},
   "outputs": [],
   "source": [
    "df.to_csv('../data/curated/new_australian_postcodes.csv')  "
   ]
  },
  {
   "cell_type": "code",
   "execution_count": null,
   "metadata": {},
   "outputs": [],
   "source": []
  }
 ],
 "metadata": {
  "kernelspec": {
   "display_name": "Python 3 (ipykernel)",
   "language": "python",
   "name": "python3"
  },
  "language_info": {
   "codemirror_mode": {
    "name": "ipython",
    "version": 3
   },
   "file_extension": ".py",
   "mimetype": "text/x-python",
   "name": "python",
   "nbconvert_exporter": "python",
   "pygments_lexer": "ipython3",
   "version": "3.9.12"
  },
  "vscode": {
   "interpreter": {
    "hash": "f1e7dfa4028ecbdedcddc863972528864aea52c12c7614bc4f4c47ec76e77350"
   }
  }
 },
 "nbformat": 4,
 "nbformat_minor": 4
}
