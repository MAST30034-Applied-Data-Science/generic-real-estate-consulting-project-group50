{
 "cells": [
  {
   "cell_type": "code",
   "execution_count": 18,
   "metadata": {},
   "outputs": [
    {
     "name": "stdout",
     "output_type": "stream",
     "text": [
      "The latitude of this suburb is: 39.38314814689647\n",
      "The longitude of this suburb is: -76.55184543372084\n"
     ]
    }
   ],
   "source": [
    "import requests\n",
    "suburb_name = 'parkville'\n",
    "def centroid(suburb_name):\n",
    "    if ' ' in suburb_name:\n",
    "        suburb_name = suburb_name.replace(' ','%20')\n",
    "    \n",
    "    url_first_part = 'https://geokeo.com/geocode/v1/search.php?q='\n",
    "    url_last_part = '&api=bf2426d6db60a128311404158d509623'\n",
    "    url = url_first_part + suburb_name + url_last_part\n",
    "    resp = requests.get(url=url)\n",
    "    data = resp.json()\n",
    "    if 'status' in data:\n",
    "        if data['status']=='ok':\n",
    "            address=data['results'][0]['formatted_address']\n",
    "            latitude=data['results'][0]['geometry']['location']['lat']\n",
    "            longitude=data['results'][0]['geometry']['location']['lng']\n",
    "            print(\"The latitude of this suburb is:\",latitude)\n",
    "            print(\"The longitude of this suburb is:\",longitude)\n",
    "            #do something with the data\n",
    "    return\n",
    "\n",
    "centroid(suburb_name)\n"
   ]
  }
 ],
 "metadata": {
  "kernelspec": {
   "display_name": "Python 3.8.9 64-bit",
   "language": "python",
   "name": "python3"
  },
  "language_info": {
   "codemirror_mode": {
    "name": "ipython",
    "version": 3
   },
   "file_extension": ".py",
   "mimetype": "text/x-python",
   "name": "python",
   "nbconvert_exporter": "python",
   "pygments_lexer": "ipython3",
   "version": "3.8.9"
  },
  "orig_nbformat": 4,
  "vscode": {
   "interpreter": {
    "hash": "31f2aee4e71d21fbe5cf8b01ff0e069b9275f58929596ceb00d14d90e3e16cd6"
   }
  }
 },
 "nbformat": 4,
 "nbformat_minor": 2
}
