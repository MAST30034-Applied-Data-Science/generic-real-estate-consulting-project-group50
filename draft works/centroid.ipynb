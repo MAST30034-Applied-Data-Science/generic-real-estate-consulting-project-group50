{
 "cells": [
  {
   "cell_type": "code",
   "execution_count": 6,
   "metadata": {},
   "outputs": [
    {
     "name": "stdout",
     "output_type": "stream",
     "text": [
      "The address of the suburb is: Parkville,Victoria,3052,Australia\n",
      "The latitude of this suburb is: -37.78684730133575\n",
      "The longitude of this suburb is: 144.95130069542256\n"
     ]
    }
   ],
   "source": [
    "import requests\n",
    "\n",
    "#input the suburb name and the postcode\n",
    "suburb_name = 'Parkville'\n",
    "postcode = '3052'\n",
    "\n",
    "def centroid(suburb_name, postcode):\n",
    "    '''This fucntion takes suburb name and postcode, it would returns the latitude/longtitude and address of the suburb'''\n",
    "\n",
    "    #Convert the suburb name, ready for adding the suburb name into url\n",
    "    if ' ' in suburb_name:\n",
    "        suburb = suburb_name.replace(' ','%20')\n",
    "    else:\n",
    "        suburb = suburb_name\n",
    "    \n",
    "    #Form searching url for each suburb \n",
    "    url_first_part = 'https://geokeo.com/geocode/v1/search.php?q='\n",
    "    url_last_part = '&api=bf2426d6db60a128311404158d509623&country=au'\n",
    "    url = url_first_part + suburb + url_last_part\n",
    "    resp = requests.get(url=url)\n",
    "    data = resp.json()\n",
    "\n",
    "    #Select the right address result from the resukts list\n",
    "    if 'status' in data:\n",
    "        if data['status'] == 'ok':\n",
    "            for positions in data['results']:\n",
    "                address = positions['formatted_address']\n",
    "                if address == suburb_name + \",\" + \"Victoria,\" + postcode + \",\" + \"Australia\":\n",
    "                    latitude = positions['geometry']['location']['lat']\n",
    "                    longitude = positions['geometry']['location']['lng']\n",
    "                    print(\"The address of the suburb is:\", address)\n",
    "                    print(\"The latitude of this suburb is:\",latitude)\n",
    "                    print(\"The longitude of this suburb is:\",longitude)\n",
    "\n",
    "    return\n",
    "\n",
    "\n",
    "#call the function\n",
    "centroid(suburb_name,postcode)\n"
   ]
  }
 ],
 "metadata": {
  "kernelspec": {
   "display_name": "Python 3.8.13 ('ads')",
   "language": "python",
   "name": "python3"
  },
  "language_info": {
   "codemirror_mode": {
    "name": "ipython",
    "version": 3
   },
   "file_extension": ".py",
   "mimetype": "text/x-python",
   "name": "python",
   "nbconvert_exporter": "python",
   "pygments_lexer": "ipython3",
   "version": "3.8.13"
  },
  "orig_nbformat": 4,
  "vscode": {
   "interpreter": {
    "hash": "f1e7dfa4028ecbdedcddc863972528864aea52c12c7614bc4f4c47ec76e77350"
   }
  }
 },
 "nbformat": 4,
 "nbformat_minor": 2
}
