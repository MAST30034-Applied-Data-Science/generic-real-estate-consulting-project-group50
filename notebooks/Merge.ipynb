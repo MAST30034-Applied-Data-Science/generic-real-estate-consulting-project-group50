{
 "cells": [
  {
   "cell_type": "code",
   "execution_count": 37,
   "id": "393e0815",
   "metadata": {},
   "outputs": [],
   "source": [
    "import pandas as pd"
   ]
  },
  {
   "cell_type": "code",
   "execution_count": 38,
   "id": "d071903b",
   "metadata": {},
   "outputs": [],
   "source": [
    "# Read in all the data that need to be merge\n",
    "property_data = pd.read_csv(\"../data/curated/processed_domain_data.csv\")\n",
    "hospital_data = pd.read_csv(\"../data/curated/closest_hospital.csv\")\n",
    "school_data = pd.read_csv(\"../data/curated/closest_school.csv\")\n",
    "population_data = pd.read_csv(\"../data/curated/predicted_population.csv\")\n",
    "crime_data = pd.read_csv(\"../data/curated/crime.csv\")\n",
    "bus_data = pd.read_csv(\"../data/curated/closest_bus_station.csv\")\n",
    "shopping_center_data = pd.read_csv(\"../data/curated/closest_shopping_center.csv\")\n",
    "income_data = pd.read_csv(\"../data/curated/predict_income.csv\")\n",
    "count = pd.read_csv('../data/curated/count.csv')\n",
    "property_data.columns = ['Unnamed: 0', 'address','Postcode', 'bedrooms', 'baths', 'parking', 'property_type', 'property_features', 'freq', 'processed_price']"
   ]
  },
  {
   "cell_type": "code",
   "execution_count": 39,
   "id": "f4fe429d",
   "metadata": {},
   "outputs": [],
   "source": [
    "# Remove the unit and select needed columns\n",
    "hospital_data['Duration'] = hospital_data['Duration'].map(lambda x:x.rstrip(' mins'))\n",
    "income_data = income_data[[\"Postcode\", \"2022\"]]\n",
    "bus_data['Duration'] = bus_data['Duration'].map(lambda x:x.rstrip(' mins'))\n",
    "bus_data['Distance'] = bus_data['Distance'].map(lambda x:x.rstrip(' km'))\n",
    "school_data['Duration'] = school_data['Duration'].map(lambda x:x.rstrip(' mins'))\n",
    "shopping_center_data['Duration'] = shopping_center_data['Duration'].map(lambda x:x.rstrip(' mins'))\n",
    "shopping_center_data = shopping_center_data[['Postcode','Centroid','Shopping_Center_Name','Location','Distance','Duration']]\n",
    "shopping_center_data.columns = ['Postcode','Centroid_shop','Shopping_Center_Name','Location_shop','Distance_shop','Duration_shop']\n",
    "population_data = population_data[['Postcode', '2022']]"
   ]
  },
  {
   "cell_type": "code",
   "execution_count": 40,
   "id": "eb5bfe7d",
   "metadata": {},
   "outputs": [
    {
     "name": "stderr",
     "output_type": "stream",
     "text": [
      "/var/folders/t7/dnx7ygys43vfq00ddy255g680000gn/T/ipykernel_88878/3781006514.py:6: FutureWarning: Passing 'suffixes' which cause duplicate columns {'Unnamed: 0_x'} in the result is deprecated and will raise a MergeError in a future version.\n",
      "  complete_data = complete_data.merge(bus_data, how='left', on='Postcode')\n"
     ]
    }
   ],
   "source": [
    "# Merge all the external features data to the main property data\n",
    "complete_data = property_data.merge(hospital_data, how='left', on='Postcode')\n",
    "complete_data = complete_data.merge(school_data, how='left', on='Postcode')\n",
    "complete_data = complete_data.merge(population_data, how='left', on='Postcode')\n",
    "complete_data = complete_data.merge(crime_data, how='left', on='Postcode')\n",
    "complete_data = complete_data.merge(bus_data, how='left', on='Postcode')\n",
    "complete_data = complete_data.merge(shopping_center_data, how='left', on='Postcode')\n",
    "complete_data = complete_data.merge(income_data, how='left', on='Postcode')\n",
    "complete_data = complete_data.merge(count, how='left', on='Postcode')"
   ]
  },
  {
   "cell_type": "code",
   "execution_count": 41,
   "id": "2473ad1d-4022-4132-a1d7-b0e997dbb757",
   "metadata": {},
   "outputs": [],
   "source": [
    "# Save the data\n",
    "complete_data.to_csv('../data/curated/complete_data.csv')"
   ]
  },
  {
   "cell_type": "code",
   "execution_count": 42,
   "id": "c0187d8d",
   "metadata": {},
   "outputs": [],
   "source": [
    "# Preprocess all the null values\n",
    "complete_data['Count_Hospital'] = complete_data['Count_Hospital'].fillna(0)\n",
    "complete_data['Count_School'] = complete_data['Count_School'].fillna(0)\n",
    "complete_data['Count_Station'] = complete_data['Count_Station'].fillna(0)\n",
    "complete_data['Count_Shopping_Center'] = complete_data['Count_Shopping_Center'].fillna(0)\n",
    "complete_data = complete_data.drop_duplicates()\n"
   ]
  },
  {
   "cell_type": "code",
   "execution_count": 43,
   "id": "7cb9a447-3b18-4899-ab7e-e0c968ec36ff",
   "metadata": {},
   "outputs": [],
   "source": [
    "# Select needed columns\n",
    "complete_data = complete_data[[\"Postcode\", \"address\", \"bedrooms\", \"baths\", \"parking\", \n",
    "                               \"property_type\", \"property_features\", \"processed_price\", \n",
    "                               \"Formal Name\", \"Distance_x\", \"Duration_x\", \n",
    "                               \"School_Name\", \"Distance_y\", \"Duration_y\", \n",
    "                               \"2022_x\", \"Offence Count\", \n",
    "                               \"Bus_Station_Name\", \"Distance\", \"Duration\",\n",
    "                               \"Shopping_Center_Name\", \"Distance_shop\", \"Duration_shop\",\n",
    "                               \"2022_y\", \"Count_Station\", \"Count_Hospital\", \"Count_School\", \"Count_Shopping_Center\"]]\n"
   ]
  },
  {
   "cell_type": "code",
   "execution_count": 44,
   "id": "d9ea723f-8582-42da-8427-b85e2057bd75",
   "metadata": {},
   "outputs": [],
   "source": [
    "# Change the name\n",
    "complete_data.columns = [\"Postcode\", \"Property Address\", \"Bedrooms\", \"Baths\", \"Parking\", \n",
    "                         \"property_type\", \"Property Features\",\"Weekly Rental Price\", \n",
    "                         \"Health Instituion\", \"Health Distance\", \"Health Duration\", \n",
    "                         \"School Name\", \"School Distance\", \"School Duration\", \n",
    "                         \"Population\", \"Crime Count\", \n",
    "                         \"Bus Station\", \"Bus Distance\", \"Bus Duration\",\n",
    "                         \"Shopping_Center_Name\", \"Shop Distance\", \"Shop Duration\", \n",
    "                         \"Income\", \"Count_Station\", \"Count_Hospital\", \"Count_School\", \"Count_Shopping_Center\"]\n",
    "                "
   ]
  },
  {
   "cell_type": "code",
   "execution_count": 45,
   "id": "f01c07a4-e820-4c99-b77d-8a37e5f24bb6",
   "metadata": {},
   "outputs": [],
   "source": [
    "# Save the data\n",
    "complete_data.to_csv('../data/curated/complete_data.csv')"
   ]
  },
  {
   "cell_type": "code",
   "execution_count": 46,
   "id": "892e7c66-b1b2-4150-9c18-edb6d9162c59",
   "metadata": {},
   "outputs": [],
   "source": [
    "# Prepare data to evaluate liveability\n",
    "liveable = complete_data[[\"Postcode\", \"Crime Count\", \"Income\", \"Weekly Rental Price\", \"Population\",\n",
    "                          \"Count_Station\", \"Count_Hospital\", \"Count_School\", \"Count_Shopping_Center\"]]"
   ]
  },
  {
   "cell_type": "code",
   "execution_count": 47,
   "id": "99252881-73d9-4eec-b680-18a0105939d9",
   "metadata": {},
   "outputs": [],
   "source": [
    "# Save the data\n",
    "liveable.to_csv('../data/curated/liveable.csv')"
   ]
  },
  {
   "cell_type": "code",
   "execution_count": null,
   "id": "5871429d-d4f5-458a-8daa-77a94d97e8db",
   "metadata": {},
   "outputs": [],
   "source": []
  }
 ],
 "metadata": {
  "kernelspec": {
   "display_name": "Python 3 (ipykernel)",
   "language": "python",
   "name": "python3"
  },
  "language_info": {
   "codemirror_mode": {
    "name": "ipython",
    "version": 3
   },
   "file_extension": ".py",
   "mimetype": "text/x-python",
   "name": "python",
   "nbconvert_exporter": "python",
   "pygments_lexer": "ipython3",
   "version": "3.9.12"
  },
  "vscode": {
   "interpreter": {
    "hash": "f1e7dfa4028ecbdedcddc863972528864aea52c12c7614bc4f4c47ec76e77350"
   }
  }
 },
 "nbformat": 4,
 "nbformat_minor": 5
}
