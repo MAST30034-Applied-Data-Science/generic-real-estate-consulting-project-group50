{
 "cells": [
  {
   "cell_type": "markdown",
   "metadata": {},
   "source": [
    "# Real Estate Industry Project"
   ]
  },
  {
   "cell_type": "markdown",
   "metadata": {},
   "source": [
    "## Introduction"
   ]
  },
  {
   "cell_type": "markdown",
   "metadata": {},
   "source": [
    "Data science in real estate plays an essential role in helping to leverage the decision-making process. It can be used to analyze economic trends to predict real estate performance. Our goal is to find the most important features of residential properties, predict rental prices, and find the most livable and affordable suburbs in victoria with the aid of big data. This notebook is used to summarise our key findings and futher discussions of this project."
   ]
  },
  {
   "cell_type": "markdown",
   "metadata": {},
   "source": [
    "## Data\n",
    "### Internal Data"
   ]
  },
  {
   "cell_type": "markdown",
   "metadata": {},
   "source": [
    "- The number of bedrooms\n",
    "- The number of bathrooms\n",
    "- Parking spaces\n",
    "- Property types (such as apartments/houses)\n",
    "- Property features (such as balcony, garden, and laundry)\n",
    "- Address\n",
    "- Weekly rent\n",
    "\n",
    "The internal data is all scraped from the domain website."
   ]
  },
  {
   "cell_type": "markdown",
   "metadata": {},
   "source": [
    "### External Data"
   ]
  },
  {
   "cell_type": "markdown",
   "metadata": {},
   "source": [
    "- Bus stations\n",
    "- Shopping centers\n",
    "- Crime rate\n",
    "- Population\n",
    "- Hospitals\n",
    "- Schools\n",
    "- Income\n",
    "\n",
    "The external data is all scraped from the reliable websites, including Australia Bureau of Statistics, Crime Statistics Agency, Victoria Government Data Directory, Public Transport Victoria, etc."
   ]
  },
  {
   "cell_type": "markdown",
   "metadata": {},
   "source": [
    "## Data Preprocess and Outlier Detection\n",
    "\n",
    "The original datasets have different classification criteria, such as SA2, LGA, and postcode. We decide to treat postcode as a classification criterion, and a correspondence table is used to unify. Then, each postcode's centroid's latitudes and longitudes are converted. We derive the travel distance and duration from the centroid to the nearest public facilities using API. We only get income data from 2016-2019, so we predict the income for the next six years using the growth rate. Outlier detections are also put into effect. We drop the properties with no bedrooms and bathrooms and weekly rental prices greater than 5000 and fill all the missing values to be 0."
   ]
  },
  {
   "cell_type": "markdown",
   "metadata": {},
   "source": [
    "## Feature Importance / The most important internal and external features in predicting rental prices"
   ]
  },
  {
   "cell_type": "markdown",
   "metadata": {},
   "source": [
    "After retrieving all the internal and external data we required, the first problem we would solve was \"what are the important features in predicting rental prices?\". \n",
    "\n",
    "To answer the first question, we ranked the importance of features by computing the permutation feature importance. The graph shows that the top 5 features are income, number of bathrooms, bedrooms, count shopping centers, and parking spaces. These features will be used later in our models."
   ]
  },
  {
   "cell_type": "markdown",
   "metadata": {},
   "source": [
    "![](../plots/2.jpeg)"
   ]
  },
  {
   "cell_type": "markdown",
   "metadata": {},
   "source": [
    "The three plots show a positive linear relationship between the three internal features and the rental price in general. This indicates that rental prices increase as the size of bedrooms, bathrooms, and parking spaces increase."
   ]
  },
  {
   "cell_type": "markdown",
   "metadata": {},
   "source": [
    "![](../plots/5.png)"
   ]
  },
  {
   "cell_type": "markdown",
   "metadata": {},
   "source": [
    "![](../plots/3.png)"
   ]
  },
  {
   "cell_type": "markdown",
   "metadata": {},
   "source": [
    "![](../plots/4.png)"
   ]
  },
  {
   "cell_type": "markdown",
   "metadata": {},
   "source": [
    "Rent is the feature that mostly depends on income per person in each suburb. These two geomaps show similar distributions of income and rent per week across victoria. It is evident that the regions with high rental prices have a high income to a large extent."
   ]
  },
  {
   "cell_type": "markdown",
   "metadata": {},
   "source": [
    "## Models"
   ]
  },
  {
   "cell_type": "markdown",
   "metadata": {},
   "source": [
    "### Random Forest Regression Model"
   ]
  },
  {
   "cell_type": "markdown",
   "metadata": {},
   "source": [
    "The first model we have chosen is the random forest regression model. Random forest regression is a regression model using ensemble learning methods. A regression model provides a function that describes the relationship between one or more independent\tvariables and a response variable. And ensemble learning is a general meta-approach to machine learning that seeks better predictive performance by combining the predictions from multiple models. So, in the sample way, a random forest regression model combines numerous decision trees."
   ]
  },
  {
   "cell_type": "markdown",
   "metadata": {},
   "source": [
    "We used a random holdout to split the data into two parts that are 70% training set and a 30% testing set. And when we built the model, we did a grid search three times and analyzed the error of cross-validation. We chose the number of trees to be 300, the maximum number of features the model allowed to try in an individual tree to be the square root of the total number of features in an individual run, and the depth of each tree in the forest to be 13. A fixed value of random_state is just to ensure the model gives the same results if given with the same parameters."
   ]
  },
  {
   "cell_type": "markdown",
   "metadata": {},
   "source": [
    "![](../plots/7.png)"
   ]
  },
  {
   "cell_type": "markdown",
   "metadata": {},
   "source": [
    "We calculated the MAE of the random forest regression model and the baseline model which will simply predict the results as the average. However, the results are not competitive. You can see there are still lots of significant gaps between the true value and the predictions. So, we finally decided to use the neural network model."
   ]
  },
  {
   "cell_type": "markdown",
   "metadata": {},
   "source": [
    "![](../plots/8.png)"
   ]
  },
  {
   "cell_type": "markdown",
   "metadata": {},
   "source": [
    "### Neural Network Model"
   ]
  },
  {
   "cell_type": "markdown",
   "metadata": {},
   "source": [
    "A neural network uses data and models to approximate the true underlying function in real life, describing price change behavior and making the best guess from limited resources. Our neural network model is made up of 6 layers. Layers are made up of nodes. Each node is connected to the next layer node. Each connection has a specific weight. Weight is the impact that node has on the next layer node. The computer uses a loss function to evaluate the temporary model's performance. Once it has the results, the optimizer improves the model, and metrics demonstrate the model performance."
   ]
  },
  {
   "cell_type": "markdown",
   "metadata": {},
   "source": [
    "## Findings"
   ]
  },
  {
   "cell_type": "markdown",
   "metadata": {},
   "source": [
    "### Top 10 suburbs with the highest predicted growth rate"
   ]
  },
  {
   "cell_type": "markdown",
   "metadata": {},
   "source": [
    "The growth rate was calculated by the difference between next year's price and the current price over the current price. The rank is sorted by the growth rate in 2023. According to the Geo map below, high-growth suburbs are geographically dispersed, with no specific high-growth region. We also predicted a growth rate in 2024 and 2025. According to the table on the right side, there would be some price fluctuation in the future, but the general price would still be larger than 2022's."
   ]
  },
  {
   "cell_type": "markdown",
   "metadata": {},
   "source": [
    "![](../plots/9.png)"
   ]
  },
  {
   "cell_type": "markdown",
   "metadata": {},
   "source": [
    "![](../plots/10.png)"
   ]
  },
  {
   "cell_type": "markdown",
   "metadata": {},
   "source": [
    "### The most livable and affordable suburbs"
   ]
  },
  {
   "cell_type": "markdown",
   "metadata": {},
   "source": [
    "We would evaluate regions by six factors. Safety level/Rent income ratio / Number of bus stations/school/hospital/ shopping center. Since the crime count is not proportional to the safety level, the safety level was calculated by taking the inverse of the crime count per person. The rent-income ratio is not proportional to affordability, so we would also take the inverse. We believe the safety level is the most important factor to consider when we evaluate liveability, so we would only consider the region with a safety level above the median. Moreover, we define rental percentage over 50% of the income as unaffordable. A radar chart is useful for overall assessment through multivariate data. The final performance ranking was measured by radar plot area."
   ]
  },
  {
   "cell_type": "markdown",
   "metadata": {},
   "source": [
    "Top 1: Brighton"
   ]
  },
  {
   "cell_type": "markdown",
   "metadata": {},
   "source": [
    "![](../plots/a.jpeg)"
   ]
  },
  {
   "cell_type": "markdown",
   "metadata": {},
   "source": [
    "Top 2: Warranwood"
   ]
  },
  {
   "cell_type": "markdown",
   "metadata": {},
   "source": [
    "![](../plots/b.jpeg)"
   ]
  },
  {
   "cell_type": "markdown",
   "metadata": {},
   "source": [
    "Top 3: Briar HillBriar Hill"
   ]
  },
  {
   "cell_type": "markdown",
   "metadata": {},
   "source": [
    "![](../plots/c.jpeg)"
   ]
  },
  {
   "cell_type": "markdown",
   "metadata": {},
   "source": [
    "## Suggestion\n",
    "1. Build an online platform for people to access our findings which help them to make decisions based on our price predictions and surburb liveability rank, creat a website tool that calculates the suburb liveability score by simply entering suburb names.\n",
    "2. Share our findings with real estate developers to help them better assess location for new apartment construction.\n",
    "3. Provide a price appropriate levels evaluation system which helps property owners to better pricing their property in a resonable rent."
   ]
  },
  {
   "cell_type": "markdown",
   "metadata": {},
   "source": [
    "## limitation and Assumption"
   ]
  },
  {
   "cell_type": "markdown",
   "metadata": {},
   "source": [
    "### Limitations\n",
    "1. We do not have enough historical data to train.  \n",
    "2. Because we used one-hot encoding, our neural network model has too many features, which may lead to overfitting. \n",
    "3. We do not have future features of properties.\n",
    "4. Our income prediction may be inaccurate, affecting our price prediction.\n",
    "5. Time series models, such as ARIMA and LSMT would probably produce a better result."
   ]
  },
  {
   "cell_type": "markdown",
   "metadata": {},
   "source": [
    "### Assumptions\n",
    "1. We assumed covid-19 has no impact. \n",
    "2. We assumed property only has three types: home,  townhouse, and apartment. \n",
    "3. We ignored bills and pets allowance.\n",
    "4. We assumed the closest distances are between the postcode centroids and hospitals/schools/bus stations/shopping centers.\n"
   ]
  },
  {
   "cell_type": "code",
   "execution_count": null,
   "metadata": {},
   "outputs": [],
   "source": []
  }
 ],
 "metadata": {
  "kernelspec": {
   "display_name": "Python 3 (ipykernel)",
   "language": "python",
   "name": "python3"
  },
  "language_info": {
   "codemirror_mode": {
    "name": "ipython",
    "version": 3
   },
   "file_extension": ".py",
   "mimetype": "text/x-python",
   "name": "python",
   "nbconvert_exporter": "python",
   "pygments_lexer": "ipython3",
   "version": "3.9.12"
  },
  "vscode": {
   "interpreter": {
    "hash": "414cb9fa04f654c041aa521894d828fe84bbd583e983a01391b145f47fd76182"
   }
  }
 },
 "nbformat": 4,
 "nbformat_minor": 4
}
