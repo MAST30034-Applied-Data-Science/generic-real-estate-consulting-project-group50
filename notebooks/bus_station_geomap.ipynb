{
 "cells": [
  {
   "cell_type": "code",
   "execution_count": null,
   "metadata": {},
   "outputs": [],
   "source": [
    "import pandas as pd\n",
    "import geopandas as gpd\n",
    "\n",
    "# read the shape file\n",
    "sf = gpd.read_file(\"../data/raw/PTV_METRO_BUS_STOP.shp\")\n",
    "\n",
    "sf.head()"
   ]
  },
  {
   "cell_type": "code",
   "execution_count": null,
   "metadata": {},
   "outputs": [],
   "source": [
    "# Convert the geometry shaape to to latitude and longitude\n",
    "sf['geometry'] = sf['geometry'].to_crs(\"+proj=longlat +ellps=WGS84 +datum=WGS84 +no_defs\")\n",
    "sf.head()"
   ]
  },
  {
   "cell_type": "code",
   "execution_count": null,
   "metadata": {},
   "outputs": [],
   "source": [
    "# create a JSON \n",
    "geoJSON = sf['geometry'].to_json()\n",
    "\n",
    "# print the first 300 chars of the json\n",
    "print(geoJSON[:300])"
   ]
  },
  {
   "cell_type": "code",
   "execution_count": null,
   "metadata": {},
   "outputs": [],
   "source": [
    "import folium\n",
    "\n",
    "# plot the aggregated data\n",
    "_map = folium.Map(location=[143.73, -37.56], tiles=\"Stamen Terrain\", zoom_start=10)\n",
    "\n",
    "_map.add_child(folium.Choropleth(\n",
    "    geo_data=geoJSON,\n",
    "    name='choropleth',\n",
    "))\n",
    "\n",
    "_map\n",
    "\n",
    "\n",
    "# save the plot\n",
    "_map.save('../plots/bus_station.html')"
   ]
  },
  {
   "cell_type": "code",
   "execution_count": null,
   "metadata": {},
   "outputs": [],
   "source": [
    "# select the columns needed\n",
    "bus_station = sf[['STOP_NAME', 'LATITUDE', 'LONGITUDE']]\n",
    "\n",
    "bus_station.head()"
   ]
  },
  {
   "cell_type": "code",
   "execution_count": null,
   "metadata": {},
   "outputs": [],
   "source": [
    "from pandas.core.frame import DataFrame\n",
    "\n",
    "# Create new list for later use\n",
    "bus_station_list = []\n",
    "\n",
    "# Loop through the dataframe, add unformation into the list\n",
    "for i in range(0,len(bus_station)):\n",
    "    row = bus_station.iloc[i]\n",
    "    location = str(row[1]) + ', ' + str(row[2])\n",
    "    bus_station_list.append([row[0], location])\n",
    "\n",
    "# Forming new dataframe\n",
    "bus_station_new = DataFrame(data = bus_station_list, columns=['Bus_Station_Name', 'Location'])\n",
    "\n",
    "bus_station_new.head()\n"
   ]
  },
  {
   "cell_type": "code",
   "execution_count": null,
   "metadata": {},
   "outputs": [],
   "source": [
    "pip install geopy"
   ]
  },
  {
   "cell_type": "code",
   "execution_count": null,
   "metadata": {},
   "outputs": [],
   "source": [
    "from geopy.geocoders import Nominatim\n",
    "\n",
    "# create a list to store the bus station name, location and postcode of each bus station\n",
    "postcode_list = []\n",
    "geolocator = Nominatim(user_agent=\"vscode\")\n",
    "\n",
    "# count the number bus stations without postcode\n",
    "count = 0\n",
    "\n",
    "# extract the postcode of each bus station\n",
    "for i in range(0,len(bus_station_new)):\n",
    "    row = bus_station_new.iloc[i]\n",
    "    location = geolocator.reverse(row[1])\n",
    "\n",
    "    # check whether the postcode in the address\n",
    "    if 'postcode' in location.raw['address'].keys():\n",
    "\n",
    "        # get the postcode of the bus station\n",
    "        post = location.raw['address']['postcode']\n",
    "\n",
    "        #store the bus station name, location and postcode of the bus station in the list\n",
    "        postcode_list.append([row[0], row[1], int(post)])\n",
    "        \n",
    "    else:\n",
    "        count += 1\n",
    "\n",
    "# convert the list to a dataframe\n",
    "bus_station_postcode = DataFrame(data = postcode_list, columns=['Bus_Station_Name', 'Location', 'Postcode'])\n",
    "\n",
    "bus_station_postcode.head()"
   ]
  },
  {
   "cell_type": "code",
   "execution_count": null,
   "metadata": {},
   "outputs": [],
   "source": [
    "# save the dataframe\n",
    "bus_station_postcode.to_csv('../data/curated/bus_station_postcode.csv')"
   ]
  }
 ],
 "metadata": {
  "kernelspec": {
   "display_name": "Python 3 (ipykernel)",
   "language": "python",
   "name": "python3"
  },
  "language_info": {
   "codemirror_mode": {
    "name": "ipython",
    "version": 3
   },
   "file_extension": ".py",
   "mimetype": "text/x-python",
   "name": "python",
   "nbconvert_exporter": "python",
   "pygments_lexer": "ipython3",
   "version": "3.8.2"
  },
  "vscode": {
   "interpreter": {
    "hash": "414cb9fa04f654c041aa521894d828fe84bbd583e983a01391b145f47fd76182"
   }
  }
 },
 "nbformat": 4,
 "nbformat_minor": 4
}
