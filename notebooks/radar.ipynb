{
 "cells": [
  {
   "cell_type": "code",
   "execution_count": null,
   "id": "cd6a3280-b09c-4d84-8f5a-8e9f014d0f5d",
   "metadata": {},
   "outputs": [],
   "source": [
    "import pandas as pd\n",
    "import geopandas as gpd\n",
    "import folium\n",
    "import numpy as np\n",
    "import matplotlib.pyplot as plt\n",
    "import math\n",
    "import matplotlib.colors as mcolors\n",
    "import matplotlib.font_manager as font_manager\n",
    "from sklearn import preprocessing\n",
    "from math import pi\n",
    "import shapely.geometry\n",
    "import plotly.graph_objects as go"
   ]
  },
  {
   "cell_type": "code",
   "execution_count": null,
   "id": "cae4558e-b3ac-4314-bc6e-b9b799b9c4d3",
   "metadata": {},
   "outputs": [],
   "source": [
    "# Read in data\n",
    "data = pd.read_csv(\"../data/curated/NNpredi.csv\")\n",
    "\n",
    "# Calculate average rate by postcode and sort the top 10\n",
    "data = data.groupby(by = ['Postcode']).mean()\n",
    "data = data.sort_values(by = ['rate_2023'], ascending = False)\n",
    "data = data.head(10)"
   ]
  },
  {
   "cell_type": "code",
   "execution_count": null,
   "id": "ebfc0513-3406-4760-9b60-df109fe50aaf",
   "metadata": {},
   "outputs": [],
   "source": [
    "# Change postcode column from index to feature columns\n",
    "postcode = [3478, 3318, 3480, 3540, 3755, 3759, 3260, 3273, 3987, 3757]\n",
    "data.insert(0, \"Postcode\", postcode)\n",
    "data.index = [1,2,3,4,5,6,7,8,9,10]"
   ]
  },
  {
   "cell_type": "code",
   "execution_count": null,
   "id": "edf67ce6-906e-4e88-a74f-cf98aec98af4",
   "metadata": {},
   "outputs": [],
   "source": [
    "# read the shape file\n",
    "sf = gpd.read_file(\"../data/raw/POA_2021_AUST_GDA94.shp\")\n",
    "sf = sf.iloc[672:1366]\n",
    "\n",
    "# Convert the geometry shaape to to latitude and longitude\n",
    "sf['geometry'] = sf['geometry'].to_crs(\"+proj=longlat +ellps=WGS84 +datum=WGS84 +no_defs\")\n",
    "sf = sf.rename(columns = {'POA_CODE21': 'Postcode'})\n",
    "\n",
    "# create a JSON \n",
    "geoJSON = sf[['Postcode', 'geometry']].drop_duplicates('Postcode').to_json()\n"
   ]
  },
  {
   "cell_type": "code",
   "execution_count": null,
   "id": "2d30fc9e-9516-437a-b18a-e1e8f737f395",
   "metadata": {},
   "outputs": [],
   "source": [
    "# Merge data with geometry data\n",
    "sf['Postcode'] = sf['Postcode'].astype(int).astype('str')\n",
    "data['Postcode'] = data['Postcode'].astype(int).astype('str')\n",
    "data = data.merge(sf[['Postcode', 'geometry']], left_on = 'Postcode', right_on = 'Postcode')\n"
   ]
  },
  {
   "cell_type": "code",
   "execution_count": null,
   "id": "d523663a-f238-4d18-b76f-3da629d8ee2c",
   "metadata": {},
   "outputs": [],
   "source": [
    "m = folium.Map(location = [-36.9848, 143.3906], tiles = \"Stamen Terrain\", zoom_start = 10)\n",
    "c = folium.Choropleth(\n",
    "     # geoJSON \n",
    "    geo_data = geoJSON,\n",
    "    # name of plot\n",
    "    name ='choropleth',\n",
    "    # data source\n",
    "    data = data, \n",
    "    # the columns required\n",
    "    columns=['Postcode','rate_2023'], \n",
    "    # this is from the geoJSON's properties\n",
    "    key_on='properties.Postcode', \n",
    "    # color scheme\n",
    "    fill_color='YlOrRd', \n",
    "    # Color fill nan\n",
    "    nan_fill_color='white',\n",
    "    # Add legend\n",
    "    legend_name='Top 10 postcode region with higest growth rate'\n",
    "   \n",
    ")\n",
    "\n",
    "c.add_to(m)\n",
    "c.geojson.add_child(\n",
    "    folium.features.GeoJsonTooltip(['Postcode'])\n",
    ")\n",
    "\n",
    "# save the map\n",
    "m.save('../plots/top ten.html')\n",
    "m"
   ]
  },
  {
   "cell_type": "code",
   "execution_count": null,
   "id": "4f13d84f-1913-4ff4-8e65-5b20a5720d60",
   "metadata": {},
   "outputs": [],
   "source": [
    "# Read in data and drop nan\n",
    "livable = pd.read_csv(\"../data/curated/liveable.csv\")\n",
    "livable = livable.dropna()\n",
    "livable = livable.iloc[:,1:]"
   ]
  },
  {
   "cell_type": "code",
   "execution_count": null,
   "id": "c4739ed3-d9e0-4f3e-bfca-19a0aa016b2a",
   "metadata": {},
   "outputs": [],
   "source": [
    "# Calculate scores of each evaluation factors\n",
    "livable['safety level'] = 1/(livable['Crime Count']/livable['Population'])\n",
    "livable['rent/income'] = 1/((52*livable['Weekly Rental Price'])/livable['Income'])\n",
    "livable = livable[['Postcode','safety level', 'rent/income','Count_Station', 'Count_Hospital', 'Count_School', 'Count_Shopping_Center']]\n",
    "livable_con = livable.iloc[:,1:]\n"
   ]
  },
  {
   "cell_type": "code",
   "execution_count": null,
   "id": "0eb51056-5e6e-43a8-82d5-59be583f379e",
   "metadata": {},
   "outputs": [],
   "source": [
    "# Convert all the value into 0-1\n",
    "min_max_scaler = preprocessing.MinMaxScaler()\n",
    "livable_con = min_max_scaler.fit_transform(livable_con)"
   ]
  },
  {
   "cell_type": "code",
   "execution_count": null,
   "id": "bd0544cc-f58a-494d-a8b3-5dd955d56515",
   "metadata": {},
   "outputs": [],
   "source": [
    "# Select safety level above the median\n",
    "livable.iloc[:,1:] = livable_con\n",
    "livable = livable.groupby('Postcode').mean()\n",
    "livable = livable[(livable[\"safety level\"] >= livable[\"safety level\"].median())]"
   ]
  },
  {
   "cell_type": "code",
   "execution_count": null,
   "id": "2508e7f7-0034-4d00-986f-ac60ee3dd11c",
   "metadata": {},
   "outputs": [],
   "source": [
    "# Save the liveability evaluation data\n",
    "livable[\"Postcode\"] = livable.index\n",
    "livable.dropna()\n",
    "livable.to_csv(\"../data/curated/radar.csv\")"
   ]
  },
  {
   "cell_type": "code",
   "execution_count": null,
   "id": "ed7ca70b-d7cc-4dc3-83a7-602f7c94b2cb",
   "metadata": {},
   "outputs": [],
   "source": [
    "import numpy as np\n",
    "import pandas as pd\n",
    "import shapely.geometry\n",
    "import plotly.graph_objects as go\n",
    "\n",
    "def area(row):\n",
    "    '''This function takes the rows of dataframe as the input, and give area of the radar plot as output'''\n",
    "    # The six evaluation factors \n",
    "    categories = ['safety level', 'rent/income', 'Count_Station', 'Count_Hospital', \n",
    "                  'Count_School', 'Count_Shopping_Center']  # fmt: skip\n",
    "\n",
    "    fig = go.Figure()\n",
    "    fig.add_trace(\n",
    "        go.Scatterpolar(\n",
    "        r = list(livable.iloc[row,0:6]), theta=categories, fill=\"toself\", name = str(livable.iloc[row,6])))\n",
    "    \n",
    "    # Calclulate the area of the radar plot\n",
    "    df = pd.concat([\n",
    "        pd.DataFrame({\"r\": t.r, \"theta\": t.theta, \"trace\": np.full(len(t.r), t.name)})\n",
    "        for t in fig.data])\n",
    "    df[\"theta_n\"] = pd.factorize(df[\"theta\"])[0]\n",
    "    df[\"theta_radian\"] = (df[\"theta_n\"] / (df[\"theta_n\"].max() + 1)) * 2 * np.pi\n",
    "    df[\"x\"] = np.cos(df[\"theta_radian\"]) * df[\"r\"]\n",
    "    df[\"y\"] = np.sin(df[\"theta_radian\"]) * df[\"r\"]\n",
    "    df_a = df.groupby(\"trace\").apply(lambda d: shapely.geometry.MultiPoint(list(zip(d[\"x\"], d[\"y\"]))).convex_hull.area)\n",
    "    \n",
    "    return df_a\n",
    "\n",
    "# Create a new list to store the area of each row\n",
    "area_list = []\n",
    "for row in range(0, len(livable.index)):\n",
    "    result = area(row)\n",
    "    radar_area = result[str(livable.iloc[row,6])]\n",
    "    area_list.append(radar_area)\n",
    "\n",
    "# Add new list into the data\n",
    "livable.insert(0,\"Radar Area\", area_list)  \n",
    "livable.to_csv(\"../data/curated/radar.csv\")\n",
    "livable"
   ]
  },
  {
   "cell_type": "code",
   "execution_count": null,
   "id": "55918b33-9188-44f9-9c6f-8a4f449a597e",
   "metadata": {},
   "outputs": [],
   "source": [
    "# Loop through the data and find out the top\n",
    "max_area = 0\n",
    "max_i = 0\n",
    "for i in range(0,len(area_list)):\n",
    "    if float(area_list[i]) >= max_area:\n",
    "        max_area = area_list[i]\n",
    "        max_i = i\n",
    "print(max_area)\n",
    "print(max_i)\n",
    "print(str(livable.iloc[53]))"
   ]
  },
  {
   "cell_type": "code",
   "execution_count": null,
   "id": "513d11e8-361d-4b0f-a4f6-cd7059a0e7cb",
   "metadata": {},
   "outputs": [],
   "source": [
    "# Sort the data, and find out the top three area \n",
    "livable = livable.sort_values(by=['Radar Area'], ascending=False)\n",
    "livable = livable.head(3)\n",
    "livable.index = [0,1,2]\n",
    "livable.head(5)"
   ]
  },
  {
   "cell_type": "code",
   "execution_count": null,
   "id": "8df49d8f-9795-4a30-bf12-99007eab894c",
   "metadata": {},
   "outputs": [],
   "source": [
    "# Convert some score for a better visulization \n",
    "livable[\"safety level\"] = livable[\"safety level\"]*10\n",
    "livable[\"rent/income\"] = livable[\"rent/income\"]*100"
   ]
  },
  {
   "cell_type": "code",
   "execution_count": null,
   "id": "3687466a-15f6-4f18-9d5e-16d0fc2a2620",
   "metadata": {},
   "outputs": [],
   "source": [
    "# Draw radar plot for the top 3\n",
    "categories = ['Safety level', 'Affordable', 'Transportation', 'Hospital', \n",
    "                  'School', 'Shopping']\n",
    "\n",
    "# Plot of top 1\n",
    "fig = go.Figure()\n",
    "fig.add_trace(\n",
    "        go.Scatterpolar(\n",
    "        r = list(livable.iloc[0,1:7]), theta=categories, fill=\"toself\",\n",
    "            line =  dict(color = 'gold'), name = str(livable.iloc[0,7])))\n",
    "fig.update_layout(\n",
    "    showlegend=True,\n",
    "    title = dict(text = str(livable.iloc[0,7])),\n",
    "    polar=dict(radialaxis=dict(visible=True, range=[0, 0.5])))"
   ]
  },
  {
   "cell_type": "code",
   "execution_count": null,
   "id": "b180f3a8-1554-45ee-8e66-018277b7161e",
   "metadata": {},
   "outputs": [],
   "source": [
    "# Plot of top 2\n",
    "fig = go.Figure()\n",
    "fig.add_trace(\n",
    "        go.Scatterpolar(\n",
    "        r = list(livable.iloc[1,1:7]), theta=categories, fill=\"toself\",\n",
    "            line =  dict(color = 'silver'), name = str(livable.iloc[1,7])))\n",
    "fig.update_layout(\n",
    "    showlegend=True,\n",
    "    polar=dict(radialaxis=dict(visible=True, range=[0, 0.5])))"
   ]
  },
  {
   "cell_type": "code",
   "execution_count": null,
   "id": "7bd0fda2-3cb1-40cf-92d1-cf0c5d9ceb1f",
   "metadata": {},
   "outputs": [],
   "source": [
    "# Plot of top 3\n",
    "fig = go.Figure()\n",
    "fig.add_trace(\n",
    "        go.Scatterpolar(\n",
    "        r = list(livable.iloc[2,1:7]), theta=categories, fill=\"toself\",\n",
    "            line =  dict(color = 'orange'), name = str(livable.iloc[2,7])))\n",
    "fig.update_layout(\n",
    "    showlegend=True,\n",
    "    polar=dict(radialaxis=dict(visible=True, range=[0, 0.5])))"
   ]
  },
  {
   "cell_type": "code",
   "execution_count": null,
   "id": "76a83f8c-c192-4c57-86ee-a1702af38041",
   "metadata": {},
   "outputs": [],
   "source": []
  },
  {
   "cell_type": "code",
   "execution_count": null,
   "id": "7cabf21c-b9ca-4067-9e82-40814dd43c25",
   "metadata": {},
   "outputs": [],
   "source": []
  }
 ],
 "metadata": {
  "kernelspec": {
   "display_name": "Python 3.8.2 64-bit",
   "language": "python",
   "name": "python3"
  },
  "language_info": {
   "codemirror_mode": {
    "name": "ipython",
    "version": 3
   },
   "file_extension": ".py",
   "mimetype": "text/x-python",
   "name": "python",
   "nbconvert_exporter": "python",
   "pygments_lexer": "ipython3",
   "version": "3.8.2"
  },
  "vscode": {
   "interpreter": {
    "hash": "31f2aee4e71d21fbe5cf8b01ff0e069b9275f58929596ceb00d14d90e3e16cd6"
   }
  }
 },
 "nbformat": 4,
 "nbformat_minor": 5
}
