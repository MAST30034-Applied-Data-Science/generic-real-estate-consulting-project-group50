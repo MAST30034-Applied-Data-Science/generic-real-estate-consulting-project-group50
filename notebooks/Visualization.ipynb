{
 "cells": [
  {
   "cell_type": "code",
   "execution_count": null,
   "metadata": {},
   "outputs": [],
   "source": [
    "import pandas as pd\n",
    "import geopandas as gpd\n",
    "import folium\n",
    "\n",
    "# read the shape file\n",
    "#sf = gpd.read_file(\"../data/raw/POA_2021_AUST_GDA94.shp\")\n",
    "sf = gpd.read_file(\"../data/raw/POA_2021_AUST_GDA94.shp\")\n",
    "sf = sf.iloc[672:1366]\n",
    "\n",
    "# Convert the geometry shaape to to latitude and longitude\n",
    "# Please attribute this if you are using it\n",
    "sf['geometry'] = sf['geometry'].to_crs(\"+proj=longlat +ellps=WGS84 +datum=WGS84 +no_defs\")\n",
    "sf = sf.rename(columns={'POA_CODE21': 'Postcode'})\n",
    "\n",
    "# create a JSON \n",
    "geoJSON = sf[['Postcode', 'geometry']].drop_duplicates('Postcode').to_json()\n"
   ]
  },
  {
   "cell_type": "code",
   "execution_count": null,
   "metadata": {},
   "outputs": [],
   "source": [
    "# Population Distribution\n",
    "livable = pd.read_csv('../data/curated/liveable.csv')\n",
    "#livable = livable[['Postcode', 'Crime Count']]\n",
    "sf['Postcode']=sf['Postcode'].astype(int).astype('str')\n",
    "livable['Postcode'] = livable['Postcode'].astype(int).astype('str')\n",
    "livable = livable.merge(sf[['Postcode', 'geometry']], left_on='Postcode', right_on='Postcode')\n",
    "#livable[livable['Income Per Person'].isna()]"
   ]
  },
  {
   "cell_type": "code",
   "execution_count": null,
   "metadata": {},
   "outputs": [],
   "source": [
    "# plot the counts on geo map\n",
    "m = folium.Map(location=[-36.9848, 143.3906], tiles=\"Stamen Terrain\", zoom_start=10)\n",
    "c = folium.Choropleth(\n",
    "    geo_data=geoJSON, # geoJSON \n",
    "    name='choropleth', # name of plot\n",
    "    data= livable, # data source\n",
    "    columns=['Postcode','Crime Count'], # the columns required\n",
    "    key_on='properties.Postcode', # this is from the geoJSON's properties\n",
    "    fill_color='YlOrRd', # color scheme\n",
    "    nan_fill_color='white',\n",
    "    legend_name='Crime Count Distribution'\n",
    ")\n",
    "c.add_to(m)\n",
    "\n",
    "# save the map\n",
    "m.save('../plots/crime_count.html')\n",
    "\n",
    "m"
   ]
  },
  {
   "cell_type": "code",
   "execution_count": null,
   "metadata": {},
   "outputs": [],
   "source": [
    "# plot the counts on geo map\n",
    "m = folium.Map(location=[-36.9848, 143.3906], tiles=\"Stamen Terrain\", zoom_start=10)\n",
    "c = folium.Choropleth(\n",
    "    geo_data=geoJSON, # geoJSON \n",
    "    name='choropleth', # name of plot\n",
    "    data=livable, # data source\n",
    "    columns=['Postcode','Weekly Rental Price'], # the columns required\n",
    "    key_on='properties.Postcode', # this is from the geoJSON's properties\n",
    "    fill_color='YlOrRd', # color scheme\n",
    "    nan_fill_color='white',\n",
    "    legend_name='Weekly Rental Price Distribution'\n",
    ")\n",
    "c.add_to(m)\n",
    "# save the map\n",
    "m.save('../plots/weekly_rental_price.html')\n",
    "\n",
    "m"
   ]
  },
  {
   "cell_type": "code",
   "execution_count": null,
   "metadata": {},
   "outputs": [],
   "source": [
    "# plot the counts on geo map\n",
    "m = folium.Map(location=[-36.9848, 143.3906], tiles=\"Stamen Terrain\", zoom_start=10)\n",
    "c = folium.Choropleth(\n",
    "    geo_data=geoJSON, # geoJSON \n",
    "    name='choropleth', # name of plot\n",
    "    data=livable, # data source\n",
    "    columns=['Postcode','Count_Station'], # the columns required\n",
    "    key_on='properties.Postcode', # this is from the geoJSON's properties\n",
    "    fill_color='YlOrRd', # color scheme\n",
    "    nan_fill_color='white',\n",
    "    legend_name='Station Number Distribution'\n",
    ")\n",
    "c.add_to(m)\n",
    "# save the map\n",
    "m.save('../plots/count_station.html')\n",
    "\n",
    "m"
   ]
  },
  {
   "cell_type": "code",
   "execution_count": null,
   "metadata": {},
   "outputs": [],
   "source": [
    "# plot the counts on geo map\n",
    "m = folium.Map(location=[-36.9848, 143.3906], tiles=\"Stamen Terrain\", zoom_start=10)\n",
    "c = folium.Choropleth(\n",
    "    geo_data=geoJSON, # geoJSON \n",
    "    name='choropleth', # name of plot\n",
    "    data=livable, # data source\n",
    "    columns=['Postcode','Count_Hospital'], # the columns required\n",
    "    key_on='properties.Postcode', # this is from the geoJSON's properties\n",
    "    fill_color='YlOrRd', # color scheme\n",
    "    nan_fill_color='white',\n",
    "    legend_name='Hospital Number Distribution'\n",
    ")\n",
    "c.add_to(m)\n",
    "# save the map\n",
    "m.save('../plots/count_hospital.html')\n",
    "\n",
    "m"
   ]
  },
  {
   "cell_type": "code",
   "execution_count": null,
   "metadata": {},
   "outputs": [],
   "source": [
    "# plot the counts on geo map\n",
    "m = folium.Map(location=[-36.9848, 143.3906], tiles=\"Stamen Terrain\", zoom_start=10)\n",
    "c = folium.Choropleth(\n",
    "    geo_data=geoJSON, # geoJSON \n",
    "    name='choropleth', # name of plot\n",
    "    data=livable, # data source\n",
    "    columns=['Postcode','Count_School'], # the columns required\n",
    "    key_on='properties.Postcode', # this is from the geoJSON's properties\n",
    "    fill_color='YlOrRd', # color scheme\n",
    "    nan_fill_color='white',\n",
    "    legend_name='School Number Distribution'\n",
    ")\n",
    "c.add_to(m)\n",
    "# save the map\n",
    "m.save('../plots/count_school.html')\n",
    "\n",
    "m"
   ]
  },
  {
   "cell_type": "code",
   "execution_count": null,
   "metadata": {},
   "outputs": [],
   "source": [
    "# plot the counts on geo map\n",
    "m = folium.Map(location=[-36.9848, 143.3906], tiles=\"Stamen Terrain\", zoom_start=10)\n",
    "c = folium.Choropleth(\n",
    "    geo_data=geoJSON, # geoJSON \n",
    "    name='choropleth', # name of plot\n",
    "    data=livable, # data source\n",
    "    columns=['Postcode','Count_Shopping_Center'], # the columns required\n",
    "    key_on='properties.Postcode', # this is from the geoJSON's properties\n",
    "    fill_color='YlOrRd', # color scheme\n",
    "    nan_fill_color='white',\n",
    "    legend_name='Shopping Center Number Distribution'\n",
    ")\n",
    "c.add_to(m)\n",
    "# save the map\n",
    "m.save('../plots/count_shopping_center.html')\n",
    "\n",
    "m"
   ]
  },
  {
   "cell_type": "code",
   "execution_count": null,
   "metadata": {},
   "outputs": [],
   "source": []
  }
 ],
 "metadata": {
  "kernelspec": {
   "display_name": "Python 3.8.2 ('ads')",
   "language": "python",
   "name": "python3"
  },
  "language_info": {
   "codemirror_mode": {
    "name": "ipython",
    "version": 3
   },
   "file_extension": ".py",
   "mimetype": "text/x-python",
   "name": "python",
   "nbconvert_exporter": "python",
   "pygments_lexer": "ipython3",
   "version": "3.8.2"
  },
  "vscode": {
   "interpreter": {
    "hash": "414cb9fa04f654c041aa521894d828fe84bbd583e983a01391b145f47fd76182"
   }
  }
 },
 "nbformat": 4,
 "nbformat_minor": 4
}
