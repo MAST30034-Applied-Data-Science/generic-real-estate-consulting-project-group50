{
 "cells": [
  {
   "cell_type": "code",
   "execution_count": null,
   "metadata": {},
   "outputs": [],
   "source": [
    "import pandas as pd\n",
    "import geopandas as gpd\n",
    "import folium\n",
    "\n",
    "# read the shape file\n",
    "#sf = gpd.read_file(\"../data/raw/POA_2021_AUST_GDA94.shp\")\n",
    "sf = gpd.read_file(\"../data/raw/POA_2021_AUST_GDA94.shp\")\n",
    "sf = sf.iloc[672:1366]"
   ]
  },
  {
   "cell_type": "code",
   "execution_count": null,
   "metadata": {},
   "outputs": [],
   "source": [
    "# Convert the geometry shaape to to latitude and longitude\n",
    "# Please attribute this if you are using it\n",
    "sf['geometry'] = sf['geometry'].to_crs(\"+proj=longlat +ellps=WGS84 +datum=WGS84 +no_defs\")\n",
    "sf = sf.rename(columns={'POA_CODE21': 'Postcode'})"
   ]
  },
  {
   "cell_type": "code",
   "execution_count": null,
   "metadata": {},
   "outputs": [],
   "source": [
    "# create a JSON \n",
    "geoJSON = sf[['Postcode', 'geometry']].drop_duplicates('Postcode').to_json()\n"
   ]
  },
  {
   "cell_type": "code",
   "execution_count": null,
   "metadata": {},
   "outputs": [],
   "source": [
    "#_map = folium.Map(location=[143.73, -37.56], tiles=\"Stamen Terrain\", zoom_start=10)\n",
    "# refer to the folium documentations on how to plot aggregated data.\n",
    "#_map.add_child(folium.Choropleth(\n",
    "    #geo_data=geoJSON,\n",
    "    #name='choropleth',\n",
    "#))"
   ]
  },
  {
   "cell_type": "code",
   "execution_count": null,
   "metadata": {},
   "outputs": [],
   "source": [
    "# income Distribution\n",
    "\n",
    "income = pd.read_csv('../data/curated/predict_income.csv')\n",
    "\n",
    "income = income[['Postcode', '2022']]\n",
    "\n",
    "postcode = sf['Postcode'].astype(int).astype('str')\n",
    "income['Postcode'] = income['Postcode'].astype(int).astype('str')\n",
    "\n",
    "income = pd.merge(income, postcode, on='Postcode', how='right')"
   ]
  },
  {
   "cell_type": "code",
   "execution_count": null,
   "metadata": {},
   "outputs": [],
   "source": [
    "# plot the counts on geo map\n",
    "m = folium.Map(location=[-36.9848, 143.3906], tiles=\"Stamen Terrain\", zoom_start=10)\n",
    "\n",
    "c = folium.Choropleth(\n",
    "    geo_data=geoJSON, # geoJSON \n",
    "    name='choropleth', # name of plot\n",
    "    data=income, # data source\n",
    "    columns=['Postcode','2022'], # the columns required\n",
    "    key_on='properties.Postcode', # this is from the geoJSON's properties\n",
    "    fill_color='YlOrRd', # color scheme\n",
    "    nan_fill_color='white',\n",
    "    legend_name='Income Distribution'\n",
    ")\n",
    "\n",
    "c.add_to(m)\n",
    "\n",
    "# save the map\n",
    "m.save('../plots/income distribution.html')\n",
    "\n",
    "m"
   ]
  }
 ],
 "metadata": {
  "kernelspec": {
   "display_name": "Python 3.8.13 ('ads')",
   "language": "python",
   "name": "python3"
  },
  "language_info": {
   "codemirror_mode": {
    "name": "ipython",
    "version": 3
   },
   "file_extension": ".py",
   "mimetype": "text/x-python",
   "name": "python",
   "nbconvert_exporter": "python",
   "pygments_lexer": "ipython3",
   "version": "3.8.13"
  },
  "vscode": {
   "interpreter": {
    "hash": "f1e7dfa4028ecbdedcddc863972528864aea52c12c7614bc4f4c47ec76e77350"
   }
  }
 },
 "nbformat": 4,
 "nbformat_minor": 4
}
